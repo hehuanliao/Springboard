{
 "cells": [
  {
   "cell_type": "markdown",
   "metadata": {},
   "source": [
    "# COVID 19 Vaccines"
   ]
  },
  {
   "cell_type": "markdown",
   "metadata": {},
   "source": [
    "This notebook is to practice storytelling skills using COVID-19 vaccines dataset from [The Milken Institute's FasterCures project](https://covid-19tracker.milkeninstitute.org/#about). \n",
    "\n",
    "Main questions:\n",
    "* How many vaccines have been tracked?\n",
    "* What platforms have been used to build vaccines?\n",
    "* What phases are the vaccines in?\n"
   ]
  },
  {
   "cell_type": "code",
   "execution_count": 1,
   "metadata": {},
   "outputs": [],
   "source": [
    "# load basic libraries\n",
    "import numpy as np\n",
    "import pandas as pd\n",
    "import matplotlib.pyplot as plt\n",
    "import seaborn as sns\n",
    "\n",
    "%matplotlib inline"
   ]
  },
  {
   "cell_type": "code",
   "execution_count": 2,
   "metadata": {},
   "outputs": [],
   "source": [
    "# load dataset\n",
    "vac = pd.read_csv('COVID-19 Tracker-Vaccines.csv')"
   ]
  },
  {
   "cell_type": "code",
   "execution_count": 3,
   "metadata": {},
   "outputs": [
    {
     "data": {
      "text/html": [
       "<div>\n",
       "<style scoped>\n",
       "    .dataframe tbody tr th:only-of-type {\n",
       "        vertical-align: middle;\n",
       "    }\n",
       "\n",
       "    .dataframe tbody tr th {\n",
       "        vertical-align: top;\n",
       "    }\n",
       "\n",
       "    .dataframe thead th {\n",
       "        text-align: right;\n",
       "    }\n",
       "</style>\n",
       "<table border=\"1\" class=\"dataframe\">\n",
       "  <thead>\n",
       "    <tr style=\"text-align: right;\">\n",
       "      <th></th>\n",
       "      <th>Developer / Researcher</th>\n",
       "      <th>Treatment vs. Vaccine</th>\n",
       "      <th>Product Category</th>\n",
       "      <th>Stage of Development</th>\n",
       "      <th>Anticipated Next Steps</th>\n",
       "      <th>Product Description</th>\n",
       "      <th>Clinical Trials for COVID-19</th>\n",
       "      <th>Funder</th>\n",
       "      <th>Published Results</th>\n",
       "      <th>Clinical Trials for Other Diseases (T only) / Related Use or Platform (V only)</th>\n",
       "      <th>FDA-Approved Indications</th>\n",
       "      <th>Sources</th>\n",
       "      <th>Date Last Updated</th>\n",
       "    </tr>\n",
       "  </thead>\n",
       "  <tbody>\n",
       "    <tr>\n",
       "      <th>0</th>\n",
       "      <td>Genexine Consortium (GenNBio, International Va...</td>\n",
       "      <td>Vaccine</td>\n",
       "      <td>DNA-based</td>\n",
       "      <td>Phase I/II</td>\n",
       "      <td>Phase I/II study: Phase I began end of June 20...</td>\n",
       "      <td>DNA; (GX-19)</td>\n",
       "      <td>NCT04445389</td>\n",
       "      <td>Unknown</td>\n",
       "      <td>NaN</td>\n",
       "      <td>NaN</td>\n",
       "      <td>NaN</td>\n",
       "      <td>https://docs.google.com/document/d/1Y4nCJJ4njz...</td>\n",
       "      <td>9/29/2020</td>\n",
       "    </tr>\n",
       "    <tr>\n",
       "      <th>1</th>\n",
       "      <td>Inovio Pharmaceuticals/ Beijing Advaccine Biot...</td>\n",
       "      <td>Vaccine</td>\n",
       "      <td>DNA-based</td>\n",
       "      <td>Phase I/II</td>\n",
       "      <td>FDA partial clinical hold for planned Phase II...</td>\n",
       "      <td>DNA; (INO-4800) plasmid vaccine with electropo...</td>\n",
       "      <td>NCT04336410, NCT04447781</td>\n",
       "      <td>Coalition for Epidemic Preparedness (CEPI) / G...</td>\n",
       "      <td>Inovio (http://ir.inovio.com/news-releases/new...</td>\n",
       "      <td>Same platform as multiple vaccine candidates</td>\n",
       "      <td>NaN</td>\n",
       "      <td>https://docs.google.com/document/d/1Y4nCJJ4njz...</td>\n",
       "      <td>9/28/2020</td>\n",
       "    </tr>\n",
       "    <tr>\n",
       "      <th>2</th>\n",
       "      <td>Osaka University/ AnGes/ Takara Bio/ Cytiva/ B...</td>\n",
       "      <td>Vaccine</td>\n",
       "      <td>DNA-based</td>\n",
       "      <td>Phase I/II</td>\n",
       "      <td>Phase I/II began end of June 2020, results exp...</td>\n",
       "      <td>DNA; (AG0301 &amp; AG0302) plasmid vaccine + adjuv...</td>\n",
       "      <td>NCT04463472, NCT04527081</td>\n",
       "      <td>Unknown</td>\n",
       "      <td>NaN</td>\n",
       "      <td>NaN</td>\n",
       "      <td>NaN</td>\n",
       "      <td>https://docs.google.com/document/d/1Y4nCJJ4njz...</td>\n",
       "      <td>9/23/2020</td>\n",
       "    </tr>\n",
       "    <tr>\n",
       "      <th>3</th>\n",
       "      <td>Zydus Cadila Healthcare Limited</td>\n",
       "      <td>Vaccine</td>\n",
       "      <td>DNA-based</td>\n",
       "      <td>Phase I/II</td>\n",
       "      <td>Phase I/II study: Phase I began July 2020 and ...</td>\n",
       "      <td>DNA; (ZyCoV-D) plasmid vaccine</td>\n",
       "      <td>CTRI/2020/07/026352</td>\n",
       "      <td>Unknown</td>\n",
       "      <td>NaN</td>\n",
       "      <td>NaN</td>\n",
       "      <td>NaN</td>\n",
       "      <td>https://docs.google.com/document/d/1Y4nCJJ4njz...</td>\n",
       "      <td>9/23/2020</td>\n",
       "    </tr>\n",
       "    <tr>\n",
       "      <th>4</th>\n",
       "      <td>BioNet Asia/ Technovalia/ Vax4COVID/ The Unive...</td>\n",
       "      <td>Vaccine</td>\n",
       "      <td>DNA-based</td>\n",
       "      <td>Pre-clinical</td>\n",
       "      <td>Phase I/Ib expected to be dosed October 2020</td>\n",
       "      <td>DNA; (COVIGEN) needle-free delivery</td>\n",
       "      <td>NaN</td>\n",
       "      <td>Australian Government Medical Research Future ...</td>\n",
       "      <td>NaN</td>\n",
       "      <td>NaN</td>\n",
       "      <td>NaN</td>\n",
       "      <td>https://docs.google.com/document/d/1Y4nCJJ4njz...</td>\n",
       "      <td>10/7/2020</td>\n",
       "    </tr>\n",
       "  </tbody>\n",
       "</table>\n",
       "</div>"
      ],
      "text/plain": [
       "                              Developer / Researcher Treatment vs. Vaccine  \\\n",
       "0  Genexine Consortium (GenNBio, International Va...               Vaccine   \n",
       "1  Inovio Pharmaceuticals/ Beijing Advaccine Biot...               Vaccine   \n",
       "2  Osaka University/ AnGes/ Takara Bio/ Cytiva/ B...               Vaccine   \n",
       "3                   Zydus Cadila Healthcare Limited                Vaccine   \n",
       "4  BioNet Asia/ Technovalia/ Vax4COVID/ The Unive...               Vaccine   \n",
       "\n",
       "  Product Category Stage of Development  \\\n",
       "0        DNA-based           Phase I/II   \n",
       "1        DNA-based           Phase I/II   \n",
       "2        DNA-based           Phase I/II   \n",
       "3        DNA-based           Phase I/II   \n",
       "4        DNA-based         Pre-clinical   \n",
       "\n",
       "                              Anticipated Next Steps  \\\n",
       "0  Phase I/II study: Phase I began end of June 20...   \n",
       "1  FDA partial clinical hold for planned Phase II...   \n",
       "2  Phase I/II began end of June 2020, results exp...   \n",
       "3  Phase I/II study: Phase I began July 2020 and ...   \n",
       "4       Phase I/Ib expected to be dosed October 2020   \n",
       "\n",
       "                                 Product Description  \\\n",
       "0                                       DNA; (GX-19)   \n",
       "1  DNA; (INO-4800) plasmid vaccine with electropo...   \n",
       "2  DNA; (AG0301 & AG0302) plasmid vaccine + adjuv...   \n",
       "3                    DNA; (ZyCoV-D) plasmid vaccine    \n",
       "4                DNA; (COVIGEN) needle-free delivery   \n",
       "\n",
       "  Clinical Trials for COVID-19  \\\n",
       "0                  NCT04445389   \n",
       "1     NCT04336410, NCT04447781   \n",
       "2     NCT04463472, NCT04527081   \n",
       "3          CTRI/2020/07/026352   \n",
       "4                          NaN   \n",
       "\n",
       "                                              Funder  \\\n",
       "0                                            Unknown   \n",
       "1  Coalition for Epidemic Preparedness (CEPI) / G...   \n",
       "2                                            Unknown   \n",
       "3                                            Unknown   \n",
       "4  Australian Government Medical Research Future ...   \n",
       "\n",
       "                                   Published Results  \\\n",
       "0                                                NaN   \n",
       "1  Inovio (http://ir.inovio.com/news-releases/new...   \n",
       "2                                                NaN   \n",
       "3                                                NaN   \n",
       "4                                                NaN   \n",
       "\n",
       "  Clinical Trials for Other Diseases (T only) / Related Use or Platform (V only)  \\\n",
       "0                                                NaN                               \n",
       "1       Same platform as multiple vaccine candidates                               \n",
       "2                                                NaN                               \n",
       "3                                                NaN                               \n",
       "4                                                NaN                               \n",
       "\n",
       "   FDA-Approved Indications  \\\n",
       "0                       NaN   \n",
       "1                       NaN   \n",
       "2                       NaN   \n",
       "3                       NaN   \n",
       "4                       NaN   \n",
       "\n",
       "                                             Sources Date Last Updated  \n",
       "0  https://docs.google.com/document/d/1Y4nCJJ4njz...         9/29/2020  \n",
       "1  https://docs.google.com/document/d/1Y4nCJJ4njz...         9/28/2020  \n",
       "2  https://docs.google.com/document/d/1Y4nCJJ4njz...         9/23/2020  \n",
       "3  https://docs.google.com/document/d/1Y4nCJJ4njz...         9/23/2020  \n",
       "4  https://docs.google.com/document/d/1Y4nCJJ4njz...         10/7/2020  "
      ]
     },
     "execution_count": 3,
     "metadata": {},
     "output_type": "execute_result"
    }
   ],
   "source": [
    "vac.head()"
   ]
  },
  {
   "cell_type": "code",
   "execution_count": 4,
   "metadata": {},
   "outputs": [],
   "source": [
    "vac.dropna(how='any',axis=1,inplace=True)"
   ]
  },
  {
   "cell_type": "code",
   "execution_count": 5,
   "metadata": {},
   "outputs": [],
   "source": [
    "vac['Date Last Updated'] = vac['Date Last Updated'].apply(func=lambda x: x.split()[-1])\n",
    "vac['Date Last Updated'] = pd.to_datetime(vac['Date Last Updated'],format='%m/%d/%Y')"
   ]
  },
  {
   "cell_type": "code",
   "execution_count": 6,
   "metadata": {},
   "outputs": [
    {
     "name": "stdout",
     "output_type": "stream",
     "text": [
      "<class 'pandas.core.frame.DataFrame'>\n",
      "RangeIndex: 213 entries, 0 to 212\n",
      "Data columns (total 9 columns):\n",
      " #   Column                  Non-Null Count  Dtype         \n",
      "---  ------                  --------------  -----         \n",
      " 0   Developer / Researcher  213 non-null    object        \n",
      " 1   Treatment vs. Vaccine   213 non-null    object        \n",
      " 2   Product Category        213 non-null    object        \n",
      " 3   Stage of Development    213 non-null    object        \n",
      " 4   Anticipated Next Steps  213 non-null    object        \n",
      " 5   Product Description     213 non-null    object        \n",
      " 6   Funder                  213 non-null    object        \n",
      " 7   Sources                 213 non-null    object        \n",
      " 8   Date Last Updated       213 non-null    datetime64[ns]\n",
      "dtypes: datetime64[ns](1), object(8)\n",
      "memory usage: 15.1+ KB\n"
     ]
    }
   ],
   "source": [
    "vac.info()"
   ]
  },
  {
   "cell_type": "code",
   "execution_count": 7,
   "metadata": {},
   "outputs": [
    {
     "name": "stderr",
     "output_type": "stream",
     "text": [
      "/Users/hhl/opt/anaconda3/lib/python3.7/site-packages/ipykernel_launcher.py:1: FutureWarning: Treating datetime data as categorical rather than numeric in `.describe` is deprecated and will be removed in a future version of pandas. Specify `datetime_is_numeric=True` to silence this warning and adopt the future behavior now.\n",
      "  \"\"\"Entry point for launching an IPython kernel.\n"
     ]
    },
    {
     "data": {
      "text/plain": [
       "count                     213\n",
       "unique                     56\n",
       "top       2020-04-20 00:00:00\n",
       "freq                       41\n",
       "first     2020-04-20 00:00:00\n",
       "last      2020-10-09 00:00:00\n",
       "Name: Date Last Updated, dtype: object"
      ]
     },
     "execution_count": 7,
     "metadata": {},
     "output_type": "execute_result"
    }
   ],
   "source": [
    "vac['Date Last Updated'].describe()"
   ]
  },
  {
   "cell_type": "markdown",
   "metadata": {},
   "source": [
    "## --> As of 10/09/2020, a total of 213 vaccines have been tracked. "
   ]
  },
  {
   "cell_type": "markdown",
   "metadata": {},
   "source": [
    "# What platforms have been used to develop vaccines against COVID-19? "
   ]
  },
  {
   "cell_type": "code",
   "execution_count": 8,
   "metadata": {},
   "outputs": [
    {
     "data": {
      "text/plain": [
       "Protein subunit                 71\n",
       "RNA-based vaccine               27\n",
       "Non-replicating viral vector    26\n",
       "Unknown                         18\n",
       "Replicating viral vector        18\n",
       "DNA-based                       17\n",
       "Virus-like particle             16\n",
       "Inactivated virus               14\n",
       "Live attenuated virus            4\n",
       "Replicating bacterial vector     2\n",
       "Name: Product Category, dtype: int64"
      ]
     },
     "execution_count": 8,
     "metadata": {},
     "output_type": "execute_result"
    }
   ],
   "source": [
    "vac['Product Category'].value_counts()"
   ]
  },
  {
   "cell_type": "code",
   "execution_count": 14,
   "metadata": {},
   "outputs": [
    {
     "data": {
      "text/plain": [
       "[Text(0, 0, 'Protein subunit'),\n",
       " Text(1, 0, 'RNA-based vaccine'),\n",
       " Text(2, 0, 'Non-replicating viral vector'),\n",
       " Text(3, 0, 'Unknown'),\n",
       " Text(4, 0, 'Replicating viral vector'),\n",
       " Text(5, 0, 'DNA-based'),\n",
       " Text(6, 0, 'Virus-like particle'),\n",
       " Text(7, 0, 'Inactivated virus'),\n",
       " Text(8, 0, 'Live attenuated virus'),\n",
       " Text(9, 0, 'Replicating bacterial vector')]"
      ]
     },
     "execution_count": 14,
     "metadata": {},
     "output_type": "execute_result"
    },
    {
     "data": {
      "image/png": "[encoded data removed]",
      "text/plain": [
       "<Figure size 864x432 with 1 Axes>"
      ]
     },
     "metadata": {
      "needs_background": "light"
     },
     "output_type": "display_data"
    }
   ],
   "source": [
    "_, ax = plt.subplots(figsize=(12,6))\n",
    "ax=sns.countplot(x='Product Category',data=vac, order = vac['Product Category'].value_counts().index, ax=ax)\n",
    "ax.set_xticklabels(ax.get_xticklabels(), rotation=45, ha='right', va='top')"
   ]
  },
  {
   "cell_type": "markdown",
   "metadata": {},
   "source": [
    "# What phases are the vaccines in?"
   ]
  },
  {
   "cell_type": "code",
   "execution_count": 10,
   "metadata": {},
   "outputs": [
    {
     "data": {
      "text/plain": [
       "Pre-clinical    178\n",
       "Phase I/II       13\n",
       "Phase I           9\n",
       "Phase III         8\n",
       "Phase II          4\n",
       "Phase II/III      1\n",
       "Name: Stage of Development, dtype: int64"
      ]
     },
     "execution_count": 10,
     "metadata": {},
     "output_type": "execute_result"
    }
   ],
   "source": [
    "vac['Stage of Development'].value_counts()"
   ]
  },
  {
   "cell_type": "code",
   "execution_count": 13,
   "metadata": {},
   "outputs": [
    {
     "data": {
      "text/plain": [
       "[Text(0, 0, 'Pre-clinical'),\n",
       " Text(1, 0, 'Phase I/II'),\n",
       " Text(2, 0, 'Phase I'),\n",
       " Text(3, 0, 'Phase III'),\n",
       " Text(4, 0, 'Phase II'),\n",
       " Text(5, 0, 'Phase II/III')]"
      ]
     },
     "execution_count": 13,
     "metadata": {},
     "output_type": "execute_result"
    },
    {
     "data": {
      "image/png": "[encoded data removed]",
      "text/plain": [
       "<Figure size 864x432 with 1 Axes>"
      ]
     },
     "metadata": {
      "needs_background": "light"
     },
     "output_type": "display_data"
    }
   ],
   "source": [
    "_, ax = plt.subplots(figsize=(12,6))\n",
    "ax=sns.countplot(x='Stage of Development',data=vac, order = vac['Stage of Development'].value_counts().index, ax=ax)\n",
    "ax.set_xticklabels(ax.get_xticklabels(), rotation=45, ha='right', va='top')"
   ]
  },
  {
   "cell_type": "markdown",
   "metadata": {},
   "source": [
    "# Who are the developers who have Phase III vaccines"
   ]
  },
  {
   "cell_type": "code",
   "execution_count": 16,
   "metadata": {},
   "outputs": [],
   "source": [
    "Phase3 = vac.loc[vac['Stage of Development']=='Phase III',:]"
   ]
  },
  {
   "cell_type": "code",
   "execution_count": 17,
   "metadata": {},
   "outputs": [
    {
     "data": {
      "text/html": [
       "<div>\n",
       "<style scoped>\n",
       "    .dataframe tbody tr th:only-of-type {\n",
       "        vertical-align: middle;\n",
       "    }\n",
       "\n",
       "    .dataframe tbody tr th {\n",
       "        vertical-align: top;\n",
       "    }\n",
       "\n",
       "    .dataframe thead th {\n",
       "        text-align: right;\n",
       "    }\n",
       "</style>\n",
       "<table border=\"1\" class=\"dataframe\">\n",
       "  <thead>\n",
       "    <tr style=\"text-align: right;\">\n",
       "      <th></th>\n",
       "      <th>Developer / Researcher</th>\n",
       "      <th>Treatment vs. Vaccine</th>\n",
       "      <th>Product Category</th>\n",
       "      <th>Stage of Development</th>\n",
       "      <th>Anticipated Next Steps</th>\n",
       "      <th>Product Description</th>\n",
       "      <th>Funder</th>\n",
       "      <th>Sources</th>\n",
       "      <th>Date Last Updated</th>\n",
       "    </tr>\n",
       "  </thead>\n",
       "  <tbody>\n",
       "    <tr>\n",
       "      <th>17</th>\n",
       "      <td>Beijing Institute of Biological Products/ Sino...</td>\n",
       "      <td>Vaccine</td>\n",
       "      <td>Inactivated virus</td>\n",
       "      <td>Phase III</td>\n",
       "      <td>Phase III trial began July 2020; Received earl...</td>\n",
       "      <td>Inactivated</td>\n",
       "      <td>Unknown</td>\n",
       "      <td>https://docs.google.com/document/d/1Y4nCJJ4njz...</td>\n",
       "      <td>2020-09-28</td>\n",
       "    </tr>\n",
       "    <tr>\n",
       "      <th>18</th>\n",
       "      <td>Sinovac/ Instituto Butantan/ Bio Farma</td>\n",
       "      <td>Vaccine</td>\n",
       "      <td>Inactivated virus</td>\n",
       "      <td>Phase III</td>\n",
       "      <td>Received approval for Phase I/II trial in adol...</td>\n",
       "      <td>Inactivated (inactivated + alum); CoronaVac (f...</td>\n",
       "      <td>Unknown</td>\n",
       "      <td>https://docs.google.com/document/d/1Y4nCJJ4njz...</td>\n",
       "      <td>2020-09-23</td>\n",
       "    </tr>\n",
       "    <tr>\n",
       "      <th>19</th>\n",
       "      <td>Wuhan Institute of Biological Products/ Sinopharm</td>\n",
       "      <td>Vaccine</td>\n",
       "      <td>Inactivated virus</td>\n",
       "      <td>Phase III</td>\n",
       "      <td>Phase III trial began July 2020; Phase I/II ea...</td>\n",
       "      <td>Inactivated</td>\n",
       "      <td>Unknown</td>\n",
       "      <td>https://docs.google.com/document/d/1Y4nCJJ4njz...</td>\n",
       "      <td>2020-09-28</td>\n",
       "    </tr>\n",
       "    <tr>\n",
       "      <th>35</th>\n",
       "      <td>CanSino Biologics/Beijing Institute of Biotech...</td>\n",
       "      <td>Vaccine</td>\n",
       "      <td>Non-replicating viral vector</td>\n",
       "      <td>Phase III</td>\n",
       "      <td>Phase III dosed September 2020; Phase II began...</td>\n",
       "      <td>Non-replicating viral vector; Adenovirus Type ...</td>\n",
       "      <td>Unknown</td>\n",
       "      <td>https://docs.google.com/document/d/1Y4nCJJ4njz...</td>\n",
       "      <td>2020-09-22</td>\n",
       "    </tr>\n",
       "    <tr>\n",
       "      <th>36</th>\n",
       "      <td>Gamaleya Research Institute</td>\n",
       "      <td>Vaccine</td>\n",
       "      <td>Non-replicating viral vector</td>\n",
       "      <td>Phase III</td>\n",
       "      <td>Phase III (post-registration) trial began Sept...</td>\n",
       "      <td>Adeno-based, Gam-COVID-Vac Lyo (Sputnik V)</td>\n",
       "      <td>Russian Direct Investment Fund (RDIF)</td>\n",
       "      <td>https://docs.google.com/document/d/1Y4nCJJ4njz...</td>\n",
       "      <td>2020-09-28</td>\n",
       "    </tr>\n",
       "    <tr>\n",
       "      <th>37</th>\n",
       "      <td>Janssen Pharmaceutical Companies/ Beth Israel ...</td>\n",
       "      <td>Vaccine</td>\n",
       "      <td>Non-replicating viral vector</td>\n",
       "      <td>Phase III</td>\n",
       "      <td>Phase III trial (ENSEMBLE) began and study pro...</td>\n",
       "      <td>Ad26.COV2-S, Non replicating viral vector; Ad2...</td>\n",
       "      <td>Biomedical Advanced Research and Development A...</td>\n",
       "      <td>https://docs.google.com/document/d/1Y4nCJJ4njz...</td>\n",
       "      <td>2020-09-30</td>\n",
       "    </tr>\n",
       "    <tr>\n",
       "      <th>38</th>\n",
       "      <td>University of Oxford, Oxford Biomedica, Vaccin...</td>\n",
       "      <td>Vaccine</td>\n",
       "      <td>Non-replicating viral vector</td>\n",
       "      <td>Phase III</td>\n",
       "      <td>Study protocol for late-stage clinical trials ...</td>\n",
       "      <td>Non-replicating viral vector; AZD 1222 (former...</td>\n",
       "      <td>Coalition for Epidemic Preparedness Innovation...</td>\n",
       "      <td>https://docs.google.com/document/d/1Y4nCJJ4njz...</td>\n",
       "      <td>2020-10-06</td>\n",
       "    </tr>\n",
       "    <tr>\n",
       "      <th>150</th>\n",
       "      <td>Moderna/ NIAID/ Lonza/ Catalent/ Rovi/ Medidat...</td>\n",
       "      <td>Vaccine</td>\n",
       "      <td>RNA-based vaccine</td>\n",
       "      <td>Phase III</td>\n",
       "      <td>Study protocol for late-stage clinical trials ...</td>\n",
       "      <td>RNA; LNP-encapsulated mRNA (mRNA 1273)</td>\n",
       "      <td>Coalition for Epidemic Preparedness (CEPI)/ Bi...</td>\n",
       "      <td>https://docs.google.com/document/d/1Y4nCJJ4njz...</td>\n",
       "      <td>2020-09-30</td>\n",
       "    </tr>\n",
       "  </tbody>\n",
       "</table>\n",
       "</div>"
      ],
      "text/plain": [
       "                                Developer / Researcher Treatment vs. Vaccine  \\\n",
       "17   Beijing Institute of Biological Products/ Sino...               Vaccine   \n",
       "18              Sinovac/ Instituto Butantan/ Bio Farma               Vaccine   \n",
       "19   Wuhan Institute of Biological Products/ Sinopharm               Vaccine   \n",
       "35   CanSino Biologics/Beijing Institute of Biotech...               Vaccine   \n",
       "36                         Gamaleya Research Institute               Vaccine   \n",
       "37   Janssen Pharmaceutical Companies/ Beth Israel ...               Vaccine   \n",
       "38   University of Oxford, Oxford Biomedica, Vaccin...               Vaccine   \n",
       "150  Moderna/ NIAID/ Lonza/ Catalent/ Rovi/ Medidat...               Vaccine   \n",
       "\n",
       "                 Product Category Stage of Development  \\\n",
       "17              Inactivated virus            Phase III   \n",
       "18              Inactivated virus            Phase III   \n",
       "19              Inactivated virus            Phase III   \n",
       "35   Non-replicating viral vector            Phase III   \n",
       "36   Non-replicating viral vector            Phase III   \n",
       "37   Non-replicating viral vector            Phase III   \n",
       "38   Non-replicating viral vector            Phase III   \n",
       "150             RNA-based vaccine            Phase III   \n",
       "\n",
       "                                Anticipated Next Steps  \\\n",
       "17   Phase III trial began July 2020; Received earl...   \n",
       "18   Received approval for Phase I/II trial in adol...   \n",
       "19   Phase III trial began July 2020; Phase I/II ea...   \n",
       "35   Phase III dosed September 2020; Phase II began...   \n",
       "36   Phase III (post-registration) trial began Sept...   \n",
       "37   Phase III trial (ENSEMBLE) began and study pro...   \n",
       "38   Study protocol for late-stage clinical trials ...   \n",
       "150  Study protocol for late-stage clinical trials ...   \n",
       "\n",
       "                                   Product Description  \\\n",
       "17                                         Inactivated   \n",
       "18   Inactivated (inactivated + alum); CoronaVac (f...   \n",
       "19                                         Inactivated   \n",
       "35   Non-replicating viral vector; Adenovirus Type ...   \n",
       "36          Adeno-based, Gam-COVID-Vac Lyo (Sputnik V)   \n",
       "37   Ad26.COV2-S, Non replicating viral vector; Ad2...   \n",
       "38   Non-replicating viral vector; AZD 1222 (former...   \n",
       "150             RNA; LNP-encapsulated mRNA (mRNA 1273)   \n",
       "\n",
       "                                                Funder  \\\n",
       "17                                             Unknown   \n",
       "18                                             Unknown   \n",
       "19                                             Unknown   \n",
       "35                                             Unknown   \n",
       "36               Russian Direct Investment Fund (RDIF)   \n",
       "37   Biomedical Advanced Research and Development A...   \n",
       "38   Coalition for Epidemic Preparedness Innovation...   \n",
       "150  Coalition for Epidemic Preparedness (CEPI)/ Bi...   \n",
       "\n",
       "                                               Sources Date Last Updated  \n",
       "17   https://docs.google.com/document/d/1Y4nCJJ4njz...        2020-09-28  \n",
       "18   https://docs.google.com/document/d/1Y4nCJJ4njz...        2020-09-23  \n",
       "19   https://docs.google.com/document/d/1Y4nCJJ4njz...        2020-09-28  \n",
       "35   https://docs.google.com/document/d/1Y4nCJJ4njz...        2020-09-22  \n",
       "36   https://docs.google.com/document/d/1Y4nCJJ4njz...        2020-09-28  \n",
       "37   https://docs.google.com/document/d/1Y4nCJJ4njz...        2020-09-30  \n",
       "38   https://docs.google.com/document/d/1Y4nCJJ4njz...        2020-10-06  \n",
       "150  https://docs.google.com/document/d/1Y4nCJJ4njz...        2020-09-30  "
      ]
     },
     "execution_count": 17,
     "metadata": {},
     "output_type": "execute_result"
    }
   ],
   "source": [
    "Phase3"
   ]
  },
  {
   "cell_type": "code",
   "execution_count": null,
   "metadata": {},
   "outputs": [],
   "source": []
  }
 ],
 "metadata": {
  "kernelspec": {
   "display_name": "Python 3",
   "language": "python",
   "name": "python3"
  },
  "language_info": {
   "codemirror_mode": {
    "name": "ipython",
    "version": 3
   },
   "file_extension": ".py",
   "mimetype": "text/x-python",
   "name": "python",
   "nbconvert_exporter": "python",
   "pygments_lexer": "ipython3",
   "version": "3.7.7"
  }
 },
 "nbformat": 4,
 "nbformat_minor": 4
}
