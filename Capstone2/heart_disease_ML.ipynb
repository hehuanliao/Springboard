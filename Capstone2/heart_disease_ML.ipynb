{
 "cells": [
  {
   "cell_type": "markdown",
   "metadata": {},
   "source": [
    "# Predicting heart disease at early stage"
   ]
  },
  {
   "cell_type": "markdown",
   "metadata": {},
   "source": [
    "# 1. Introduction"
   ]
  },
  {
   "cell_type": "markdown",
   "metadata": {},
   "source": [
    "This capstone project, as part of the data science career track program at Springboard, is aimed to develop a predictive model to detect the risk of heart disease at early stage using health parameters that are typical from routine monitoring. Data wrangling, and exploratory data analysis (EDA) were performed on heart disease dataset from UCI Machine Learning Repository. Supervised machine learning algorithms were trained on the training set with default settings, and there performances were evaluated and compared on the test set. The models with best performances were further tuned using grid search cross validation. Finally, a simple interactive dashboard was built to predict the risk of heart disease based on the best model. "
   ]
  },
  {
   "cell_type": "markdown",
   "metadata": {},
   "source": [
    "## 1.1. Problem identification and impact statement\n",
    "***\n",
    "Heart disease is the leading cause of death in the U.S. and worldwide, which produces immense health and economic burdens. In U.S., more than 600,000 people die from heart disease each year (i.e. 1 in every 4 deaths). The heart disease costs associated with heath care services, medicines, and lost productivity due to death is about $219 billion each year [(CDC 2020)](https://www.cdc.gov/heartdisease/). Studies have shown that about 1 in every 3 deaths related to heart diseases are preventable if early action is provided [(MMWR 2014)](https://www.cdc.gov/mmwr/preview/mmwrhtml/mm6317a1.htm). Therefore identifying those at increased risk for heart disease at earliest stage is critical to reduce the mortality associated with heart failure. While genomics, proteomics, and metabolomics have emerged as promising advanced tools to assess risk of disease mechanistically, predictive model based on traditional risk factors (e.g. heath measures typically evaluated in an annual physical) remains an important clinical tool that is rapid, cost-effective, and accurate [(Mosley 2020)](https://jamanetwork.com/journals/jama/article-abstract/2761086). \n",
    "\n",
    "**Given a set of health parameters from routine monitoring, can we robustly predict the risk of heart disease as early as possible?**\n",
    "\n",
    "\n",
    "> <img align='center' width='200' height='150' src=\"hd-facts.jpg\">\n"
   ]
  },
  {
   "cell_type": "markdown",
   "metadata": {},
   "source": [
    "## 1.2. Dataset description\n",
    "\n",
    "The original database contains 76 attributes, but all published studies refer to using a subset of 14 of them. This project used the Cleveland database downloaded from [UCI Machine Learning Repository](https://archive.ics.uci.edu/ml/datasets/Heart+Disease). Below is a description of each of the 14 attributes: \n",
    "\n",
    "\n",
    "| No. | Variable name | Variable description | Data summary |\n",
    "| --- | --- | --- | --- |\n",
    "| 1 | age | age in years | continuous |\n",
    "| 2 | sex | male or female | 0=female; 1=male |\n",
    "| 3 | cp | chest pain type | 1=typical angina<br/> 2=atypical angina<br/> 3=non-anginal pain<br/> 4=asymptomatic |\n",
    "| 4 | trestbps | resting blood pressure | continuous, in mmHg |\n",
    "| 5 | chol | Serum cholesterol | continuous |\n",
    "| 6 | fbs | fasting blood sugar | 0: <=120 mg/dL<br/> 1: >120 mg/dL |\n",
    "| 7 | restecg | resting electrocardiographic results | 0=normal<br/> 1=having ST-T wave abnormal<br/> 2=left ventricular hypertrophy |\n",
    "| 8 | thalach | maximum heart rate achieved | continuous |\n",
    "| 9 | exang | exercise induced angina | 0=no; 1=yes |\n",
    "| 10 | oldpeak | ST depression induced by exercise relative to rest | continuous |\n",
    "| 11 | slope | the slope of the peak exercise ST segment  | 1=upsloping<br/> 2=flat<br/> 3=downsloping |\n",
    "| 12 | ca | number of major vessels colored by flouroscopy | integer, 0-3 |\n",
    "| 13 | thal | a bood disorder called thalassemia | 3=normal<br/> 6=fixed defect<br/> 7=reversable defect |\n",
    "| 14 | target | diagnosis of heart disease | 0=no; 1=yes |"
   ]
  },
  {
   "cell_type": "markdown",
   "metadata": {},
   "source": [
    "## 1.3. Methdology \n",
    "The original data downloaded from UCI Machine Learning Repository was loaded in the python jupyter notebook. The column names was appropriately defined. In addition, we cleaned the raw data by filling missing values, and removing duplicated entries. Furthur, we examined the data types, counts of unique values, transformed the target values into a binary format, and export the clean data. \n",
    "\n",
    "To better understand the data, summary statistics were generated. In addition, the data was visualized via histograms, barplots, boxplots, and a heatmap of correlation matrix. \n",
    "\n",
    "The cleaned data were appropriately pre-processed for modeling. This included creation of dummy features for categorical variables, splitting the dataset into training and test set, and standardizing the magnitude of numeric features. \n",
    "\n",
    "Binary classification models were trained on the training set using default settings. The model performance were evaluated using the test set. Models with high performance were selected for hyperparameter tuning via grid search. The 'recall' score was used for optimization, in order to minimize false negatives during prediction of heart disease. The model with higest recall score as well as high accuracy and roc-auc score was selected as the final model to make future predictions.  \n",
    "\n",
    "Interactive data visualizations are created using plotly and dash. "
   ]
  },
  {
   "cell_type": "markdown",
   "metadata": {},
   "source": [
    "# 2. Data wrangling\n",
    "***\n",
    "* Load data, and define column names\n",
    "* Data cleaning: missing values, duplicates etc.\n",
    "* Export cleaned data into 'data' folder"
   ]
  },
  {
   "cell_type": "code",
   "execution_count": 1,
   "metadata": {},
   "outputs": [],
   "source": [
    "#load basic libraries\n",
    "import os\n",
    "import numpy as np \n",
    "import pandas as pd \n",
    "import pandas_profiling \n",
    "import matplotlib.pyplot as plt\n",
    "import seaborn as sns\n",
    "%matplotlib inline\n",
    "sns.set_style('whitegrid')"
   ]
  },
  {
   "cell_type": "code",
   "execution_count": 2,
   "metadata": {},
   "outputs": [
    {
     "name": "stdout",
     "output_type": "stream",
     "text": [
      "The current working directory is /Users/hhl/Desktop/Springboard062020/Springboard/Capstone2\n"
     ]
    }
   ],
   "source": [
    "cwd = os.getcwd()\n",
    "print('The current working directory is %s' %cwd)\n",
    "\n",
    "for subfolder in ['data','models','figures']:\n",
    "    newdir = os.path.join(cwd,subfolder)\n",
    "    if not os.path.exists(newdir):\n",
    "        os.makedirs(newdir)\n",
    "    \n",
    "# os.listdir()"
   ]
  },
  {
   "cell_type": "markdown",
   "metadata": {},
   "source": [
    "## 2.1. Load data, and define column names"
   ]
  },
  {
   "cell_type": "code",
   "execution_count": 3,
   "metadata": {},
   "outputs": [],
   "source": [
    "df = pd.read_csv('processed.cleveland.data',header=None)\n",
    "df.columns = ['age','sex','cp','trestbps','chol','fbs','restecg','thalach','exang','oldpeak','slope','ca','thal','target']"
   ]
  },
  {
   "cell_type": "code",
   "execution_count": 4,
   "metadata": {},
   "outputs": [
    {
     "data": {
      "text/html": [
       "<div>\n",
       "<style scoped>\n",
       "    .dataframe tbody tr th:only-of-type {\n",
       "        vertical-align: middle;\n",
       "    }\n",
       "\n",
       "    .dataframe tbody tr th {\n",
       "        vertical-align: top;\n",
       "    }\n",
       "\n",
       "    .dataframe thead th {\n",
       "        text-align: right;\n",
       "    }\n",
       "</style>\n",
       "<table border=\"1\" class=\"dataframe\">\n",
       "  <thead>\n",
       "    <tr style=\"text-align: right;\">\n",
       "      <th></th>\n",
       "      <th>age</th>\n",
       "      <th>sex</th>\n",
       "      <th>cp</th>\n",
       "      <th>trestbps</th>\n",
       "      <th>chol</th>\n",
       "      <th>fbs</th>\n",
       "      <th>restecg</th>\n",
       "      <th>thalach</th>\n",
       "      <th>exang</th>\n",
       "      <th>oldpeak</th>\n",
       "      <th>slope</th>\n",
       "      <th>ca</th>\n",
       "      <th>thal</th>\n",
       "      <th>target</th>\n",
       "    </tr>\n",
       "  </thead>\n",
       "  <tbody>\n",
       "    <tr>\n",
       "      <th>0</th>\n",
       "      <td>63.0</td>\n",
       "      <td>1.0</td>\n",
       "      <td>1.0</td>\n",
       "      <td>145.0</td>\n",
       "      <td>233.0</td>\n",
       "      <td>1.0</td>\n",
       "      <td>2.0</td>\n",
       "      <td>150.0</td>\n",
       "      <td>0.0</td>\n",
       "      <td>2.3</td>\n",
       "      <td>3.0</td>\n",
       "      <td>0.0</td>\n",
       "      <td>6.0</td>\n",
       "      <td>0</td>\n",
       "    </tr>\n",
       "    <tr>\n",
       "      <th>1</th>\n",
       "      <td>67.0</td>\n",
       "      <td>1.0</td>\n",
       "      <td>4.0</td>\n",
       "      <td>160.0</td>\n",
       "      <td>286.0</td>\n",
       "      <td>0.0</td>\n",
       "      <td>2.0</td>\n",
       "      <td>108.0</td>\n",
       "      <td>1.0</td>\n",
       "      <td>1.5</td>\n",
       "      <td>2.0</td>\n",
       "      <td>3.0</td>\n",
       "      <td>3.0</td>\n",
       "      <td>2</td>\n",
       "    </tr>\n",
       "    <tr>\n",
       "      <th>2</th>\n",
       "      <td>67.0</td>\n",
       "      <td>1.0</td>\n",
       "      <td>4.0</td>\n",
       "      <td>120.0</td>\n",
       "      <td>229.0</td>\n",
       "      <td>0.0</td>\n",
       "      <td>2.0</td>\n",
       "      <td>129.0</td>\n",
       "      <td>1.0</td>\n",
       "      <td>2.6</td>\n",
       "      <td>2.0</td>\n",
       "      <td>2.0</td>\n",
       "      <td>7.0</td>\n",
       "      <td>1</td>\n",
       "    </tr>\n",
       "    <tr>\n",
       "      <th>3</th>\n",
       "      <td>37.0</td>\n",
       "      <td>1.0</td>\n",
       "      <td>3.0</td>\n",
       "      <td>130.0</td>\n",
       "      <td>250.0</td>\n",
       "      <td>0.0</td>\n",
       "      <td>0.0</td>\n",
       "      <td>187.0</td>\n",
       "      <td>0.0</td>\n",
       "      <td>3.5</td>\n",
       "      <td>3.0</td>\n",
       "      <td>0.0</td>\n",
       "      <td>3.0</td>\n",
       "      <td>0</td>\n",
       "    </tr>\n",
       "    <tr>\n",
       "      <th>4</th>\n",
       "      <td>41.0</td>\n",
       "      <td>0.0</td>\n",
       "      <td>2.0</td>\n",
       "      <td>130.0</td>\n",
       "      <td>204.0</td>\n",
       "      <td>0.0</td>\n",
       "      <td>2.0</td>\n",
       "      <td>172.0</td>\n",
       "      <td>0.0</td>\n",
       "      <td>1.4</td>\n",
       "      <td>1.0</td>\n",
       "      <td>0.0</td>\n",
       "      <td>3.0</td>\n",
       "      <td>0</td>\n",
       "    </tr>\n",
       "  </tbody>\n",
       "</table>\n",
       "</div>"
      ],
      "text/plain": [
       "    age  sex   cp  trestbps   chol  fbs  restecg  thalach  exang  oldpeak  \\\n",
       "0  63.0  1.0  1.0     145.0  233.0  1.0      2.0    150.0    0.0      2.3   \n",
       "1  67.0  1.0  4.0     160.0  286.0  0.0      2.0    108.0    1.0      1.5   \n",
       "2  67.0  1.0  4.0     120.0  229.0  0.0      2.0    129.0    1.0      2.6   \n",
       "3  37.0  1.0  3.0     130.0  250.0  0.0      0.0    187.0    0.0      3.5   \n",
       "4  41.0  0.0  2.0     130.0  204.0  0.0      2.0    172.0    0.0      1.4   \n",
       "\n",
       "   slope   ca thal  target  \n",
       "0    3.0  0.0  6.0       0  \n",
       "1    2.0  3.0  3.0       2  \n",
       "2    2.0  2.0  7.0       1  \n",
       "3    3.0  0.0  3.0       0  \n",
       "4    1.0  0.0  3.0       0  "
      ]
     },
     "execution_count": 4,
     "metadata": {},
     "output_type": "execute_result"
    }
   ],
   "source": [
    "df.head()"
   ]
  },
  {
   "cell_type": "code",
   "execution_count": 5,
   "metadata": {},
   "outputs": [
    {
     "name": "stdout",
     "output_type": "stream",
     "text": [
      "<class 'pandas.core.frame.DataFrame'>\n",
      "RangeIndex: 303 entries, 0 to 302\n",
      "Data columns (total 14 columns):\n",
      " #   Column    Non-Null Count  Dtype  \n",
      "---  ------    --------------  -----  \n",
      " 0   age       303 non-null    float64\n",
      " 1   sex       303 non-null    float64\n",
      " 2   cp        303 non-null    float64\n",
      " 3   trestbps  303 non-null    float64\n",
      " 4   chol      303 non-null    float64\n",
      " 5   fbs       303 non-null    float64\n",
      " 6   restecg   303 non-null    float64\n",
      " 7   thalach   303 non-null    float64\n",
      " 8   exang     303 non-null    float64\n",
      " 9   oldpeak   303 non-null    float64\n",
      " 10  slope     303 non-null    float64\n",
      " 11  ca        303 non-null    object \n",
      " 12  thal      303 non-null    object \n",
      " 13  target    303 non-null    int64  \n",
      "dtypes: float64(11), int64(1), object(2)\n",
      "memory usage: 33.3+ KB\n"
     ]
    }
   ],
   "source": [
    "df.info()"
   ]
  },
  {
   "cell_type": "markdown",
   "metadata": {},
   "source": [
    "## 2.2. Check missing values"
   ]
  },
  {
   "cell_type": "code",
   "execution_count": 6,
   "metadata": {},
   "outputs": [
    {
     "data": {
      "text/plain": [
       "age         0\n",
       "sex         0\n",
       "cp          0\n",
       "trestbps    0\n",
       "chol        0\n",
       "fbs         0\n",
       "restecg     0\n",
       "thalach     0\n",
       "exang       0\n",
       "oldpeak     0\n",
       "slope       0\n",
       "ca          0\n",
       "thal        0\n",
       "target      0\n",
       "dtype: int64"
      ]
     },
     "execution_count": 6,
     "metadata": {},
     "output_type": "execute_result"
    }
   ],
   "source": [
    "df.isnull().sum().sort_values(ascending=True)"
   ]
  },
  {
   "cell_type": "code",
   "execution_count": 7,
   "metadata": {},
   "outputs": [
    {
     "data": {
      "text/plain": [
       "0.0    176\n",
       "1.0     65\n",
       "2.0     38\n",
       "3.0     20\n",
       "?        4\n",
       "Name: ca, dtype: int64"
      ]
     },
     "execution_count": 7,
     "metadata": {},
     "output_type": "execute_result"
    }
   ],
   "source": [
    "#ca, thal appear to be 'object', so check the unique value and value counts for them\n",
    "df.ca.value_counts()"
   ]
  },
  {
   "cell_type": "code",
   "execution_count": 8,
   "metadata": {},
   "outputs": [
    {
     "data": {
      "text/plain": [
       "3.0    166\n",
       "7.0    117\n",
       "6.0     18\n",
       "?        2\n",
       "Name: thal, dtype: int64"
      ]
     },
     "execution_count": 8,
     "metadata": {},
     "output_type": "execute_result"
    }
   ],
   "source": [
    "df.thal.value_counts()"
   ]
  },
  {
   "cell_type": "code",
   "execution_count": 9,
   "metadata": {},
   "outputs": [],
   "source": [
    "# replace the '?' with np.nan\n",
    "df.replace('?',np.nan,inplace=True)"
   ]
  },
  {
   "cell_type": "code",
   "execution_count": 10,
   "metadata": {},
   "outputs": [],
   "source": [
    "#fill na with mode\n",
    "df[['ca','thal']] = df[['ca','thal']].fillna(df[['ca','thal']].mode().iloc[0])"
   ]
  },
  {
   "cell_type": "code",
   "execution_count": 11,
   "metadata": {},
   "outputs": [
    {
     "data": {
      "text/plain": [
       "0.0    180\n",
       "1.0     65\n",
       "2.0     38\n",
       "3.0     20\n",
       "Name: ca, dtype: int64"
      ]
     },
     "execution_count": 11,
     "metadata": {},
     "output_type": "execute_result"
    }
   ],
   "source": [
    "df.ca.value_counts()"
   ]
  },
  {
   "cell_type": "code",
   "execution_count": 12,
   "metadata": {},
   "outputs": [
    {
     "data": {
      "text/plain": [
       "3.0    168\n",
       "7.0    117\n",
       "6.0     18\n",
       "Name: thal, dtype: int64"
      ]
     },
     "execution_count": 12,
     "metadata": {},
     "output_type": "execute_result"
    }
   ],
   "source": [
    "df.thal.value_counts()"
   ]
  },
  {
   "cell_type": "markdown",
   "metadata": {},
   "source": [
    "## 2.3. Check duplicates"
   ]
  },
  {
   "cell_type": "code",
   "execution_count": 13,
   "metadata": {},
   "outputs": [
    {
     "data": {
      "text/html": [
       "<div>\n",
       "<style scoped>\n",
       "    .dataframe tbody tr th:only-of-type {\n",
       "        vertical-align: middle;\n",
       "    }\n",
       "\n",
       "    .dataframe tbody tr th {\n",
       "        vertical-align: top;\n",
       "    }\n",
       "\n",
       "    .dataframe thead th {\n",
       "        text-align: right;\n",
       "    }\n",
       "</style>\n",
       "<table border=\"1\" class=\"dataframe\">\n",
       "  <thead>\n",
       "    <tr style=\"text-align: right;\">\n",
       "      <th></th>\n",
       "      <th>age</th>\n",
       "      <th>sex</th>\n",
       "      <th>cp</th>\n",
       "      <th>trestbps</th>\n",
       "      <th>chol</th>\n",
       "      <th>fbs</th>\n",
       "      <th>restecg</th>\n",
       "      <th>thalach</th>\n",
       "      <th>exang</th>\n",
       "      <th>oldpeak</th>\n",
       "      <th>slope</th>\n",
       "      <th>ca</th>\n",
       "      <th>thal</th>\n",
       "      <th>target</th>\n",
       "    </tr>\n",
       "  </thead>\n",
       "  <tbody>\n",
       "  </tbody>\n",
       "</table>\n",
       "</div>"
      ],
      "text/plain": [
       "Empty DataFrame\n",
       "Columns: [age, sex, cp, trestbps, chol, fbs, restecg, thalach, exang, oldpeak, slope, ca, thal, target]\n",
       "Index: []"
      ]
     },
     "execution_count": 13,
     "metadata": {},
     "output_type": "execute_result"
    }
   ],
   "source": [
    "#check duplicated entries\n",
    "df[df.duplicated()]  "
   ]
  },
  {
   "cell_type": "code",
   "execution_count": 14,
   "metadata": {},
   "outputs": [
    {
     "data": {
      "text/html": [
       "<div>\n",
       "<style scoped>\n",
       "    .dataframe tbody tr th:only-of-type {\n",
       "        vertical-align: middle;\n",
       "    }\n",
       "\n",
       "    .dataframe tbody tr th {\n",
       "        vertical-align: top;\n",
       "    }\n",
       "\n",
       "    .dataframe thead th {\n",
       "        text-align: right;\n",
       "    }\n",
       "</style>\n",
       "<table border=\"1\" class=\"dataframe\">\n",
       "  <thead>\n",
       "    <tr style=\"text-align: right;\">\n",
       "      <th></th>\n",
       "      <th>age</th>\n",
       "      <th>sex</th>\n",
       "      <th>cp</th>\n",
       "      <th>trestbps</th>\n",
       "      <th>chol</th>\n",
       "      <th>fbs</th>\n",
       "      <th>restecg</th>\n",
       "      <th>thalach</th>\n",
       "      <th>exang</th>\n",
       "      <th>oldpeak</th>\n",
       "      <th>slope</th>\n",
       "      <th>ca</th>\n",
       "      <th>thal</th>\n",
       "      <th>target</th>\n",
       "    </tr>\n",
       "  </thead>\n",
       "  <tbody>\n",
       "    <tr>\n",
       "      <th>0</th>\n",
       "      <td>63.0</td>\n",
       "      <td>1.0</td>\n",
       "      <td>1.0</td>\n",
       "      <td>145.0</td>\n",
       "      <td>233.0</td>\n",
       "      <td>1.0</td>\n",
       "      <td>2.0</td>\n",
       "      <td>150.0</td>\n",
       "      <td>0.0</td>\n",
       "      <td>2.3</td>\n",
       "      <td>3.0</td>\n",
       "      <td>0.0</td>\n",
       "      <td>6.0</td>\n",
       "      <td>0</td>\n",
       "    </tr>\n",
       "    <tr>\n",
       "      <th>1</th>\n",
       "      <td>67.0</td>\n",
       "      <td>1.0</td>\n",
       "      <td>4.0</td>\n",
       "      <td>160.0</td>\n",
       "      <td>286.0</td>\n",
       "      <td>0.0</td>\n",
       "      <td>2.0</td>\n",
       "      <td>108.0</td>\n",
       "      <td>1.0</td>\n",
       "      <td>1.5</td>\n",
       "      <td>2.0</td>\n",
       "      <td>3.0</td>\n",
       "      <td>3.0</td>\n",
       "      <td>2</td>\n",
       "    </tr>\n",
       "    <tr>\n",
       "      <th>2</th>\n",
       "      <td>67.0</td>\n",
       "      <td>1.0</td>\n",
       "      <td>4.0</td>\n",
       "      <td>120.0</td>\n",
       "      <td>229.0</td>\n",
       "      <td>0.0</td>\n",
       "      <td>2.0</td>\n",
       "      <td>129.0</td>\n",
       "      <td>1.0</td>\n",
       "      <td>2.6</td>\n",
       "      <td>2.0</td>\n",
       "      <td>2.0</td>\n",
       "      <td>7.0</td>\n",
       "      <td>1</td>\n",
       "    </tr>\n",
       "    <tr>\n",
       "      <th>3</th>\n",
       "      <td>37.0</td>\n",
       "      <td>1.0</td>\n",
       "      <td>3.0</td>\n",
       "      <td>130.0</td>\n",
       "      <td>250.0</td>\n",
       "      <td>0.0</td>\n",
       "      <td>0.0</td>\n",
       "      <td>187.0</td>\n",
       "      <td>0.0</td>\n",
       "      <td>3.5</td>\n",
       "      <td>3.0</td>\n",
       "      <td>0.0</td>\n",
       "      <td>3.0</td>\n",
       "      <td>0</td>\n",
       "    </tr>\n",
       "    <tr>\n",
       "      <th>4</th>\n",
       "      <td>41.0</td>\n",
       "      <td>0.0</td>\n",
       "      <td>2.0</td>\n",
       "      <td>130.0</td>\n",
       "      <td>204.0</td>\n",
       "      <td>0.0</td>\n",
       "      <td>2.0</td>\n",
       "      <td>172.0</td>\n",
       "      <td>0.0</td>\n",
       "      <td>1.4</td>\n",
       "      <td>1.0</td>\n",
       "      <td>0.0</td>\n",
       "      <td>3.0</td>\n",
       "      <td>0</td>\n",
       "    </tr>\n",
       "  </tbody>\n",
       "</table>\n",
       "</div>"
      ],
      "text/plain": [
       "    age  sex   cp  trestbps   chol  fbs  restecg  thalach  exang  oldpeak  \\\n",
       "0  63.0  1.0  1.0     145.0  233.0  1.0      2.0    150.0    0.0      2.3   \n",
       "1  67.0  1.0  4.0     160.0  286.0  0.0      2.0    108.0    1.0      1.5   \n",
       "2  67.0  1.0  4.0     120.0  229.0  0.0      2.0    129.0    1.0      2.6   \n",
       "3  37.0  1.0  3.0     130.0  250.0  0.0      0.0    187.0    0.0      3.5   \n",
       "4  41.0  0.0  2.0     130.0  204.0  0.0      2.0    172.0    0.0      1.4   \n",
       "\n",
       "   slope   ca thal  target  \n",
       "0    3.0  0.0  6.0       0  \n",
       "1    2.0  3.0  3.0       2  \n",
       "2    2.0  2.0  7.0       1  \n",
       "3    3.0  0.0  3.0       0  \n",
       "4    1.0  0.0  3.0       0  "
      ]
     },
     "execution_count": 14,
     "metadata": {},
     "output_type": "execute_result"
    }
   ],
   "source": [
    "df.head()"
   ]
  },
  {
   "cell_type": "markdown",
   "metadata": {},
   "source": [
    "## 2.4. Convert the response varabile to binary"
   ]
  },
  {
   "cell_type": "code",
   "execution_count": 15,
   "metadata": {},
   "outputs": [],
   "source": [
    "#map the 'target' values as below to make it as binary.\n",
    "df['target'] = df.target.map({0:0,\n",
    "                             1:1,\n",
    "                             2:1,\n",
    "                             3:1,\n",
    "                             4:1})"
   ]
  },
  {
   "cell_type": "code",
   "execution_count": 16,
   "metadata": {},
   "outputs": [
    {
     "data": {
      "text/plain": [
       "age         float64\n",
       "sex         float64\n",
       "cp          float64\n",
       "trestbps    float64\n",
       "chol        float64\n",
       "fbs         float64\n",
       "restecg     float64\n",
       "thalach     float64\n",
       "exang       float64\n",
       "oldpeak     float64\n",
       "slope       float64\n",
       "ca           object\n",
       "thal         object\n",
       "target        int64\n",
       "dtype: object"
      ]
     },
     "execution_count": 16,
     "metadata": {},
     "output_type": "execute_result"
    }
   ],
   "source": [
    "df.dtypes"
   ]
  },
  {
   "cell_type": "markdown",
   "metadata": {},
   "source": [
    "## 2.5. Examine unique values "
   ]
  },
  {
   "cell_type": "code",
   "execution_count": 17,
   "metadata": {},
   "outputs": [
    {
     "data": {
      "text/plain": [
       "age          41\n",
       "sex           2\n",
       "cp            4\n",
       "trestbps     50\n",
       "chol        152\n",
       "fbs           2\n",
       "restecg       3\n",
       "thalach      91\n",
       "exang         2\n",
       "oldpeak      40\n",
       "slope         3\n",
       "ca            4\n",
       "thal          3\n",
       "target        2\n",
       "dtype: int64"
      ]
     },
     "execution_count": 17,
     "metadata": {},
     "output_type": "execute_result"
    }
   ],
   "source": [
    "df.nunique()"
   ]
  },
  {
   "cell_type": "markdown",
   "metadata": {},
   "source": [
    "## 2.6. Explore value counts "
   ]
  },
  {
   "cell_type": "code",
   "execution_count": 18,
   "metadata": {},
   "outputs": [
    {
     "data": {
      "text/plain": [
       "0    164\n",
       "1    139\n",
       "Name: target, dtype: int64"
      ]
     },
     "execution_count": 18,
     "metadata": {},
     "output_type": "execute_result"
    }
   ],
   "source": [
    "df.target.value_counts() ##relatively balanced"
   ]
  },
  {
   "cell_type": "code",
   "execution_count": 19,
   "metadata": {},
   "outputs": [
    {
     "data": {
      "text/plain": [
       "1.0    206\n",
       "0.0     97\n",
       "Name: sex, dtype: int64"
      ]
     },
     "execution_count": 19,
     "metadata": {},
     "output_type": "execute_result"
    }
   ],
   "source": [
    "df.sex.value_counts()"
   ]
  },
  {
   "cell_type": "code",
   "execution_count": 20,
   "metadata": {},
   "outputs": [],
   "source": [
    "df.to_csv('data/heart_clean.csv',index=False)"
   ]
  },
  {
   "cell_type": "markdown",
   "metadata": {},
   "source": [
    "# 3. Exploratory data analysis (EDA)\n",
    "***\n",
    " * Summary statistics\n",
    " * Distributions: histograms for numerical varialbes, barplots for categorical varaibles\n",
    " * Outliers/Extreme values: boxplots\n",
    " * Relationships between variables: heatmap of correlation matrix\n",
    " * pandas_profiling.ProfileReport()"
   ]
  },
  {
   "cell_type": "code",
   "execution_count": 21,
   "metadata": {},
   "outputs": [],
   "source": [
    "df = pd.read_csv('data/heart_clean.csv')"
   ]
  },
  {
   "cell_type": "markdown",
   "metadata": {},
   "source": [
    "## 3.1. Summary statistics"
   ]
  },
  {
   "cell_type": "code",
   "execution_count": 22,
   "metadata": {},
   "outputs": [
    {
     "data": {
      "text/html": [
       "<div>\n",
       "<style scoped>\n",
       "    .dataframe tbody tr th:only-of-type {\n",
       "        vertical-align: middle;\n",
       "    }\n",
       "\n",
       "    .dataframe tbody tr th {\n",
       "        vertical-align: top;\n",
       "    }\n",
       "\n",
       "    .dataframe thead th {\n",
       "        text-align: right;\n",
       "    }\n",
       "</style>\n",
       "<table border=\"1\" class=\"dataframe\">\n",
       "  <thead>\n",
       "    <tr style=\"text-align: right;\">\n",
       "      <th></th>\n",
       "      <th>count</th>\n",
       "      <th>mean</th>\n",
       "      <th>std</th>\n",
       "      <th>min</th>\n",
       "      <th>25%</th>\n",
       "      <th>50%</th>\n",
       "      <th>75%</th>\n",
       "      <th>max</th>\n",
       "    </tr>\n",
       "  </thead>\n",
       "  <tbody>\n",
       "    <tr>\n",
       "      <th>age</th>\n",
       "      <td>303.0</td>\n",
       "      <td>54.438944</td>\n",
       "      <td>9.038662</td>\n",
       "      <td>29.0</td>\n",
       "      <td>48.0</td>\n",
       "      <td>56.0</td>\n",
       "      <td>61.0</td>\n",
       "      <td>77.0</td>\n",
       "    </tr>\n",
       "    <tr>\n",
       "      <th>sex</th>\n",
       "      <td>303.0</td>\n",
       "      <td>0.679868</td>\n",
       "      <td>0.467299</td>\n",
       "      <td>0.0</td>\n",
       "      <td>0.0</td>\n",
       "      <td>1.0</td>\n",
       "      <td>1.0</td>\n",
       "      <td>1.0</td>\n",
       "    </tr>\n",
       "    <tr>\n",
       "      <th>cp</th>\n",
       "      <td>303.0</td>\n",
       "      <td>3.158416</td>\n",
       "      <td>0.960126</td>\n",
       "      <td>1.0</td>\n",
       "      <td>3.0</td>\n",
       "      <td>3.0</td>\n",
       "      <td>4.0</td>\n",
       "      <td>4.0</td>\n",
       "    </tr>\n",
       "    <tr>\n",
       "      <th>trestbps</th>\n",
       "      <td>303.0</td>\n",
       "      <td>131.689769</td>\n",
       "      <td>17.599748</td>\n",
       "      <td>94.0</td>\n",
       "      <td>120.0</td>\n",
       "      <td>130.0</td>\n",
       "      <td>140.0</td>\n",
       "      <td>200.0</td>\n",
       "    </tr>\n",
       "    <tr>\n",
       "      <th>chol</th>\n",
       "      <td>303.0</td>\n",
       "      <td>246.693069</td>\n",
       "      <td>51.776918</td>\n",
       "      <td>126.0</td>\n",
       "      <td>211.0</td>\n",
       "      <td>241.0</td>\n",
       "      <td>275.0</td>\n",
       "      <td>564.0</td>\n",
       "    </tr>\n",
       "    <tr>\n",
       "      <th>fbs</th>\n",
       "      <td>303.0</td>\n",
       "      <td>0.148515</td>\n",
       "      <td>0.356198</td>\n",
       "      <td>0.0</td>\n",
       "      <td>0.0</td>\n",
       "      <td>0.0</td>\n",
       "      <td>0.0</td>\n",
       "      <td>1.0</td>\n",
       "    </tr>\n",
       "    <tr>\n",
       "      <th>restecg</th>\n",
       "      <td>303.0</td>\n",
       "      <td>0.990099</td>\n",
       "      <td>0.994971</td>\n",
       "      <td>0.0</td>\n",
       "      <td>0.0</td>\n",
       "      <td>1.0</td>\n",
       "      <td>2.0</td>\n",
       "      <td>2.0</td>\n",
       "    </tr>\n",
       "    <tr>\n",
       "      <th>thalach</th>\n",
       "      <td>303.0</td>\n",
       "      <td>149.607261</td>\n",
       "      <td>22.875003</td>\n",
       "      <td>71.0</td>\n",
       "      <td>133.5</td>\n",
       "      <td>153.0</td>\n",
       "      <td>166.0</td>\n",
       "      <td>202.0</td>\n",
       "    </tr>\n",
       "    <tr>\n",
       "      <th>exang</th>\n",
       "      <td>303.0</td>\n",
       "      <td>0.326733</td>\n",
       "      <td>0.469794</td>\n",
       "      <td>0.0</td>\n",
       "      <td>0.0</td>\n",
       "      <td>0.0</td>\n",
       "      <td>1.0</td>\n",
       "      <td>1.0</td>\n",
       "    </tr>\n",
       "    <tr>\n",
       "      <th>oldpeak</th>\n",
       "      <td>303.0</td>\n",
       "      <td>1.039604</td>\n",
       "      <td>1.161075</td>\n",
       "      <td>0.0</td>\n",
       "      <td>0.0</td>\n",
       "      <td>0.8</td>\n",
       "      <td>1.6</td>\n",
       "      <td>6.2</td>\n",
       "    </tr>\n",
       "    <tr>\n",
       "      <th>slope</th>\n",
       "      <td>303.0</td>\n",
       "      <td>1.600660</td>\n",
       "      <td>0.616226</td>\n",
       "      <td>1.0</td>\n",
       "      <td>1.0</td>\n",
       "      <td>2.0</td>\n",
       "      <td>2.0</td>\n",
       "      <td>3.0</td>\n",
       "    </tr>\n",
       "    <tr>\n",
       "      <th>ca</th>\n",
       "      <td>303.0</td>\n",
       "      <td>0.663366</td>\n",
       "      <td>0.934375</td>\n",
       "      <td>0.0</td>\n",
       "      <td>0.0</td>\n",
       "      <td>0.0</td>\n",
       "      <td>1.0</td>\n",
       "      <td>3.0</td>\n",
       "    </tr>\n",
       "    <tr>\n",
       "      <th>thal</th>\n",
       "      <td>303.0</td>\n",
       "      <td>4.722772</td>\n",
       "      <td>1.938383</td>\n",
       "      <td>3.0</td>\n",
       "      <td>3.0</td>\n",
       "      <td>3.0</td>\n",
       "      <td>7.0</td>\n",
       "      <td>7.0</td>\n",
       "    </tr>\n",
       "    <tr>\n",
       "      <th>target</th>\n",
       "      <td>303.0</td>\n",
       "      <td>0.458746</td>\n",
       "      <td>0.499120</td>\n",
       "      <td>0.0</td>\n",
       "      <td>0.0</td>\n",
       "      <td>0.0</td>\n",
       "      <td>1.0</td>\n",
       "      <td>1.0</td>\n",
       "    </tr>\n",
       "  </tbody>\n",
       "</table>\n",
       "</div>"
      ],
      "text/plain": [
       "          count        mean        std    min    25%    50%    75%    max\n",
       "age       303.0   54.438944   9.038662   29.0   48.0   56.0   61.0   77.0\n",
       "sex       303.0    0.679868   0.467299    0.0    0.0    1.0    1.0    1.0\n",
       "cp        303.0    3.158416   0.960126    1.0    3.0    3.0    4.0    4.0\n",
       "trestbps  303.0  131.689769  17.599748   94.0  120.0  130.0  140.0  200.0\n",
       "chol      303.0  246.693069  51.776918  126.0  211.0  241.0  275.0  564.0\n",
       "fbs       303.0    0.148515   0.356198    0.0    0.0    0.0    0.0    1.0\n",
       "restecg   303.0    0.990099   0.994971    0.0    0.0    1.0    2.0    2.0\n",
       "thalach   303.0  149.607261  22.875003   71.0  133.5  153.0  166.0  202.0\n",
       "exang     303.0    0.326733   0.469794    0.0    0.0    0.0    1.0    1.0\n",
       "oldpeak   303.0    1.039604   1.161075    0.0    0.0    0.8    1.6    6.2\n",
       "slope     303.0    1.600660   0.616226    1.0    1.0    2.0    2.0    3.0\n",
       "ca        303.0    0.663366   0.934375    0.0    0.0    0.0    1.0    3.0\n",
       "thal      303.0    4.722772   1.938383    3.0    3.0    3.0    7.0    7.0\n",
       "target    303.0    0.458746   0.499120    0.0    0.0    0.0    1.0    1.0"
      ]
     },
     "execution_count": 22,
     "metadata": {},
     "output_type": "execute_result"
    }
   ],
   "source": [
    "df.describe().T"
   ]
  },
  {
   "cell_type": "markdown",
   "metadata": {},
   "source": [
    "## 3.2. Histograms for numerical variables"
   ]
  },
  {
   "cell_type": "code",
   "execution_count": 23,
   "metadata": {},
   "outputs": [
    {
     "data": {
      "image/png": "[encoded data removed]",
      "text/plain": [
       "<Figure size 720x720 with 6 Axes>"
      ]
     },
     "metadata": {},
     "output_type": "display_data"
    }
   ],
   "source": [
    "_=df[['age','trestbps','chol','thalach','oldpeak']].hist(bins=25,figsize=(10,10))"
   ]
  },
  {
   "cell_type": "markdown",
   "metadata": {},
   "source": [
    "## 3.3. Barplots for categorical variables"
   ]
  },
  {
   "cell_type": "code",
   "execution_count": 24,
   "metadata": {},
   "outputs": [
    {
     "data": {
      "image/png": "[encoded data removed]",
      "text/plain": [
       "<Figure size 1296x216 with 9 Axes>"
      ]
     },
     "metadata": {},
     "output_type": "display_data"
    }
   ],
   "source": [
    "cat = ['sex','cp','fbs','restecg','exang','slope','ca','thal','target']\n",
    "fig,axs = plt.subplots(1,9,figsize=(18,3),sharey=True)\n",
    "for i,cat in enumerate(df[cat]):\n",
    "    df[cat].value_counts().plot(kind='bar',ax=axs[i]).set_title(cat)"
   ]
  },
  {
   "cell_type": "markdown",
   "metadata": {},
   "source": [
    "## 3.4. Boxplots for numerical varialbes - visualizing outliers/extreme values"
   ]
  },
  {
   "cell_type": "code",
   "execution_count": 25,
   "metadata": {},
   "outputs": [
    {
     "data": {
      "image/png": "[encoded data removed]",
      "text/plain": [
       "<Figure size 720x432 with 1 Axes>"
      ]
     },
     "metadata": {},
     "output_type": "display_data"
    }
   ],
   "source": [
    "_=df[['age','trestbps','chol','thalach','oldpeak']].boxplot(grid=True,rot=0,figsize=(10,6),fontsize=15,vert=False)\n",
    "plt.xscale('log')"
   ]
  },
  {
   "cell_type": "markdown",
   "metadata": {},
   "source": [
    "## 3.5. Heatmap of correlation matrix"
   ]
  },
  {
   "cell_type": "code",
   "execution_count": 26,
   "metadata": {},
   "outputs": [
    {
     "data": {
      "image/png": "[encoded data removed]",
      "text/plain": [
       "<Figure size 1152x1008 with 2 Axes>"
      ]
     },
     "metadata": {},
     "output_type": "display_data"
    }
   ],
   "source": [
    "corr = df.corr()\n",
    "corr.round(2).style.background_gradient(cmap='coolwarm')\n",
    "plt.figure(figsize=(16,14))\n",
    "_=sns.heatmap(corr,linewidths=.1, annot=True)"
   ]
  },
  {
   "cell_type": "code",
   "execution_count": 27,
   "metadata": {},
   "outputs": [],
   "source": [
    "# profile = pandas_profiling.ProfileReport(df, title='Pandas profile report - heart attack dataset', minimal=False)\n",
    "# profile.to_file(output_file='data/EDAreport.html')"
   ]
  },
  {
   "cell_type": "markdown",
   "metadata": {},
   "source": [
    "# 4. Pre-processing and training data preparation\n",
    "***\n",
    "* Create dummy features for categorical variables\n",
    "* Split into training and test set\n",
    "* Standardize the magnitude of numeric features"
   ]
  },
  {
   "cell_type": "code",
   "execution_count": 28,
   "metadata": {},
   "outputs": [],
   "source": [
    "from sklearn.preprocessing import StandardScaler\n",
    "from sklearn.model_selection import train_test_split"
   ]
  },
  {
   "cell_type": "markdown",
   "metadata": {},
   "source": [
    "## 4.1. Create dummy features for categorical variables"
   ]
  },
  {
   "cell_type": "code",
   "execution_count": 29,
   "metadata": {},
   "outputs": [
    {
     "data": {
      "text/html": [
       "<div>\n",
       "<style scoped>\n",
       "    .dataframe tbody tr th:only-of-type {\n",
       "        vertical-align: middle;\n",
       "    }\n",
       "\n",
       "    .dataframe tbody tr th {\n",
       "        vertical-align: top;\n",
       "    }\n",
       "\n",
       "    .dataframe thead th {\n",
       "        text-align: right;\n",
       "    }\n",
       "</style>\n",
       "<table border=\"1\" class=\"dataframe\">\n",
       "  <thead>\n",
       "    <tr style=\"text-align: right;\">\n",
       "      <th></th>\n",
       "      <th>age</th>\n",
       "      <th>trestbps</th>\n",
       "      <th>chol</th>\n",
       "      <th>thalach</th>\n",
       "      <th>oldpeak</th>\n",
       "      <th>ca</th>\n",
       "      <th>target</th>\n",
       "      <th>sex_1.0</th>\n",
       "      <th>cp_2.0</th>\n",
       "      <th>cp_3.0</th>\n",
       "      <th>cp_4.0</th>\n",
       "      <th>fbs_1.0</th>\n",
       "      <th>restecg_1.0</th>\n",
       "      <th>restecg_2.0</th>\n",
       "      <th>exang_1.0</th>\n",
       "      <th>slope_2.0</th>\n",
       "      <th>slope_3.0</th>\n",
       "      <th>thal_6.0</th>\n",
       "      <th>thal_7.0</th>\n",
       "    </tr>\n",
       "  </thead>\n",
       "  <tbody>\n",
       "    <tr>\n",
       "      <th>0</th>\n",
       "      <td>63.0</td>\n",
       "      <td>145.0</td>\n",
       "      <td>233.0</td>\n",
       "      <td>150.0</td>\n",
       "      <td>2.3</td>\n",
       "      <td>0.0</td>\n",
       "      <td>0</td>\n",
       "      <td>1</td>\n",
       "      <td>0</td>\n",
       "      <td>0</td>\n",
       "      <td>0</td>\n",
       "      <td>1</td>\n",
       "      <td>0</td>\n",
       "      <td>1</td>\n",
       "      <td>0</td>\n",
       "      <td>0</td>\n",
       "      <td>1</td>\n",
       "      <td>1</td>\n",
       "      <td>0</td>\n",
       "    </tr>\n",
       "    <tr>\n",
       "      <th>1</th>\n",
       "      <td>67.0</td>\n",
       "      <td>160.0</td>\n",
       "      <td>286.0</td>\n",
       "      <td>108.0</td>\n",
       "      <td>1.5</td>\n",
       "      <td>3.0</td>\n",
       "      <td>1</td>\n",
       "      <td>1</td>\n",
       "      <td>0</td>\n",
       "      <td>0</td>\n",
       "      <td>1</td>\n",
       "      <td>0</td>\n",
       "      <td>0</td>\n",
       "      <td>1</td>\n",
       "      <td>1</td>\n",
       "      <td>1</td>\n",
       "      <td>0</td>\n",
       "      <td>0</td>\n",
       "      <td>0</td>\n",
       "    </tr>\n",
       "    <tr>\n",
       "      <th>2</th>\n",
       "      <td>67.0</td>\n",
       "      <td>120.0</td>\n",
       "      <td>229.0</td>\n",
       "      <td>129.0</td>\n",
       "      <td>2.6</td>\n",
       "      <td>2.0</td>\n",
       "      <td>1</td>\n",
       "      <td>1</td>\n",
       "      <td>0</td>\n",
       "      <td>0</td>\n",
       "      <td>1</td>\n",
       "      <td>0</td>\n",
       "      <td>0</td>\n",
       "      <td>1</td>\n",
       "      <td>1</td>\n",
       "      <td>1</td>\n",
       "      <td>0</td>\n",
       "      <td>0</td>\n",
       "      <td>1</td>\n",
       "    </tr>\n",
       "    <tr>\n",
       "      <th>3</th>\n",
       "      <td>37.0</td>\n",
       "      <td>130.0</td>\n",
       "      <td>250.0</td>\n",
       "      <td>187.0</td>\n",
       "      <td>3.5</td>\n",
       "      <td>0.0</td>\n",
       "      <td>0</td>\n",
       "      <td>1</td>\n",
       "      <td>0</td>\n",
       "      <td>1</td>\n",
       "      <td>0</td>\n",
       "      <td>0</td>\n",
       "      <td>0</td>\n",
       "      <td>0</td>\n",
       "      <td>0</td>\n",
       "      <td>0</td>\n",
       "      <td>1</td>\n",
       "      <td>0</td>\n",
       "      <td>0</td>\n",
       "    </tr>\n",
       "    <tr>\n",
       "      <th>4</th>\n",
       "      <td>41.0</td>\n",
       "      <td>130.0</td>\n",
       "      <td>204.0</td>\n",
       "      <td>172.0</td>\n",
       "      <td>1.4</td>\n",
       "      <td>0.0</td>\n",
       "      <td>0</td>\n",
       "      <td>0</td>\n",
       "      <td>1</td>\n",
       "      <td>0</td>\n",
       "      <td>0</td>\n",
       "      <td>0</td>\n",
       "      <td>0</td>\n",
       "      <td>1</td>\n",
       "      <td>0</td>\n",
       "      <td>0</td>\n",
       "      <td>0</td>\n",
       "      <td>0</td>\n",
       "      <td>0</td>\n",
       "    </tr>\n",
       "  </tbody>\n",
       "</table>\n",
       "</div>"
      ],
      "text/plain": [
       "    age  trestbps   chol  thalach  oldpeak   ca  target  sex_1.0  cp_2.0  \\\n",
       "0  63.0     145.0  233.0    150.0      2.3  0.0       0        1       0   \n",
       "1  67.0     160.0  286.0    108.0      1.5  3.0       1        1       0   \n",
       "2  67.0     120.0  229.0    129.0      2.6  2.0       1        1       0   \n",
       "3  37.0     130.0  250.0    187.0      3.5  0.0       0        1       0   \n",
       "4  41.0     130.0  204.0    172.0      1.4  0.0       0        0       1   \n",
       "\n",
       "   cp_3.0  cp_4.0  fbs_1.0  restecg_1.0  restecg_2.0  exang_1.0  slope_2.0  \\\n",
       "0       0       0        1            0            1          0          0   \n",
       "1       0       1        0            0            1          1          1   \n",
       "2       0       1        0            0            1          1          1   \n",
       "3       1       0        0            0            0          0          0   \n",
       "4       0       0        0            0            1          0          0   \n",
       "\n",
       "   slope_3.0  thal_6.0  thal_7.0  \n",
       "0          1         1         0  \n",
       "1          0         0         0  \n",
       "2          0         0         1  \n",
       "3          1         0         0  \n",
       "4          0         0         0  "
      ]
     },
     "execution_count": 29,
     "metadata": {},
     "output_type": "execute_result"
    }
   ],
   "source": [
    "#sex, cp (chest pain type), restecg (resting electrocardiographic results), exang (exercise induced angina), slope (the slope of the peak exercise ST segment), and thal (blood disorder type) are categorical variables\n",
    "#fbs is boolean; ca (number of major vessels) is ordinal\n",
    "df2 = pd.get_dummies(df,columns=['sex','cp','fbs','restecg','exang','slope','thal'], drop_first=True)\n",
    "df2.head()"
   ]
  },
  {
   "cell_type": "markdown",
   "metadata": {},
   "source": [
    "## 4.2. Split data into training and test set"
   ]
  },
  {
   "cell_type": "code",
   "execution_count": 30,
   "metadata": {},
   "outputs": [
    {
     "name": "stdout",
     "output_type": "stream",
     "text": [
      "0    123\n",
      "1    104\n",
      "Name: target, dtype: int64\n",
      "0    41\n",
      "1    35\n",
      "Name: target, dtype: int64\n"
     ]
    }
   ],
   "source": [
    "#train-test split -- keep the ratio of classes in the original dataset (stratify).\n",
    "y = df2.target\n",
    "X = df2.drop('target', axis=1)\n",
    "X_train, X_test, y_train, y_test = train_test_split (X, y, test_size=0.25, stratify=y, random_state=52)\n",
    "#check whether the data is equally splitted or not \n",
    "print(y_train.value_counts())\n",
    "print(y_test.value_counts())"
   ]
  },
  {
   "cell_type": "markdown",
   "metadata": {},
   "source": [
    "## 4.3. Standardization "
   ]
  },
  {
   "cell_type": "code",
   "execution_count": 31,
   "metadata": {},
   "outputs": [],
   "source": [
    "#build scaler based on training set and apply it to test set\n",
    "scaler = StandardScaler()\n",
    "X_train_scaled=scaler.fit_transform(X_train)\n",
    "X_test_scaled=scaler.transform(X_test)"
   ]
  },
  {
   "cell_type": "markdown",
   "metadata": {},
   "source": [
    "# 5. Modeling\n",
    "***"
   ]
  },
  {
   "cell_type": "markdown",
   "metadata": {},
   "source": [
    "## 5.1. An overview of binary classifiers\n",
    "\n",
    "* Naive Bayes\n",
    "  * Simple, fast, low computation cost, and accurate \n",
    "  * Cannot learn interactions btw features(i.e. assume independence of predictors) <br/><br/>\n",
    "\n",
    "* Logistic Regression\n",
    "  * lots of ways to regularize the model (e.g. lasso, ridge), and don't have to worry as much about features being correlated, like in Naive Bayes\n",
    "  * have a nice probabilistic interpretation - use it if you want a probabilistic framework (_to easily adjust classification thresholds_) or if you expect to receive more training data in the future that you want to quickly incorporate into your model \n",
    "  * a linear classifier, assume some sort of linear relationship btw the data <br/><br/>\n",
    "       \n",
    "* K-Nearest Neighbors\n",
    "  * No assumptions about data; simple and intuitive, relatively high accuracy, easy to implement for multi-class problem, can be used for both classification and regression problems\n",
    "  * Curse of dimensionality, does not perform well on imbalanced data, sensitive to outliers, distance based, slow as dataset grows <br/><br/>\n",
    "\n",
    "* Support Vector Machines (SVMs, linear, nonlinear)\n",
    "  * high accuracy, especially popular in text classification problems where very high-dimensional spaces are the norm\n",
    "  * works poorly with overlapping classes and is also sensitive to the type of kernel used <br/><br/>\n",
    "\n",
    "* Decision tree \n",
    "      \n",
    "* Ensemble methods: Random Forests\n",
    "   * easy to interpret and explain\n",
    "   * can handle feature interctions, non-parametric (don't have to worry about outliers or whether the data is linearly separable)\n",
    "   * fast and scalable\n",
    "   * don't support online learning - have to rebuild trees when new examples come on <br/><br/>\n",
    "* Ensemble methods: AdaBoost\n",
    "\n",
    "* Ensemble methods: Gradient Boosting or gradient boosting machines GBM\n",
    "    * GradientBoostingClassifier with Scikit-Learn \n",
    "    * XGBoost - extreme gradient boosting: computational efficiency and often better model performance\n",
    "    * LightGBM - light gradient boosted machine: \n",
    "           * high speed, high accuracy, can use categorical features as input directly - no need to convert to one-hot coding\n",
    "           * sensitive to overfitting and can easily overfit small data (10,000+ observations suggested)    \n",
    "    * CatBoost - category gradient boosting: in addition to computational speed improvements, the primary benefit of the CatBoost is support for categorical input variables\n"
   ]
  },
  {
   "cell_type": "markdown",
   "metadata": {},
   "source": [
    "## 5.2. Build models with default settings"
   ]
  },
  {
   "cell_type": "code",
   "execution_count": 32,
   "metadata": {},
   "outputs": [],
   "source": [
    "from sklearn.metrics import precision_recall_fscore_support as score, accuracy_score, matthews_corrcoef,roc_curve, precision_recall_curve, auc\n",
    "from sklearn.model_selection import StratifiedKFold,GridSearchCV\n",
    "import time"
   ]
  },
  {
   "cell_type": "code",
   "execution_count": 33,
   "metadata": {},
   "outputs": [],
   "source": [
    "# define a function to calculate and store metrics\n",
    "def model_eval(model,name,X_test,y_test,y_pred):\n",
    "    pfm = {'model':name}\n",
    "    pfm['times'] = round(time.time()-start_time,4)\n",
    "    precision,recall,fscore,support = score(y_test, y_pred, pos_label=1, average='binary')\n",
    "    pfm['precision'] = round(precision,3)\n",
    "    pfm['recall'] = round(recall,3)\n",
    "    pfm['accuracy'] = round(accuracy_score(y_test,y_pred),3)\n",
    "    pfm['mcc'] = round(matthews_corrcoef(y_test,y_pred),3)\n",
    "    y_prob = model.predict_proba(X_test)[:,1] # output positive class prediction probabilities\n",
    "    fpr,tpr,threshold = roc_curve(y_test,y_prob)\n",
    "    pfm['roc_auc'] = round(auc(fpr,tpr),3)\n",
    "    print('--- %s seconds ---' % pfm['times'])\n",
    "    print('Precision:{precision} / Recall:{recall} / Accuracy:{accuracy} / MCC:{mcc} / ROC_AUC:{roc_auc}'.format(**pfm))\n",
    "    return pfm"
   ]
  },
  {
   "cell_type": "markdown",
   "metadata": {},
   "source": [
    "### 5.2.1. Naive Bayes classifier"
   ]
  },
  {
   "cell_type": "code",
   "execution_count": 34,
   "metadata": {},
   "outputs": [
    {
     "name": "stdout",
     "output_type": "stream",
     "text": [
      "--- 0.0032 seconds ---\n",
      "Precision:0.725 / Recall:0.829 / Accuracy:0.776 / MCC:0.559 / ROC_AUC:0.843\n"
     ]
    }
   ],
   "source": [
    "# import Gaussian Naive Bayes model\n",
    "from sklearn.naive_bayes import GaussianNB\n",
    "\n",
    "start_time = time.time()\n",
    "\n",
    "# Instantiate a Gaussian Classifier\n",
    "gnb = GaussianNB()\n",
    "\n",
    "# Train the model using the training set\n",
    "gnb.fit(X_train,y_train)\n",
    "\n",
    "# Predict output\n",
    "y_pred = gnb.predict(X_test)\n",
    "\n",
    "gnb_pfm = model_eval(gnb,'GaussianNaiveBayes',X_test,y_test,y_pred)"
   ]
  },
  {
   "cell_type": "markdown",
   "metadata": {},
   "source": [
    "### 5.2.2. Logistic regression"
   ]
  },
  {
   "cell_type": "code",
   "execution_count": 35,
   "metadata": {},
   "outputs": [
    {
     "name": "stdout",
     "output_type": "stream",
     "text": [
      "--- 0.0044 seconds ---\n",
      "Precision:0.811 / Recall:0.857 / Accuracy:0.842 / MCC:0.685 / ROC_AUC:0.884\n"
     ]
    }
   ],
   "source": [
    "from sklearn.linear_model import LogisticRegression\n",
    "\n",
    "start_time = time.time()\n",
    "\n",
    "lr = LogisticRegression(random_state=52)\n",
    "lr.fit(X_train_scaled, y_train)\n",
    "y_pred = lr.predict(X_test_scaled)\n",
    "\n",
    "lr_pfm = model_eval(lr,'LogisticRegression',X_test_scaled,y_test,y_pred)"
   ]
  },
  {
   "cell_type": "markdown",
   "metadata": {},
   "source": [
    "### 5.2.3. K-nearest neighbors"
   ]
  },
  {
   "cell_type": "code",
   "execution_count": 36,
   "metadata": {},
   "outputs": [
    {
     "name": "stdout",
     "output_type": "stream",
     "text": [
      "--- 0.0033 seconds ---\n",
      "Precision:0.737 / Recall:0.8 / Accuracy:0.776 / MCC:0.554 / ROC_AUC:0.831\n"
     ]
    }
   ],
   "source": [
    "from sklearn.neighbors import KNeighborsClassifier\n",
    "\n",
    "start_time = time.time()\n",
    "\n",
    "knn = KNeighborsClassifier()\n",
    "knn.fit(X_train_scaled,y_train)\n",
    "y_pred = knn.predict(X_test_scaled)\n",
    "\n",
    "knn_pfm = model_eval(knn,'kNN',X_test_scaled,y_test,y_pred)"
   ]
  },
  {
   "cell_type": "markdown",
   "metadata": {},
   "source": [
    "### 5.2.4. Support vector machine "
   ]
  },
  {
   "cell_type": "code",
   "execution_count": 37,
   "metadata": {},
   "outputs": [
    {
     "name": "stdout",
     "output_type": "stream",
     "text": [
      "--- 0.007 seconds ---\n",
      "Precision:0.788 / Recall:0.743 / Accuracy:0.789 / MCC:0.575 / ROC_AUC:0.858\n"
     ]
    }
   ],
   "source": [
    "from sklearn.svm import SVC\n",
    "\n",
    "start_time = time.time()\n",
    "\n",
    "svm = SVC(probability=True,random_state=52)\n",
    "svm.fit(X_train_scaled,y_train)\n",
    "y_pred = svm.predict(X_test_scaled)\n",
    "\n",
    "svm_pfm = model_eval(svm,'SVM',X_test_scaled,y_test,y_pred)"
   ]
  },
  {
   "cell_type": "markdown",
   "metadata": {},
   "source": [
    "### 5.2.5. Decision Tree"
   ]
  },
  {
   "cell_type": "code",
   "execution_count": 38,
   "metadata": {},
   "outputs": [
    {
     "name": "stdout",
     "output_type": "stream",
     "text": [
      "--- 0.0039 seconds ---\n",
      "Precision:0.757 / Recall:0.8 / Accuracy:0.789 / MCC:0.579 / ROC_AUC:0.79\n"
     ]
    }
   ],
   "source": [
    "from sklearn.tree import DecisionTreeClassifier\n",
    "\n",
    "start_time = time.time()\n",
    "\n",
    "dt = DecisionTreeClassifier(random_state=52)\n",
    "dt.fit(X_train,y_train)\n",
    "y_pred = dt.predict(X_test)\n",
    "\n",
    "dt_pfm = model_eval(dt,'DecisionTree',X_test,y_test,y_pred)"
   ]
  },
  {
   "cell_type": "markdown",
   "metadata": {},
   "source": [
    "### 5.2.6. Random forest"
   ]
  },
  {
   "cell_type": "code",
   "execution_count": 39,
   "metadata": {},
   "outputs": [
    {
     "name": "stdout",
     "output_type": "stream",
     "text": [
      "--- 0.1144 seconds ---\n",
      "Precision:0.848 / Recall:0.8 / Accuracy:0.842 / MCC:0.682 / ROC_AUC:0.892\n"
     ]
    }
   ],
   "source": [
    "from sklearn.ensemble import RandomForestClassifier\n",
    "\n",
    "start_time = time.time()\n",
    "\n",
    "rf = RandomForestClassifier(random_state=52)\n",
    "rf.fit(X_train,y_train)\n",
    "y_pred = rf.predict(X_test)\n",
    "\n",
    "rf_pfm = model_eval(rf,'RandomForest',X_test,y_test,y_pred)"
   ]
  },
  {
   "cell_type": "markdown",
   "metadata": {},
   "source": [
    "### 5.2.7. AdaBoost"
   ]
  },
  {
   "cell_type": "code",
   "execution_count": 40,
   "metadata": {},
   "outputs": [
    {
     "name": "stdout",
     "output_type": "stream",
     "text": [
      "--- 0.0639 seconds ---\n",
      "Precision:0.765 / Recall:0.743 / Accuracy:0.776 / MCC:0.549 / ROC_AUC:0.862\n"
     ]
    }
   ],
   "source": [
    "from sklearn.ensemble import AdaBoostClassifier\n",
    "\n",
    "start_time = time.time()\n",
    "\n",
    "ada = AdaBoostClassifier(random_state=52)\n",
    "ada.fit(X_train,y_train)\n",
    "y_pred = ada.predict(X_test)\n",
    "\n",
    "ada_pfm = model_eval(ada,'AdaBoost',X_test,y_test,y_pred)"
   ]
  },
  {
   "cell_type": "markdown",
   "metadata": {},
   "source": [
    "### 5.2.8. Gradient boosting"
   ]
  },
  {
   "cell_type": "code",
   "execution_count": 41,
   "metadata": {},
   "outputs": [
    {
     "name": "stdout",
     "output_type": "stream",
     "text": [
      "--- 0.0644 seconds ---\n",
      "Precision:0.794 / Recall:0.771 / Accuracy:0.803 / MCC:0.602 / ROC_AUC:0.872\n"
     ]
    }
   ],
   "source": [
    "from sklearn.ensemble import GradientBoostingClassifier\n",
    "\n",
    "start_time = time.time()\n",
    "\n",
    "gb = GradientBoostingClassifier(random_state=52)\n",
    "gb.fit(X_train,y_train)\n",
    "y_pred = gb.predict(X_test)\n",
    "\n",
    "gb_pfm = model_eval(gb,'GradientBoosting',X_test,y_test,y_pred)"
   ]
  },
  {
   "cell_type": "markdown",
   "metadata": {},
   "source": [
    "### 5.2.9. XGBoost"
   ]
  },
  {
   "cell_type": "code",
   "execution_count": 42,
   "metadata": {},
   "outputs": [
    {
     "name": "stdout",
     "output_type": "stream",
     "text": [
      "--- 0.0774 seconds ---\n",
      "Precision:0.818 / Recall:0.771 / Accuracy:0.816 / MCC:0.629 / ROC_AUC:0.877\n"
     ]
    }
   ],
   "source": [
    "from xgboost import XGBClassifier\n",
    "\n",
    "start_time = time.time()\n",
    "\n",
    "xgb = XGBClassifier(random_state=52)\n",
    "xgb.fit(X_train,y_train)\n",
    "y_pred = xgb.predict(X_test)\n",
    "\n",
    "xgb_pfm = model_eval(xgb,'XGBoost',X_test,y_test,y_pred)"
   ]
  },
  {
   "cell_type": "markdown",
   "metadata": {},
   "source": [
    "### 5.2.10. LightGBM"
   ]
  },
  {
   "cell_type": "code",
   "execution_count": 56,
   "metadata": {},
   "outputs": [
    {
     "name": "stdout",
     "output_type": "stream",
     "text": [
      "--- 0.0565 seconds ---\n",
      "Precision:0.765 / Recall:0.743 / Accuracy:0.776 / MCC:0.549 / ROC_AUC:0.845\n"
     ]
    }
   ],
   "source": [
    "import lightgbm as lgb\n",
    "\n",
    "start_time = time.time()\n",
    "\n",
    "lgb = lgb.LGBMClassifier(objective='binary',random_state=52)\n",
    "lgb.fit(X_train,y_train)\n",
    "y_pred = lgb.predict(X_test)\n",
    "\n",
    "lgb_pfm = model_eval(lgb,'LightGBM',X_test,y_test,y_pred)"
   ]
  },
  {
   "cell_type": "markdown",
   "metadata": {},
   "source": [
    "## 5.3. Model evaluation"
   ]
  },
  {
   "cell_type": "code",
   "execution_count": 44,
   "metadata": {},
   "outputs": [
    {
     "data": {
      "text/html": [
       "<div>\n",
       "<style scoped>\n",
       "    .dataframe tbody tr th:only-of-type {\n",
       "        vertical-align: middle;\n",
       "    }\n",
       "\n",
       "    .dataframe tbody tr th {\n",
       "        vertical-align: top;\n",
       "    }\n",
       "\n",
       "    .dataframe thead th {\n",
       "        text-align: right;\n",
       "    }\n",
       "</style>\n",
       "<table border=\"1\" class=\"dataframe\">\n",
       "  <thead>\n",
       "    <tr style=\"text-align: right;\">\n",
       "      <th></th>\n",
       "      <th>model</th>\n",
       "      <th>precision</th>\n",
       "      <th>recall</th>\n",
       "      <th>accuracy</th>\n",
       "      <th>mcc</th>\n",
       "      <th>roc_auc</th>\n",
       "      <th>times</th>\n",
       "    </tr>\n",
       "  </thead>\n",
       "  <tbody>\n",
       "    <tr>\n",
       "      <th>0</th>\n",
       "      <td>GaussianNaiveBayes</td>\n",
       "      <td>0.725</td>\n",
       "      <td>0.829</td>\n",
       "      <td>0.776</td>\n",
       "      <td>0.559</td>\n",
       "      <td>0.843</td>\n",
       "      <td>0.0032</td>\n",
       "    </tr>\n",
       "    <tr>\n",
       "      <th>1</th>\n",
       "      <td>LogisticRegression</td>\n",
       "      <td>0.811</td>\n",
       "      <td>0.857</td>\n",
       "      <td>0.842</td>\n",
       "      <td>0.685</td>\n",
       "      <td>0.884</td>\n",
       "      <td>0.0044</td>\n",
       "    </tr>\n",
       "    <tr>\n",
       "      <th>2</th>\n",
       "      <td>kNN</td>\n",
       "      <td>0.737</td>\n",
       "      <td>0.800</td>\n",
       "      <td>0.776</td>\n",
       "      <td>0.554</td>\n",
       "      <td>0.831</td>\n",
       "      <td>0.0033</td>\n",
       "    </tr>\n",
       "    <tr>\n",
       "      <th>3</th>\n",
       "      <td>SVM</td>\n",
       "      <td>0.788</td>\n",
       "      <td>0.743</td>\n",
       "      <td>0.789</td>\n",
       "      <td>0.575</td>\n",
       "      <td>0.858</td>\n",
       "      <td>0.0070</td>\n",
       "    </tr>\n",
       "    <tr>\n",
       "      <th>4</th>\n",
       "      <td>DecisionTree</td>\n",
       "      <td>0.757</td>\n",
       "      <td>0.800</td>\n",
       "      <td>0.789</td>\n",
       "      <td>0.579</td>\n",
       "      <td>0.790</td>\n",
       "      <td>0.0039</td>\n",
       "    </tr>\n",
       "    <tr>\n",
       "      <th>5</th>\n",
       "      <td>RandomForest</td>\n",
       "      <td>0.848</td>\n",
       "      <td>0.800</td>\n",
       "      <td>0.842</td>\n",
       "      <td>0.682</td>\n",
       "      <td>0.892</td>\n",
       "      <td>0.1144</td>\n",
       "    </tr>\n",
       "    <tr>\n",
       "      <th>6</th>\n",
       "      <td>AdaBoost</td>\n",
       "      <td>0.765</td>\n",
       "      <td>0.743</td>\n",
       "      <td>0.776</td>\n",
       "      <td>0.549</td>\n",
       "      <td>0.862</td>\n",
       "      <td>0.0639</td>\n",
       "    </tr>\n",
       "    <tr>\n",
       "      <th>7</th>\n",
       "      <td>GradientBoosting</td>\n",
       "      <td>0.794</td>\n",
       "      <td>0.771</td>\n",
       "      <td>0.803</td>\n",
       "      <td>0.602</td>\n",
       "      <td>0.872</td>\n",
       "      <td>0.0644</td>\n",
       "    </tr>\n",
       "    <tr>\n",
       "      <th>8</th>\n",
       "      <td>XGBoost</td>\n",
       "      <td>0.818</td>\n",
       "      <td>0.771</td>\n",
       "      <td>0.816</td>\n",
       "      <td>0.629</td>\n",
       "      <td>0.877</td>\n",
       "      <td>0.0774</td>\n",
       "    </tr>\n",
       "    <tr>\n",
       "      <th>9</th>\n",
       "      <td>LightGBM</td>\n",
       "      <td>0.765</td>\n",
       "      <td>0.743</td>\n",
       "      <td>0.776</td>\n",
       "      <td>0.549</td>\n",
       "      <td>0.845</td>\n",
       "      <td>0.0575</td>\n",
       "    </tr>\n",
       "  </tbody>\n",
       "</table>\n",
       "</div>"
      ],
      "text/plain": [
       "                model  precision  recall  accuracy    mcc  roc_auc   times\n",
       "0  GaussianNaiveBayes      0.725   0.829     0.776  0.559    0.843  0.0032\n",
       "1  LogisticRegression      0.811   0.857     0.842  0.685    0.884  0.0044\n",
       "2                 kNN      0.737   0.800     0.776  0.554    0.831  0.0033\n",
       "3                 SVM      0.788   0.743     0.789  0.575    0.858  0.0070\n",
       "4        DecisionTree      0.757   0.800     0.789  0.579    0.790  0.0039\n",
       "5        RandomForest      0.848   0.800     0.842  0.682    0.892  0.1144\n",
       "6            AdaBoost      0.765   0.743     0.776  0.549    0.862  0.0639\n",
       "7    GradientBoosting      0.794   0.771     0.803  0.602    0.872  0.0644\n",
       "8             XGBoost      0.818   0.771     0.816  0.629    0.877  0.0774\n",
       "9            LightGBM      0.765   0.743     0.776  0.549    0.845  0.0575"
      ]
     },
     "metadata": {},
     "output_type": "display_data"
    }
   ],
   "source": [
    "df = [gnb_pfm,\n",
    "       lr_pfm,\n",
    "       knn_pfm,\n",
    "       svm_pfm,\n",
    "       dt_pfm,\n",
    "       rf_pfm,\n",
    "       ada_pfm,\n",
    "       gb_pfm,\n",
    "       xgb_pfm,\n",
    "       lgb_pfm]\n",
    "\n",
    "cols = ['model', 'precision', 'recall', 'accuracy', 'mcc', 'roc_auc', 'times']\n",
    "df = pd.DataFrame(df)[cols]\n",
    "display(df)"
   ]
  },
  {
   "cell_type": "code",
   "execution_count": 45,
   "metadata": {},
   "outputs": [
    {
     "data": {
      "image/png": "[encoded data removed]",
      "text/plain": [
       "<Figure size 432x864 with 3 Axes>"
      ]
     },
     "metadata": {},
     "output_type": "display_data"
    }
   ],
   "source": [
    "##### Barplots comparing accuracy,roc_auc,and recall scores across all models\n",
    "fig,axs=plt.subplots(3,1,figsize=(6,12),sharex=True)\n",
    "\n",
    "axs[0].barh('model','recall',data=df)\n",
    "axs[1].barh('model','accuracy',data=df)\n",
    "axs[2].barh('model','roc_auc',data=df)\n",
    "\n",
    "axs[0].set_xlabel('Recall')\n",
    "axs[1].set_xlabel('Accuracy')\n",
    "axs[2].set_xlabel('ROC_AUC')\n",
    "axs[0].plot([0.8,0.8],[-1,10],'r--')\n",
    "axs[1].plot([0.80,0.8],[-1,10],'r--')\n",
    "axs[2].plot([0.80,0.80],[-1,10],'r--')\n",
    "plt.show()"
   ]
  },
  {
   "cell_type": "markdown",
   "metadata": {},
   "source": [
    "## 5.4. Model optimization: hyperparameter tuning "
   ]
  },
  {
   "cell_type": "markdown",
   "metadata": {},
   "source": [
    "Hyperparameter tuning via grid search cross validation to maximize recall score (minimize false negatives)"
   ]
  },
  {
   "cell_type": "code",
   "execution_count": 46,
   "metadata": {},
   "outputs": [
    {
     "name": "stdout",
     "output_type": "stream",
     "text": [
      "--- 0.2858 seconds ---\n",
      "Precision:0.806 / Recall:0.829 / Accuracy:0.829 / MCC:0.657 / ROC_AUC:0.884\n",
      "{'C': 2, 'penalty': 'l2', 'solver': 'liblinear'}\n"
     ]
    }
   ],
   "source": [
    "#Logistic regression with grid search\n",
    "\n",
    "start_time = time.time()\n",
    "\n",
    "lr2 = LogisticRegression(random_state=52, max_iter=1000)\n",
    "\n",
    "param_grid = {'penalty':['l1','l2'],\n",
    "              'C':[0.1,1.0,1.5,2,2.5,3,4,5,10],\n",
    "             'solver':['liblinear']}  #results no better than the base model [C=1,penalty='l2','solver'='lbfgs']\n",
    "    \n",
    "grid_lr = GridSearchCV(lr2, param_grid = param_grid, cv=StratifiedKFold(n_splits=5), scoring='recall',refit=True)\n",
    "grid_lr.fit(X_train_scaled,y_train)\n",
    "y_pred = grid_lr.predict(X_test_scaled)\n",
    "\n",
    "grid_lr_pfm = model_eval(grid_lr,'LogisticRegression_tuned',X_test_scaled,y_test,y_pred)\n",
    "print(grid_lr.best_params_)"
   ]
  },
  {
   "cell_type": "code",
   "execution_count": 47,
   "metadata": {},
   "outputs": [
    {
     "name": "stdout",
     "output_type": "stream",
     "text": [
      "--- 15.3817 seconds ---\n",
      "Precision:0.853 / Recall:0.829 / Accuracy:0.855 / MCC:0.708 / ROC_AUC:0.886\n",
      "Tuned hyperparameters: {'bootstrap': True, 'max_depth': 10, 'max_features': 'sqrt', 'min_impurity_decrease': 0, 'min_samples_split': 3, 'n_estimators': 100}\n"
     ]
    }
   ],
   "source": [
    "#Ramdom forest with grid search\n",
    "start_time = time.time()\n",
    "\n",
    "rf2 = RandomForestClassifier(random_state=52)\n",
    "\n",
    "param_grid = {'n_estimators':[50,100,200],\n",
    "                'max_depth':[5,10,15,None],\n",
    "                'max_features':['sqrt'],\n",
    "                'min_samples_split':[3,5],\n",
    "                'min_impurity_decrease':[0],\n",
    "                 'bootstrap':[True]\n",
    "                }\n",
    "    \n",
    "grid_rf = GridSearchCV(rf2, param_grid = param_grid, cv=StratifiedKFold(n_splits=5), scoring='recall')\n",
    "grid_rf.fit(X_train,y_train)\n",
    "y_pred = grid_rf.predict(X_test)\n",
    "\n",
    "grid_rf_pfm = model_eval(grid_rf,'RandomForest_tuned',X_test,y_test,y_pred)\n",
    "print('Tuned hyperparameters:',grid_rf.best_params_)"
   ]
  },
  {
   "cell_type": "code",
   "execution_count": 48,
   "metadata": {},
   "outputs": [
    {
     "data": {
      "text/html": [
       "<div>\n",
       "<style scoped>\n",
       "    .dataframe tbody tr th:only-of-type {\n",
       "        vertical-align: middle;\n",
       "    }\n",
       "\n",
       "    .dataframe tbody tr th {\n",
       "        vertical-align: top;\n",
       "    }\n",
       "\n",
       "    .dataframe thead th {\n",
       "        text-align: right;\n",
       "    }\n",
       "</style>\n",
       "<table border=\"1\" class=\"dataframe\">\n",
       "  <thead>\n",
       "    <tr style=\"text-align: right;\">\n",
       "      <th></th>\n",
       "      <th>model</th>\n",
       "      <th>precision</th>\n",
       "      <th>recall</th>\n",
       "      <th>accuracy</th>\n",
       "      <th>mcc</th>\n",
       "      <th>roc_auc</th>\n",
       "      <th>times</th>\n",
       "    </tr>\n",
       "  </thead>\n",
       "  <tbody>\n",
       "    <tr>\n",
       "      <th>0</th>\n",
       "      <td>LogisticRegression</td>\n",
       "      <td>0.811</td>\n",
       "      <td>0.857</td>\n",
       "      <td>0.842</td>\n",
       "      <td>0.685</td>\n",
       "      <td>0.884</td>\n",
       "      <td>0.0044</td>\n",
       "    </tr>\n",
       "    <tr>\n",
       "      <th>1</th>\n",
       "      <td>LogisticRegression_tuned</td>\n",
       "      <td>0.806</td>\n",
       "      <td>0.829</td>\n",
       "      <td>0.829</td>\n",
       "      <td>0.657</td>\n",
       "      <td>0.884</td>\n",
       "      <td>0.2858</td>\n",
       "    </tr>\n",
       "    <tr>\n",
       "      <th>2</th>\n",
       "      <td>RandomForest</td>\n",
       "      <td>0.848</td>\n",
       "      <td>0.800</td>\n",
       "      <td>0.842</td>\n",
       "      <td>0.682</td>\n",
       "      <td>0.892</td>\n",
       "      <td>0.1144</td>\n",
       "    </tr>\n",
       "    <tr>\n",
       "      <th>3</th>\n",
       "      <td>RandomForest_tuned</td>\n",
       "      <td>0.853</td>\n",
       "      <td>0.829</td>\n",
       "      <td>0.855</td>\n",
       "      <td>0.708</td>\n",
       "      <td>0.886</td>\n",
       "      <td>15.3817</td>\n",
       "    </tr>\n",
       "  </tbody>\n",
       "</table>\n",
       "</div>"
      ],
      "text/plain": [
       "                      model  precision  recall  accuracy    mcc  roc_auc  \\\n",
       "0        LogisticRegression      0.811   0.857     0.842  0.685    0.884   \n",
       "1  LogisticRegression_tuned      0.806   0.829     0.829  0.657    0.884   \n",
       "2              RandomForest      0.848   0.800     0.842  0.682    0.892   \n",
       "3        RandomForest_tuned      0.853   0.829     0.855  0.708    0.886   \n",
       "\n",
       "     times  \n",
       "0   0.0044  \n",
       "1   0.2858  \n",
       "2   0.1144  \n",
       "3  15.3817  "
      ]
     },
     "metadata": {},
     "output_type": "display_data"
    }
   ],
   "source": [
    "#Comparing model performance with and without hyperparameter tuning\n",
    "c_pfm = [lr_pfm, grid_lr_pfm,\n",
    "      rf_pfm, grid_rf_pfm]\n",
    "\n",
    "cols = ['model', 'precision', 'recall', 'accuracy', 'mcc', 'roc_auc', 'times']\n",
    "c_pfm = pd.DataFrame(c_pfm)[cols]\n",
    "display(c_pfm)"
   ]
  },
  {
   "cell_type": "markdown",
   "metadata": {},
   "source": [
    "## 5.5. Final model"
   ]
  },
  {
   "cell_type": "code",
   "execution_count": 49,
   "metadata": {},
   "outputs": [
    {
     "data": {
      "image/png": "[encoded data removed]",
      "text/plain": [
       "<Figure size 432x432 with 1 Axes>"
      ]
     },
     "metadata": {},
     "output_type": "display_data"
    }
   ],
   "source": [
    "#roc curve of lr model\n",
    "lr_fpr,lr_tpr,threshold = roc_curve(y_test,lr.predict_proba(X_test_scaled)[:,1])\n",
    "roc_auc_ = auc(lr_fpr,lr_tpr)\n",
    "plt.figure(figsize=(6,6))\n",
    "_=plt.plot([0,1],[0,1],'k--')\n",
    "_=plt.plot(lr_fpr,lr_tpr,'r',label='AUC = %.3f'%roc_auc_)\n",
    "_=plt.title('Receiver Operating Characteristic (ROC) curve')\n",
    "_=plt.xlabel('False Positive Rate (1 - Specificity)',fontsize=12,fontweight='bold')\n",
    "_=plt.ylabel('True Positive Rate (Sensitivity)',fontsize=12,fontweight='bold')\n",
    "_=plt.legend(loc='lower right')"
   ]
  },
  {
   "cell_type": "code",
   "execution_count": 50,
   "metadata": {},
   "outputs": [
    {
     "data": {
      "image/png": "[encoded data removed]",
      "text/plain": [
       "<Figure size 432x432 with 1 Axes>"
      ]
     },
     "metadata": {},
     "output_type": "display_data"
    }
   ],
   "source": [
    "# output feature importance from the best model -- logistic regression with highest recall\n",
    "coef = abs(lr.coef_[0])\n",
    "dat = pd.DataFrame(sorted(zip(coef, X_train.columns),reverse=True),columns=['Coefficient','Variable'])\n",
    "\n",
    "plt.figure(figsize=(6,6))      \n",
    "g=sns.barplot('Coefficient','Variable',data=dat)\n",
    "g.set_xlabel('Coefficient',fontsize=12,weight='bold')\n",
    "g.set_ylabel('Variable',size=12,weight='bold')\n",
    "g.set_yticklabels(g.get_yticklabels(),size=14)\n",
    "plt.show()"
   ]
  },
  {
   "cell_type": "markdown",
   "metadata": {},
   "source": [
    "# 6. Conclusions \n",
    "\n",
    "*Heart disease is the leading cause of death in the US and worldwide, which produces immense health and economic burdens. Identifying those at increased risk for heart disease at earliest stage is critical to reduce the mortality associated with heart failure. While advanced 'omics' technologies have emerged as promising ways of understanding risk of disease mechanistically, predictive model based on traditional risk factors remains an important clinical tool that is rapid, cost-effective, and can be as accurate as molecular methods.*\n",
    "\n",
    "A comparison of 10 binary classification algorithms suggested that logistic regression and random forest were among the models with top performance. Subsequent hyperparameter tuning via grid search furthur increased the performance of random forest, however, it did not improve the performance of logistic regression. Although ramdom forest with grid search hyperparamter tuning gives the highest accuracy (i.e. 0.855 ), logistic regression with default settings (i.e. C=1.0, penalty='l2', solver='lbfgs') was selected as the final model for prediction of heart disease risks. This is because logistic regression, although gives slightly lower accuracy score (i.e. 0.842) compared to random forest grid search, it gives the highest recall score (i.e. 0.857). A higher recall score means lower false negatives, which is important in the prediction of heart disease. In addition, compared to random forest, logistic regression is substantially faster, and it is easier to incorporte more training data once they become available. \n",
    "\n",
    "In future, it would be worthwhile to to additional feature engineering provided with more domain knowledge and data. Developing a user-friendly interactive dashboard tool is equally important.  "
   ]
  },
  {
   "cell_type": "code",
   "execution_count": 55,
   "metadata": {
    "jupyter": {
     "source_hidden": true
    }
   },
   "outputs": [],
   "source": [
    "#print(grid_rf_pfm['accuracy'],grid_rf_pfm['recall'],lr_pfm['recall'],lr_pfm['accuracy'])"
   ]
  },
  {
   "cell_type": "markdown",
   "metadata": {},
   "source": [
    "# Acknowledgements \n",
    "This work is not possible without the database provided by the UCI Machine Learning repository. I would like to thank Dipanjan Sarkar, Kenneth Gil-Pasquel, and the Springboard team who provided inputs and guidance during this project. "
   ]
  },
  {
   "cell_type": "markdown",
   "metadata": {},
   "source": [
    "## Work in Progress\n",
    "*Developing an interactive dashboard -- Heart disease risk calculator*<br><br>\n",
    "*This work is in progress. Your feedback would be greatly appreciated.<br><br>\n",
    "\n",
    "**Thank you for reading!**<br><br>\n"
   ]
  },
  {
   "cell_type": "code",
   "execution_count": 52,
   "metadata": {
    "jupyter": {
     "source_hidden": true
    }
   },
   "outputs": [],
   "source": [
    "from jupyter_dash import JupyterDash\n",
    "import dash_core_components as dcc #create interactive dash graphs\n",
    "import dash_html_components as html #structure and design the layout of the page\n",
    "from dash.dependencies import Input, Output, State\n",
    "#the input will be the information entered by the user in the dashboard;\n",
    "#the output will be the graph placeholder where we plot the data\n",
    "import plotly.graph_objects as go #build graphs"
   ]
  },
  {
   "cell_type": "code",
   "execution_count": 53,
   "metadata": {
    "jupyter": {
     "source_hidden": true
    }
   },
   "outputs": [],
   "source": [
    "# Load Data\n",
    "df = pd.read_csv('data/test_data.csv')\n",
    "\n",
    "# make predictions\n",
    "df2 = pd.get_dummies(df,columns=['sex','cp','fbs','restecg','exang','slope','thal'], drop_first=True)\n",
    "test = scaler.transform(df2)\n",
    "risk = lr.predict_proba(test)[:,1]\n",
    "threshold = 0.5\n",
    "data = {'PatientID':df.index,\n",
    "       'risk_prob':risk,\n",
    "       'target':risk>threshold}\n",
    "riskdf = pd.DataFrame(data)"
   ]
  },
  {
   "cell_type": "code",
   "execution_count": 54,
   "metadata": {
    "jupyter": {
     "source_hidden": true
    }
   },
   "outputs": [
    {
     "data": {
      "text/html": [
       "\n",
       "        <iframe\n",
       "            width=\"100%\"\n",
       "            height=\"650\"\n",
       "            src=\"http://127.0.0.1:8050/\"\n",
       "            frameborder=\"0\"\n",
       "            allowfullscreen\n",
       "        ></iframe>\n",
       "        "
      ],
      "text/plain": [
       "<IPython.lib.display.IFrame at 0x7f8d771874d0>"
      ]
     },
     "metadata": {},
     "output_type": "display_data"
    }
   ],
   "source": [
    "#create a plotly figure\n",
    "trace1 = go.Scatter(x=data['PatientID'],y=data['risk_prob'],mode='markers',\n",
    "                   marker=dict(size=12,\n",
    "                              color=riskdf.target.astype('int'), colorscale=[[0,'green'],[1,'red']]))\n",
    "\n",
    "layout = go.Layout(title = 'Predicting Heart Disease Risk',\n",
    "                   xaxis_title='Patient ID',\n",
    "                   yaxis_title='Probability of Heart Disease',\n",
    "                   hovermode='closest')\n",
    "fig = go.Figure(data = [trace1],layout = layout)\n",
    "\n",
    "fig.add_shape(\n",
    "    dict(type='line',\n",
    "        x0=0,y0=0.5,\n",
    "        x1=len(riskdf.PatientID),y1=0.5,\n",
    "        line=dict(color='red', width=2, dash='dashdot')\n",
    "        ))\n",
    "fig.update_shapes(dict(xref='x', yref='y'))\n",
    "\n",
    "fig.update_traces(selector=dict(mode='markers'),\n",
    "                  hovertext=data['PatientID'],\n",
    "                  hoverlabel=dict(namelength=0),\n",
    "                  hovertemplate='PatientID: %{x}<br>Risk: %{y}')\n",
    "                   \n",
    "fig.update_layout(template='plotly_white',\n",
    "                 font = dict(family='Verdana',size=16,color='black'))\n",
    "\n",
    "fig.update_xaxes(showline=True,\n",
    "                 linewidth=2,\n",
    "                 linecolor='black',\n",
    "                 mirror=True,\n",
    "                 showgrid=True)\n",
    "\n",
    "# Build App\n",
    "app = JupyterDash(__name__)\n",
    "colors = {\n",
    "    \"graphBackground\": \"#F5F5F5\",\n",
    "    \"background\": \"#ffffff\",\n",
    "    \"text\": \"#000000\"\n",
    "}\n",
    "app.layout = html.Div([\n",
    "    dcc.Upload(id='upload-data',\n",
    "        children=html.Div([\n",
    "        'Drag and Drop or ',\n",
    "        html.A('Select Files')\n",
    "    ]),\n",
    "    style={\n",
    "        'width': '100%',\n",
    "        'height': '60px',\n",
    "        'lineHeight': '60px',\n",
    "        'borderWidth': '1px',\n",
    "        'borderStyle': 'dashed',\n",
    "        'borderRadius': '5px',\n",
    "        'textAlign': 'center',\n",
    "        'margin': '10px'},\n",
    "    multiple=True),\n",
    "    dcc.Graph(id='graph',figure=fig)\n",
    "])\n",
    "\n",
    "## Define callback to update graph\n",
    "\n",
    "# Run app and display result inline in the notebook\n",
    "if __name__ == '__main__':\n",
    "    app.run_server(mode='inline')"
   ]
  },
  {
   "cell_type": "code",
   "execution_count": null,
   "metadata": {},
   "outputs": [],
   "source": []
  }
 ],
 "metadata": {
  "kernelspec": {
   "display_name": "Python 3",
   "language": "python",
   "name": "python3"
  },
  "language_info": {
   "codemirror_mode": {
    "name": "ipython",
    "version": 3
   },
   "file_extension": ".py",
   "mimetype": "text/x-python",
   "name": "python",
   "nbconvert_exporter": "python",
   "pygments_lexer": "ipython3",
   "version": "3.7.7"
  },
  "toc-autonumbering": false,
  "toc-showcode": false,
  "toc-showmarkdowntxt": false,
  "toc-showtags": true
 },
 "nbformat": 4,
 "nbformat_minor": 4
}
