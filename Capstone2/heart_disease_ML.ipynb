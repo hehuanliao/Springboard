{
 "cells": [
  {
   "cell_type": "markdown",
   "metadata": {},
   "source": [
    "# Prediction of heart disease at early stage using machine learning\n",
    "\n",
    "## 1. Problem Identification\n",
    "***\n",
    "Heart disease is the leading cause of death in the US, and it produces immense health and economic burens [(CDC 2020)](https://www.cdc.gov/heartdisease/)\n",
    "\n",
    "* more than 600,000 people die from heart disease each year in the US - that's 1 in every 4 deaths \n",
    "\n",
    "* costs associated with health care services, medicines, and lost productivity due to death were estimated to be about $219 billion each year from 2014-2015 in the US \n",
    "\n",
    "* about 1 in 3 deaths related to heart diseases are preventable -- early action is important [(MMWR 2014)](https://www.cdc.gov/mmwr/preview/mmwrhtml/mm6317a1.htm)\n",
    " \n",
    "#### Given a set of health parameters from routine monitoring, can we robustly predict the risk of heart disease as early as possible?\n",
    "\n",
    "\n",
    "> <img align='center' width='200' height='150' src=\"hd-facts.jpg\">\n",
    "\n",
    "### Dataset description: \n",
    "\n",
    "The original database contains 76 attributes, but all published studies refer to using a subset of 14 of them. This project used the Cleveland database downloaded from [UCI Machine Learning Repository](https://archive.ics.uci.edu/ml/datasets/Heart+Disease). Below is a description of each of the 14 attributes: \n",
    "\n",
    "\n",
    "| No. | Variable | Description | Data summary |\n",
    "| --- | --- | --- | --- |\n",
    "| 1 | age | age in years | continuous |\n",
    "| 2 | sex | male or female | 0=female; 1=male |\n",
    "| 3 | cp | chest pain type | 1=typical angina<br/> 2=atypical angina<br/> 3=non-anginal pain<br/> 4=asymptomatic |\n",
    "| 4 | trestbps | resting blood pressure | continuous, in mmHg |\n",
    "| 5 | chol | Serum cholesterol | continuous |\n",
    "| 6 | fbs | fasting blood sugar | 0: <=120 mg/dL<br/> 1: >120 mg/dL |\n",
    "| 7 | restecg | resting electrocardiographic results | 0=normal<br/> 1=having ST-T wave abnormal<br/> 2=left ventricular hypertrophy |\n",
    "| 8 | thalach | maximum heart rate achieved | continuous |\n",
    "| 9 | exang | exercise induced angina | 0=no; 1=yes |\n",
    "| 10 | oldpeak | ST depression induced by exercise relative to rest | continuous |\n",
    "| 11 | slope | the slope of the peak exercise ST segment  | 1=upsloping<br/> 2=flat<br/> 3=downsloping |\n",
    "| 12 | ca | number of major vessels colored by flouroscopy | integer, 0-3 |\n",
    "| 13 | thal | a bood disorder called thalassemia | 3=normal<br/> 6=fixed defect<br/> 7=reversable defect |\n",
    "| 14 | target | diagnosis of heart disease | 0=no; 1=yes |\n"
   ]
  },
  {
   "cell_type": "markdown",
   "metadata": {},
   "source": [
    "## 2. Data wrangling\n",
    "***\n",
    "* data loading\n",
    "* data definition: column names, data type, summary statistics, counts of unique values etc.\n",
    "* data cleaning: missing values, duplicates etc."
   ]
  },
  {
   "cell_type": "code",
   "execution_count": 1,
   "metadata": {},
   "outputs": [],
   "source": [
    "#load basic libraries\n",
    "import os\n",
    "import numpy as np #linear algebra\n",
    "import pandas as pd # data processing\n",
    "import pandas_profiling \n",
    "import matplotlib.pyplot as plt\n",
    "import seaborn as sns\n",
    "%matplotlib inline\n",
    "sns.set_style('whitegrid')"
   ]
  },
  {
   "cell_type": "code",
   "execution_count": 2,
   "metadata": {},
   "outputs": [
    {
     "name": "stdout",
     "output_type": "stream",
     "text": [
      "The current working directory is /Users/hhl/Desktop/Springboard062020/Springboard/Capstone2\n"
     ]
    },
    {
     "data": {
      "text/plain": [
       "['Capstone2-Step0-Ideas.pdf',\n",
       " '.DS_Store',\n",
       " 'hd-facts.jpg',\n",
       " 'datasets_216167_477177_heart.csv',\n",
       " 'Heart-Disease-Prediction-master',\n",
       " 'cleveland.csv',\n",
       " 'models',\n",
       " 'processed.cleveland.data',\n",
       " 'Capstone2-proposal [Hehuan Liao].docx',\n",
       " 'figures',\n",
       " 'Capstone2-Step1-Proposal.pdf',\n",
       " 'Capstone_Two_Step_2__Data_Wrangling.pdf',\n",
       " '.ipynb_checkpoints',\n",
       " 'datasets_heart.csv',\n",
       " 'Capstone2-ideas [Hehuan Liao].docx',\n",
       " 'data',\n",
       " 'heart-v0.ipynb',\n",
       " 'catboost_info']"
      ]
     },
     "execution_count": 2,
     "metadata": {},
     "output_type": "execute_result"
    }
   ],
   "source": [
    "cwd = os.getcwd()\n",
    "print('The current working directory is %s' %cwd)\n",
    "\n",
    "for subfolder in ['data','models','figures']:\n",
    "    newdir = os.path.join(cwd,subfolder)\n",
    "    if not os.path.exists(newdir):\n",
    "        os.makedirs(newdir)\n",
    "    \n",
    "os.listdir()"
   ]
  },
  {
   "cell_type": "code",
   "execution_count": 3,
   "metadata": {},
   "outputs": [],
   "source": [
    "df = pd.read_csv('processed.cleveland.data',header=None)\n",
    "df.columns = ['age','sex','cp','trestbps','chol','fbs','restecg','thalach','exang','oldpeak','slope','ca','thal','target']"
   ]
  },
  {
   "cell_type": "code",
   "execution_count": 4,
   "metadata": {},
   "outputs": [
    {
     "data": {
      "text/html": [
       "<div>\n",
       "<style scoped>\n",
       "    .dataframe tbody tr th:only-of-type {\n",
       "        vertical-align: middle;\n",
       "    }\n",
       "\n",
       "    .dataframe tbody tr th {\n",
       "        vertical-align: top;\n",
       "    }\n",
       "\n",
       "    .dataframe thead th {\n",
       "        text-align: right;\n",
       "    }\n",
       "</style>\n",
       "<table border=\"1\" class=\"dataframe\">\n",
       "  <thead>\n",
       "    <tr style=\"text-align: right;\">\n",
       "      <th></th>\n",
       "      <th>age</th>\n",
       "      <th>sex</th>\n",
       "      <th>cp</th>\n",
       "      <th>trestbps</th>\n",
       "      <th>chol</th>\n",
       "      <th>fbs</th>\n",
       "      <th>restecg</th>\n",
       "      <th>thalach</th>\n",
       "      <th>exang</th>\n",
       "      <th>oldpeak</th>\n",
       "      <th>slope</th>\n",
       "      <th>ca</th>\n",
       "      <th>thal</th>\n",
       "      <th>target</th>\n",
       "    </tr>\n",
       "  </thead>\n",
       "  <tbody>\n",
       "    <tr>\n",
       "      <th>0</th>\n",
       "      <td>63.0</td>\n",
       "      <td>1.0</td>\n",
       "      <td>1.0</td>\n",
       "      <td>145.0</td>\n",
       "      <td>233.0</td>\n",
       "      <td>1.0</td>\n",
       "      <td>2.0</td>\n",
       "      <td>150.0</td>\n",
       "      <td>0.0</td>\n",
       "      <td>2.3</td>\n",
       "      <td>3.0</td>\n",
       "      <td>0.0</td>\n",
       "      <td>6.0</td>\n",
       "      <td>0</td>\n",
       "    </tr>\n",
       "    <tr>\n",
       "      <th>1</th>\n",
       "      <td>67.0</td>\n",
       "      <td>1.0</td>\n",
       "      <td>4.0</td>\n",
       "      <td>160.0</td>\n",
       "      <td>286.0</td>\n",
       "      <td>0.0</td>\n",
       "      <td>2.0</td>\n",
       "      <td>108.0</td>\n",
       "      <td>1.0</td>\n",
       "      <td>1.5</td>\n",
       "      <td>2.0</td>\n",
       "      <td>3.0</td>\n",
       "      <td>3.0</td>\n",
       "      <td>2</td>\n",
       "    </tr>\n",
       "    <tr>\n",
       "      <th>2</th>\n",
       "      <td>67.0</td>\n",
       "      <td>1.0</td>\n",
       "      <td>4.0</td>\n",
       "      <td>120.0</td>\n",
       "      <td>229.0</td>\n",
       "      <td>0.0</td>\n",
       "      <td>2.0</td>\n",
       "      <td>129.0</td>\n",
       "      <td>1.0</td>\n",
       "      <td>2.6</td>\n",
       "      <td>2.0</td>\n",
       "      <td>2.0</td>\n",
       "      <td>7.0</td>\n",
       "      <td>1</td>\n",
       "    </tr>\n",
       "    <tr>\n",
       "      <th>3</th>\n",
       "      <td>37.0</td>\n",
       "      <td>1.0</td>\n",
       "      <td>3.0</td>\n",
       "      <td>130.0</td>\n",
       "      <td>250.0</td>\n",
       "      <td>0.0</td>\n",
       "      <td>0.0</td>\n",
       "      <td>187.0</td>\n",
       "      <td>0.0</td>\n",
       "      <td>3.5</td>\n",
       "      <td>3.0</td>\n",
       "      <td>0.0</td>\n",
       "      <td>3.0</td>\n",
       "      <td>0</td>\n",
       "    </tr>\n",
       "    <tr>\n",
       "      <th>4</th>\n",
       "      <td>41.0</td>\n",
       "      <td>0.0</td>\n",
       "      <td>2.0</td>\n",
       "      <td>130.0</td>\n",
       "      <td>204.0</td>\n",
       "      <td>0.0</td>\n",
       "      <td>2.0</td>\n",
       "      <td>172.0</td>\n",
       "      <td>0.0</td>\n",
       "      <td>1.4</td>\n",
       "      <td>1.0</td>\n",
       "      <td>0.0</td>\n",
       "      <td>3.0</td>\n",
       "      <td>0</td>\n",
       "    </tr>\n",
       "  </tbody>\n",
       "</table>\n",
       "</div>"
      ],
      "text/plain": [
       "    age  sex   cp  trestbps   chol  fbs  restecg  thalach  exang  oldpeak  \\\n",
       "0  63.0  1.0  1.0     145.0  233.0  1.0      2.0    150.0    0.0      2.3   \n",
       "1  67.0  1.0  4.0     160.0  286.0  0.0      2.0    108.0    1.0      1.5   \n",
       "2  67.0  1.0  4.0     120.0  229.0  0.0      2.0    129.0    1.0      2.6   \n",
       "3  37.0  1.0  3.0     130.0  250.0  0.0      0.0    187.0    0.0      3.5   \n",
       "4  41.0  0.0  2.0     130.0  204.0  0.0      2.0    172.0    0.0      1.4   \n",
       "\n",
       "   slope   ca thal  target  \n",
       "0    3.0  0.0  6.0       0  \n",
       "1    2.0  3.0  3.0       2  \n",
       "2    2.0  2.0  7.0       1  \n",
       "3    3.0  0.0  3.0       0  \n",
       "4    1.0  0.0  3.0       0  "
      ]
     },
     "execution_count": 4,
     "metadata": {},
     "output_type": "execute_result"
    }
   ],
   "source": [
    "df.head()"
   ]
  },
  {
   "cell_type": "code",
   "execution_count": 5,
   "metadata": {},
   "outputs": [
    {
     "name": "stdout",
     "output_type": "stream",
     "text": [
      "<class 'pandas.core.frame.DataFrame'>\n",
      "RangeIndex: 303 entries, 0 to 302\n",
      "Data columns (total 14 columns):\n",
      " #   Column    Non-Null Count  Dtype  \n",
      "---  ------    --------------  -----  \n",
      " 0   age       303 non-null    float64\n",
      " 1   sex       303 non-null    float64\n",
      " 2   cp        303 non-null    float64\n",
      " 3   trestbps  303 non-null    float64\n",
      " 4   chol      303 non-null    float64\n",
      " 5   fbs       303 non-null    float64\n",
      " 6   restecg   303 non-null    float64\n",
      " 7   thalach   303 non-null    float64\n",
      " 8   exang     303 non-null    float64\n",
      " 9   oldpeak   303 non-null    float64\n",
      " 10  slope     303 non-null    float64\n",
      " 11  ca        303 non-null    object \n",
      " 12  thal      303 non-null    object \n",
      " 13  target    303 non-null    int64  \n",
      "dtypes: float64(11), int64(1), object(2)\n",
      "memory usage: 33.3+ KB\n"
     ]
    }
   ],
   "source": [
    "df.info()"
   ]
  },
  {
   "cell_type": "code",
   "execution_count": 6,
   "metadata": {},
   "outputs": [
    {
     "data": {
      "text/plain": [
       "age         0\n",
       "sex         0\n",
       "cp          0\n",
       "trestbps    0\n",
       "chol        0\n",
       "fbs         0\n",
       "restecg     0\n",
       "thalach     0\n",
       "exang       0\n",
       "oldpeak     0\n",
       "slope       0\n",
       "ca          0\n",
       "thal        0\n",
       "target      0\n",
       "dtype: int64"
      ]
     },
     "execution_count": 6,
     "metadata": {},
     "output_type": "execute_result"
    }
   ],
   "source": [
    "df.isnull().sum().sort_values(ascending=True)"
   ]
  },
  {
   "cell_type": "code",
   "execution_count": 7,
   "metadata": {},
   "outputs": [
    {
     "data": {
      "text/plain": [
       "0.0    176\n",
       "1.0     65\n",
       "2.0     38\n",
       "3.0     20\n",
       "?        4\n",
       "Name: ca, dtype: int64"
      ]
     },
     "execution_count": 7,
     "metadata": {},
     "output_type": "execute_result"
    }
   ],
   "source": [
    "df.ca.value_counts()"
   ]
  },
  {
   "cell_type": "code",
   "execution_count": 8,
   "metadata": {},
   "outputs": [
    {
     "data": {
      "text/plain": [
       "3.0    166\n",
       "7.0    117\n",
       "6.0     18\n",
       "?        2\n",
       "Name: thal, dtype: int64"
      ]
     },
     "execution_count": 8,
     "metadata": {},
     "output_type": "execute_result"
    }
   ],
   "source": [
    "df.thal.value_counts()"
   ]
  },
  {
   "cell_type": "code",
   "execution_count": 9,
   "metadata": {},
   "outputs": [],
   "source": [
    "df.replace('?',np.nan,inplace=True)"
   ]
  },
  {
   "cell_type": "code",
   "execution_count": 10,
   "metadata": {},
   "outputs": [],
   "source": [
    "#fill na with mode\n",
    "df[['ca','thal']] = df[['ca','thal']].fillna(df[['ca','thal']].mode().iloc[0])"
   ]
  },
  {
   "cell_type": "code",
   "execution_count": 11,
   "metadata": {},
   "outputs": [
    {
     "data": {
      "text/plain": [
       "0.0    180\n",
       "1.0     65\n",
       "2.0     38\n",
       "3.0     20\n",
       "Name: ca, dtype: int64"
      ]
     },
     "execution_count": 11,
     "metadata": {},
     "output_type": "execute_result"
    }
   ],
   "source": [
    "df.ca.value_counts()"
   ]
  },
  {
   "cell_type": "code",
   "execution_count": 12,
   "metadata": {},
   "outputs": [
    {
     "data": {
      "text/html": [
       "<div>\n",
       "<style scoped>\n",
       "    .dataframe tbody tr th:only-of-type {\n",
       "        vertical-align: middle;\n",
       "    }\n",
       "\n",
       "    .dataframe tbody tr th {\n",
       "        vertical-align: top;\n",
       "    }\n",
       "\n",
       "    .dataframe thead th {\n",
       "        text-align: right;\n",
       "    }\n",
       "</style>\n",
       "<table border=\"1\" class=\"dataframe\">\n",
       "  <thead>\n",
       "    <tr style=\"text-align: right;\">\n",
       "      <th></th>\n",
       "      <th>age</th>\n",
       "      <th>sex</th>\n",
       "      <th>cp</th>\n",
       "      <th>trestbps</th>\n",
       "      <th>chol</th>\n",
       "      <th>fbs</th>\n",
       "      <th>restecg</th>\n",
       "      <th>thalach</th>\n",
       "      <th>exang</th>\n",
       "      <th>oldpeak</th>\n",
       "      <th>slope</th>\n",
       "      <th>ca</th>\n",
       "      <th>thal</th>\n",
       "      <th>target</th>\n",
       "    </tr>\n",
       "  </thead>\n",
       "  <tbody>\n",
       "  </tbody>\n",
       "</table>\n",
       "</div>"
      ],
      "text/plain": [
       "Empty DataFrame\n",
       "Columns: [age, sex, cp, trestbps, chol, fbs, restecg, thalach, exang, oldpeak, slope, ca, thal, target]\n",
       "Index: []"
      ]
     },
     "execution_count": 12,
     "metadata": {},
     "output_type": "execute_result"
    }
   ],
   "source": [
    "df[df.duplicated()]  "
   ]
  },
  {
   "cell_type": "code",
   "execution_count": 13,
   "metadata": {},
   "outputs": [
    {
     "data": {
      "text/plain": [
       "3.0    168\n",
       "7.0    117\n",
       "6.0     18\n",
       "Name: thal, dtype: int64"
      ]
     },
     "execution_count": 13,
     "metadata": {},
     "output_type": "execute_result"
    }
   ],
   "source": [
    "df.thal.value_counts()"
   ]
  },
  {
   "cell_type": "code",
   "execution_count": 14,
   "metadata": {},
   "outputs": [
    {
     "data": {
      "text/html": [
       "<div>\n",
       "<style scoped>\n",
       "    .dataframe tbody tr th:only-of-type {\n",
       "        vertical-align: middle;\n",
       "    }\n",
       "\n",
       "    .dataframe tbody tr th {\n",
       "        vertical-align: top;\n",
       "    }\n",
       "\n",
       "    .dataframe thead th {\n",
       "        text-align: right;\n",
       "    }\n",
       "</style>\n",
       "<table border=\"1\" class=\"dataframe\">\n",
       "  <thead>\n",
       "    <tr style=\"text-align: right;\">\n",
       "      <th></th>\n",
       "      <th>age</th>\n",
       "      <th>sex</th>\n",
       "      <th>cp</th>\n",
       "      <th>trestbps</th>\n",
       "      <th>chol</th>\n",
       "      <th>fbs</th>\n",
       "      <th>restecg</th>\n",
       "      <th>thalach</th>\n",
       "      <th>exang</th>\n",
       "      <th>oldpeak</th>\n",
       "      <th>slope</th>\n",
       "      <th>ca</th>\n",
       "      <th>thal</th>\n",
       "      <th>target</th>\n",
       "    </tr>\n",
       "  </thead>\n",
       "  <tbody>\n",
       "    <tr>\n",
       "      <th>0</th>\n",
       "      <td>63.0</td>\n",
       "      <td>1.0</td>\n",
       "      <td>1.0</td>\n",
       "      <td>145.0</td>\n",
       "      <td>233.0</td>\n",
       "      <td>1.0</td>\n",
       "      <td>2.0</td>\n",
       "      <td>150.0</td>\n",
       "      <td>0.0</td>\n",
       "      <td>2.3</td>\n",
       "      <td>3.0</td>\n",
       "      <td>0.0</td>\n",
       "      <td>6.0</td>\n",
       "      <td>0</td>\n",
       "    </tr>\n",
       "    <tr>\n",
       "      <th>1</th>\n",
       "      <td>67.0</td>\n",
       "      <td>1.0</td>\n",
       "      <td>4.0</td>\n",
       "      <td>160.0</td>\n",
       "      <td>286.0</td>\n",
       "      <td>0.0</td>\n",
       "      <td>2.0</td>\n",
       "      <td>108.0</td>\n",
       "      <td>1.0</td>\n",
       "      <td>1.5</td>\n",
       "      <td>2.0</td>\n",
       "      <td>3.0</td>\n",
       "      <td>3.0</td>\n",
       "      <td>2</td>\n",
       "    </tr>\n",
       "    <tr>\n",
       "      <th>2</th>\n",
       "      <td>67.0</td>\n",
       "      <td>1.0</td>\n",
       "      <td>4.0</td>\n",
       "      <td>120.0</td>\n",
       "      <td>229.0</td>\n",
       "      <td>0.0</td>\n",
       "      <td>2.0</td>\n",
       "      <td>129.0</td>\n",
       "      <td>1.0</td>\n",
       "      <td>2.6</td>\n",
       "      <td>2.0</td>\n",
       "      <td>2.0</td>\n",
       "      <td>7.0</td>\n",
       "      <td>1</td>\n",
       "    </tr>\n",
       "    <tr>\n",
       "      <th>3</th>\n",
       "      <td>37.0</td>\n",
       "      <td>1.0</td>\n",
       "      <td>3.0</td>\n",
       "      <td>130.0</td>\n",
       "      <td>250.0</td>\n",
       "      <td>0.0</td>\n",
       "      <td>0.0</td>\n",
       "      <td>187.0</td>\n",
       "      <td>0.0</td>\n",
       "      <td>3.5</td>\n",
       "      <td>3.0</td>\n",
       "      <td>0.0</td>\n",
       "      <td>3.0</td>\n",
       "      <td>0</td>\n",
       "    </tr>\n",
       "    <tr>\n",
       "      <th>4</th>\n",
       "      <td>41.0</td>\n",
       "      <td>0.0</td>\n",
       "      <td>2.0</td>\n",
       "      <td>130.0</td>\n",
       "      <td>204.0</td>\n",
       "      <td>0.0</td>\n",
       "      <td>2.0</td>\n",
       "      <td>172.0</td>\n",
       "      <td>0.0</td>\n",
       "      <td>1.4</td>\n",
       "      <td>1.0</td>\n",
       "      <td>0.0</td>\n",
       "      <td>3.0</td>\n",
       "      <td>0</td>\n",
       "    </tr>\n",
       "  </tbody>\n",
       "</table>\n",
       "</div>"
      ],
      "text/plain": [
       "    age  sex   cp  trestbps   chol  fbs  restecg  thalach  exang  oldpeak  \\\n",
       "0  63.0  1.0  1.0     145.0  233.0  1.0      2.0    150.0    0.0      2.3   \n",
       "1  67.0  1.0  4.0     160.0  286.0  0.0      2.0    108.0    1.0      1.5   \n",
       "2  67.0  1.0  4.0     120.0  229.0  0.0      2.0    129.0    1.0      2.6   \n",
       "3  37.0  1.0  3.0     130.0  250.0  0.0      0.0    187.0    0.0      3.5   \n",
       "4  41.0  0.0  2.0     130.0  204.0  0.0      2.0    172.0    0.0      1.4   \n",
       "\n",
       "   slope   ca thal  target  \n",
       "0    3.0  0.0  6.0       0  \n",
       "1    2.0  3.0  3.0       2  \n",
       "2    2.0  2.0  7.0       1  \n",
       "3    3.0  0.0  3.0       0  \n",
       "4    1.0  0.0  3.0       0  "
      ]
     },
     "execution_count": 14,
     "metadata": {},
     "output_type": "execute_result"
    }
   ],
   "source": [
    "df.head()"
   ]
  },
  {
   "cell_type": "code",
   "execution_count": 15,
   "metadata": {},
   "outputs": [],
   "source": [
    "df['target'] = df.target.map({0:0,\n",
    "                             1:1,\n",
    "                             2:1,\n",
    "                             3:1,\n",
    "                             4:1})"
   ]
  },
  {
   "cell_type": "code",
   "execution_count": 16,
   "metadata": {},
   "outputs": [
    {
     "data": {
      "text/plain": [
       "age         float64\n",
       "sex         float64\n",
       "cp          float64\n",
       "trestbps    float64\n",
       "chol        float64\n",
       "fbs         float64\n",
       "restecg     float64\n",
       "thalach     float64\n",
       "exang       float64\n",
       "oldpeak     float64\n",
       "slope       float64\n",
       "ca           object\n",
       "thal         object\n",
       "target        int64\n",
       "dtype: object"
      ]
     },
     "execution_count": 16,
     "metadata": {},
     "output_type": "execute_result"
    }
   ],
   "source": [
    "df.dtypes"
   ]
  },
  {
   "cell_type": "code",
   "execution_count": 17,
   "metadata": {},
   "outputs": [
    {
     "data": {
      "text/plain": [
       "age          41\n",
       "sex           2\n",
       "cp            4\n",
       "trestbps     50\n",
       "chol        152\n",
       "fbs           2\n",
       "restecg       3\n",
       "thalach      91\n",
       "exang         2\n",
       "oldpeak      40\n",
       "slope         3\n",
       "ca            4\n",
       "thal          3\n",
       "target        2\n",
       "dtype: int64"
      ]
     },
     "execution_count": 17,
     "metadata": {},
     "output_type": "execute_result"
    }
   ],
   "source": [
    "df.nunique()"
   ]
  },
  {
   "cell_type": "code",
   "execution_count": 18,
   "metadata": {},
   "outputs": [
    {
     "data": {
      "text/plain": [
       "0    164\n",
       "1    139\n",
       "Name: target, dtype: int64"
      ]
     },
     "execution_count": 18,
     "metadata": {},
     "output_type": "execute_result"
    }
   ],
   "source": [
    "df.target.value_counts() ##relatively balanced"
   ]
  },
  {
   "cell_type": "code",
   "execution_count": 19,
   "metadata": {},
   "outputs": [
    {
     "data": {
      "text/plain": [
       "1.0    206\n",
       "0.0     97\n",
       "Name: sex, dtype: int64"
      ]
     },
     "execution_count": 19,
     "metadata": {},
     "output_type": "execute_result"
    }
   ],
   "source": [
    "df.sex.value_counts()"
   ]
  },
  {
   "cell_type": "code",
   "execution_count": 20,
   "metadata": {},
   "outputs": [],
   "source": [
    "df.to_csv('data/heart_clean.csv',index=False)"
   ]
  },
  {
   "cell_type": "markdown",
   "metadata": {},
   "source": [
    "## 3. Exploratory data analysis \n",
    "***\n",
    " * Build data profile tables and plots\n",
    "        - Outliers & Anomalies\n",
    " * Explore data relationships\n",
    " * Identification and creation of features\n",
    "\n",
    "- pandas_profiling.ProfileReport()\n",
    "  * data quality: data type, missings, unique values\n",
    "  * data spread: summary statistics, and histograms\n",
    "  * relationships between variables: scatter plots, correlation matrix etc."
   ]
  },
  {
   "cell_type": "code",
   "execution_count": 21,
   "metadata": {},
   "outputs": [],
   "source": [
    "df = pd.read_csv('data/heart_clean.csv')"
   ]
  },
  {
   "cell_type": "code",
   "execution_count": 22,
   "metadata": {},
   "outputs": [
    {
     "name": "stdout",
     "output_type": "stream",
     "text": [
      "<class 'pandas.core.frame.DataFrame'>\n",
      "RangeIndex: 303 entries, 0 to 302\n",
      "Data columns (total 14 columns):\n",
      " #   Column    Non-Null Count  Dtype  \n",
      "---  ------    --------------  -----  \n",
      " 0   age       303 non-null    float64\n",
      " 1   sex       303 non-null    float64\n",
      " 2   cp        303 non-null    float64\n",
      " 3   trestbps  303 non-null    float64\n",
      " 4   chol      303 non-null    float64\n",
      " 5   fbs       303 non-null    float64\n",
      " 6   restecg   303 non-null    float64\n",
      " 7   thalach   303 non-null    float64\n",
      " 8   exang     303 non-null    float64\n",
      " 9   oldpeak   303 non-null    float64\n",
      " 10  slope     303 non-null    float64\n",
      " 11  ca        303 non-null    float64\n",
      " 12  thal      303 non-null    float64\n",
      " 13  target    303 non-null    int64  \n",
      "dtypes: float64(13), int64(1)\n",
      "memory usage: 33.3 KB\n"
     ]
    }
   ],
   "source": [
    "df.info()"
   ]
  },
  {
   "cell_type": "code",
   "execution_count": 23,
   "metadata": {},
   "outputs": [
    {
     "data": {
      "text/html": [
       "<div>\n",
       "<style scoped>\n",
       "    .dataframe tbody tr th:only-of-type {\n",
       "        vertical-align: middle;\n",
       "    }\n",
       "\n",
       "    .dataframe tbody tr th {\n",
       "        vertical-align: top;\n",
       "    }\n",
       "\n",
       "    .dataframe thead th {\n",
       "        text-align: right;\n",
       "    }\n",
       "</style>\n",
       "<table border=\"1\" class=\"dataframe\">\n",
       "  <thead>\n",
       "    <tr style=\"text-align: right;\">\n",
       "      <th></th>\n",
       "      <th>count</th>\n",
       "      <th>mean</th>\n",
       "      <th>std</th>\n",
       "      <th>min</th>\n",
       "      <th>25%</th>\n",
       "      <th>50%</th>\n",
       "      <th>75%</th>\n",
       "      <th>max</th>\n",
       "    </tr>\n",
       "  </thead>\n",
       "  <tbody>\n",
       "    <tr>\n",
       "      <th>age</th>\n",
       "      <td>303.0</td>\n",
       "      <td>54.438944</td>\n",
       "      <td>9.038662</td>\n",
       "      <td>29.0</td>\n",
       "      <td>48.0</td>\n",
       "      <td>56.0</td>\n",
       "      <td>61.0</td>\n",
       "      <td>77.0</td>\n",
       "    </tr>\n",
       "    <tr>\n",
       "      <th>sex</th>\n",
       "      <td>303.0</td>\n",
       "      <td>0.679868</td>\n",
       "      <td>0.467299</td>\n",
       "      <td>0.0</td>\n",
       "      <td>0.0</td>\n",
       "      <td>1.0</td>\n",
       "      <td>1.0</td>\n",
       "      <td>1.0</td>\n",
       "    </tr>\n",
       "    <tr>\n",
       "      <th>cp</th>\n",
       "      <td>303.0</td>\n",
       "      <td>3.158416</td>\n",
       "      <td>0.960126</td>\n",
       "      <td>1.0</td>\n",
       "      <td>3.0</td>\n",
       "      <td>3.0</td>\n",
       "      <td>4.0</td>\n",
       "      <td>4.0</td>\n",
       "    </tr>\n",
       "    <tr>\n",
       "      <th>trestbps</th>\n",
       "      <td>303.0</td>\n",
       "      <td>131.689769</td>\n",
       "      <td>17.599748</td>\n",
       "      <td>94.0</td>\n",
       "      <td>120.0</td>\n",
       "      <td>130.0</td>\n",
       "      <td>140.0</td>\n",
       "      <td>200.0</td>\n",
       "    </tr>\n",
       "    <tr>\n",
       "      <th>chol</th>\n",
       "      <td>303.0</td>\n",
       "      <td>246.693069</td>\n",
       "      <td>51.776918</td>\n",
       "      <td>126.0</td>\n",
       "      <td>211.0</td>\n",
       "      <td>241.0</td>\n",
       "      <td>275.0</td>\n",
       "      <td>564.0</td>\n",
       "    </tr>\n",
       "    <tr>\n",
       "      <th>fbs</th>\n",
       "      <td>303.0</td>\n",
       "      <td>0.148515</td>\n",
       "      <td>0.356198</td>\n",
       "      <td>0.0</td>\n",
       "      <td>0.0</td>\n",
       "      <td>0.0</td>\n",
       "      <td>0.0</td>\n",
       "      <td>1.0</td>\n",
       "    </tr>\n",
       "    <tr>\n",
       "      <th>restecg</th>\n",
       "      <td>303.0</td>\n",
       "      <td>0.990099</td>\n",
       "      <td>0.994971</td>\n",
       "      <td>0.0</td>\n",
       "      <td>0.0</td>\n",
       "      <td>1.0</td>\n",
       "      <td>2.0</td>\n",
       "      <td>2.0</td>\n",
       "    </tr>\n",
       "    <tr>\n",
       "      <th>thalach</th>\n",
       "      <td>303.0</td>\n",
       "      <td>149.607261</td>\n",
       "      <td>22.875003</td>\n",
       "      <td>71.0</td>\n",
       "      <td>133.5</td>\n",
       "      <td>153.0</td>\n",
       "      <td>166.0</td>\n",
       "      <td>202.0</td>\n",
       "    </tr>\n",
       "    <tr>\n",
       "      <th>exang</th>\n",
       "      <td>303.0</td>\n",
       "      <td>0.326733</td>\n",
       "      <td>0.469794</td>\n",
       "      <td>0.0</td>\n",
       "      <td>0.0</td>\n",
       "      <td>0.0</td>\n",
       "      <td>1.0</td>\n",
       "      <td>1.0</td>\n",
       "    </tr>\n",
       "    <tr>\n",
       "      <th>oldpeak</th>\n",
       "      <td>303.0</td>\n",
       "      <td>1.039604</td>\n",
       "      <td>1.161075</td>\n",
       "      <td>0.0</td>\n",
       "      <td>0.0</td>\n",
       "      <td>0.8</td>\n",
       "      <td>1.6</td>\n",
       "      <td>6.2</td>\n",
       "    </tr>\n",
       "    <tr>\n",
       "      <th>slope</th>\n",
       "      <td>303.0</td>\n",
       "      <td>1.600660</td>\n",
       "      <td>0.616226</td>\n",
       "      <td>1.0</td>\n",
       "      <td>1.0</td>\n",
       "      <td>2.0</td>\n",
       "      <td>2.0</td>\n",
       "      <td>3.0</td>\n",
       "    </tr>\n",
       "    <tr>\n",
       "      <th>ca</th>\n",
       "      <td>303.0</td>\n",
       "      <td>0.663366</td>\n",
       "      <td>0.934375</td>\n",
       "      <td>0.0</td>\n",
       "      <td>0.0</td>\n",
       "      <td>0.0</td>\n",
       "      <td>1.0</td>\n",
       "      <td>3.0</td>\n",
       "    </tr>\n",
       "    <tr>\n",
       "      <th>thal</th>\n",
       "      <td>303.0</td>\n",
       "      <td>4.722772</td>\n",
       "      <td>1.938383</td>\n",
       "      <td>3.0</td>\n",
       "      <td>3.0</td>\n",
       "      <td>3.0</td>\n",
       "      <td>7.0</td>\n",
       "      <td>7.0</td>\n",
       "    </tr>\n",
       "    <tr>\n",
       "      <th>target</th>\n",
       "      <td>303.0</td>\n",
       "      <td>0.458746</td>\n",
       "      <td>0.499120</td>\n",
       "      <td>0.0</td>\n",
       "      <td>0.0</td>\n",
       "      <td>0.0</td>\n",
       "      <td>1.0</td>\n",
       "      <td>1.0</td>\n",
       "    </tr>\n",
       "  </tbody>\n",
       "</table>\n",
       "</div>"
      ],
      "text/plain": [
       "          count        mean        std    min    25%    50%    75%    max\n",
       "age       303.0   54.438944   9.038662   29.0   48.0   56.0   61.0   77.0\n",
       "sex       303.0    0.679868   0.467299    0.0    0.0    1.0    1.0    1.0\n",
       "cp        303.0    3.158416   0.960126    1.0    3.0    3.0    4.0    4.0\n",
       "trestbps  303.0  131.689769  17.599748   94.0  120.0  130.0  140.0  200.0\n",
       "chol      303.0  246.693069  51.776918  126.0  211.0  241.0  275.0  564.0\n",
       "fbs       303.0    0.148515   0.356198    0.0    0.0    0.0    0.0    1.0\n",
       "restecg   303.0    0.990099   0.994971    0.0    0.0    1.0    2.0    2.0\n",
       "thalach   303.0  149.607261  22.875003   71.0  133.5  153.0  166.0  202.0\n",
       "exang     303.0    0.326733   0.469794    0.0    0.0    0.0    1.0    1.0\n",
       "oldpeak   303.0    1.039604   1.161075    0.0    0.0    0.8    1.6    6.2\n",
       "slope     303.0    1.600660   0.616226    1.0    1.0    2.0    2.0    3.0\n",
       "ca        303.0    0.663366   0.934375    0.0    0.0    0.0    1.0    3.0\n",
       "thal      303.0    4.722772   1.938383    3.0    3.0    3.0    7.0    7.0\n",
       "target    303.0    0.458746   0.499120    0.0    0.0    0.0    1.0    1.0"
      ]
     },
     "execution_count": 23,
     "metadata": {},
     "output_type": "execute_result"
    }
   ],
   "source": [
    "df.describe().T"
   ]
  },
  {
   "cell_type": "code",
   "execution_count": 24,
   "metadata": {},
   "outputs": [
    {
     "data": {
      "image/png": "[encoded data removed]",
      "text/plain": [
       "<Figure size 720x720 with 6 Axes>"
      ]
     },
     "metadata": {},
     "output_type": "display_data"
    }
   ],
   "source": [
    "_=df[['age','trestbps','chol','thalach','oldpeak']].hist(bins=25,figsize=(10,10))"
   ]
  },
  {
   "cell_type": "code",
   "execution_count": 25,
   "metadata": {},
   "outputs": [
    {
     "data": {
      "image/png": "[encoded data removed]",
      "text/plain": [
       "<Figure size 1296x216 with 9 Axes>"
      ]
     },
     "metadata": {},
     "output_type": "display_data"
    }
   ],
   "source": [
    "cat = ['sex','cp','fbs','restecg','exang','slope','ca','thal','target']\n",
    "fig,axs = plt.subplots(1,9,figsize=(18,3),sharey=True)\n",
    "for i,cat in enumerate(df[cat]):\n",
    "    df[cat].value_counts().plot(kind='bar',ax=axs[i]).set_title(cat)"
   ]
  },
  {
   "cell_type": "code",
   "execution_count": 26,
   "metadata": {},
   "outputs": [
    {
     "data": {
      "image/png": "[encoded data removed]",
      "text/plain": [
       "<Figure size 720x432 with 1 Axes>"
      ]
     },
     "metadata": {},
     "output_type": "display_data"
    }
   ],
   "source": [
    "_=df[['age','trestbps','chol','thalach','oldpeak']].boxplot(grid=True,rot=0,figsize=(10,6),fontsize=15,vert=False)"
   ]
  },
  {
   "cell_type": "code",
   "execution_count": 27,
   "metadata": {},
   "outputs": [
    {
     "data": {
      "image/png": "[encoded data removed]",
      "text/plain": [
       "<Figure size 1152x1008 with 2 Axes>"
      ]
     },
     "metadata": {},
     "output_type": "display_data"
    }
   ],
   "source": [
    "#Calculate the correlation coefficients\n",
    "corr = df.corr()\n",
    "\n",
    "corr.round(2).style.background_gradient(cmap='coolwarm')\n",
    "\n",
    "plt.figure(figsize=(16,14))\n",
    "_=sns.heatmap(corr,linewidths=.1, annot=True)"
   ]
  },
  {
   "cell_type": "code",
   "execution_count": 28,
   "metadata": {},
   "outputs": [],
   "source": [
    "# profile = pandas_profiling.ProfileReport(df, title='Pandas profile report - heart attack dataset', minimal=False)\n",
    "# profile.to_file(output_file='data/EDAreport.html')"
   ]
  },
  {
   "cell_type": "markdown",
   "metadata": {},
   "source": [
    "## 4. Pre-processing and training data development\n",
    "***\n",
    "* Create dummy features for categorical variables\n",
    "* Standardize the magnitude of numeric features\n",
    "* Split into testing and training datasets"
   ]
  },
  {
   "cell_type": "code",
   "execution_count": 29,
   "metadata": {},
   "outputs": [],
   "source": [
    "from sklearn.preprocessing import StandardScaler\n",
    "from sklearn.model_selection import train_test_split"
   ]
  },
  {
   "cell_type": "code",
   "execution_count": 30,
   "metadata": {},
   "outputs": [
    {
     "data": {
      "text/html": [
       "<div>\n",
       "<style scoped>\n",
       "    .dataframe tbody tr th:only-of-type {\n",
       "        vertical-align: middle;\n",
       "    }\n",
       "\n",
       "    .dataframe tbody tr th {\n",
       "        vertical-align: top;\n",
       "    }\n",
       "\n",
       "    .dataframe thead th {\n",
       "        text-align: right;\n",
       "    }\n",
       "</style>\n",
       "<table border=\"1\" class=\"dataframe\">\n",
       "  <thead>\n",
       "    <tr style=\"text-align: right;\">\n",
       "      <th></th>\n",
       "      <th>age</th>\n",
       "      <th>trestbps</th>\n",
       "      <th>chol</th>\n",
       "      <th>thalach</th>\n",
       "      <th>oldpeak</th>\n",
       "      <th>ca</th>\n",
       "      <th>target</th>\n",
       "      <th>sex_1.0</th>\n",
       "      <th>cp_2.0</th>\n",
       "      <th>cp_3.0</th>\n",
       "      <th>cp_4.0</th>\n",
       "      <th>fbs_1.0</th>\n",
       "      <th>restecg_1.0</th>\n",
       "      <th>restecg_2.0</th>\n",
       "      <th>exang_1.0</th>\n",
       "      <th>slope_2.0</th>\n",
       "      <th>slope_3.0</th>\n",
       "      <th>thal_6.0</th>\n",
       "      <th>thal_7.0</th>\n",
       "    </tr>\n",
       "  </thead>\n",
       "  <tbody>\n",
       "    <tr>\n",
       "      <th>0</th>\n",
       "      <td>63.0</td>\n",
       "      <td>145.0</td>\n",
       "      <td>233.0</td>\n",
       "      <td>150.0</td>\n",
       "      <td>2.3</td>\n",
       "      <td>0.0</td>\n",
       "      <td>0</td>\n",
       "      <td>1</td>\n",
       "      <td>0</td>\n",
       "      <td>0</td>\n",
       "      <td>0</td>\n",
       "      <td>1</td>\n",
       "      <td>0</td>\n",
       "      <td>1</td>\n",
       "      <td>0</td>\n",
       "      <td>0</td>\n",
       "      <td>1</td>\n",
       "      <td>1</td>\n",
       "      <td>0</td>\n",
       "    </tr>\n",
       "    <tr>\n",
       "      <th>1</th>\n",
       "      <td>67.0</td>\n",
       "      <td>160.0</td>\n",
       "      <td>286.0</td>\n",
       "      <td>108.0</td>\n",
       "      <td>1.5</td>\n",
       "      <td>3.0</td>\n",
       "      <td>1</td>\n",
       "      <td>1</td>\n",
       "      <td>0</td>\n",
       "      <td>0</td>\n",
       "      <td>1</td>\n",
       "      <td>0</td>\n",
       "      <td>0</td>\n",
       "      <td>1</td>\n",
       "      <td>1</td>\n",
       "      <td>1</td>\n",
       "      <td>0</td>\n",
       "      <td>0</td>\n",
       "      <td>0</td>\n",
       "    </tr>\n",
       "    <tr>\n",
       "      <th>2</th>\n",
       "      <td>67.0</td>\n",
       "      <td>120.0</td>\n",
       "      <td>229.0</td>\n",
       "      <td>129.0</td>\n",
       "      <td>2.6</td>\n",
       "      <td>2.0</td>\n",
       "      <td>1</td>\n",
       "      <td>1</td>\n",
       "      <td>0</td>\n",
       "      <td>0</td>\n",
       "      <td>1</td>\n",
       "      <td>0</td>\n",
       "      <td>0</td>\n",
       "      <td>1</td>\n",
       "      <td>1</td>\n",
       "      <td>1</td>\n",
       "      <td>0</td>\n",
       "      <td>0</td>\n",
       "      <td>1</td>\n",
       "    </tr>\n",
       "    <tr>\n",
       "      <th>3</th>\n",
       "      <td>37.0</td>\n",
       "      <td>130.0</td>\n",
       "      <td>250.0</td>\n",
       "      <td>187.0</td>\n",
       "      <td>3.5</td>\n",
       "      <td>0.0</td>\n",
       "      <td>0</td>\n",
       "      <td>1</td>\n",
       "      <td>0</td>\n",
       "      <td>1</td>\n",
       "      <td>0</td>\n",
       "      <td>0</td>\n",
       "      <td>0</td>\n",
       "      <td>0</td>\n",
       "      <td>0</td>\n",
       "      <td>0</td>\n",
       "      <td>1</td>\n",
       "      <td>0</td>\n",
       "      <td>0</td>\n",
       "    </tr>\n",
       "    <tr>\n",
       "      <th>4</th>\n",
       "      <td>41.0</td>\n",
       "      <td>130.0</td>\n",
       "      <td>204.0</td>\n",
       "      <td>172.0</td>\n",
       "      <td>1.4</td>\n",
       "      <td>0.0</td>\n",
       "      <td>0</td>\n",
       "      <td>0</td>\n",
       "      <td>1</td>\n",
       "      <td>0</td>\n",
       "      <td>0</td>\n",
       "      <td>0</td>\n",
       "      <td>0</td>\n",
       "      <td>1</td>\n",
       "      <td>0</td>\n",
       "      <td>0</td>\n",
       "      <td>0</td>\n",
       "      <td>0</td>\n",
       "      <td>0</td>\n",
       "    </tr>\n",
       "  </tbody>\n",
       "</table>\n",
       "</div>"
      ],
      "text/plain": [
       "    age  trestbps   chol  thalach  oldpeak   ca  target  sex_1.0  cp_2.0  \\\n",
       "0  63.0     145.0  233.0    150.0      2.3  0.0       0        1       0   \n",
       "1  67.0     160.0  286.0    108.0      1.5  3.0       1        1       0   \n",
       "2  67.0     120.0  229.0    129.0      2.6  2.0       1        1       0   \n",
       "3  37.0     130.0  250.0    187.0      3.5  0.0       0        1       0   \n",
       "4  41.0     130.0  204.0    172.0      1.4  0.0       0        0       1   \n",
       "\n",
       "   cp_3.0  cp_4.0  fbs_1.0  restecg_1.0  restecg_2.0  exang_1.0  slope_2.0  \\\n",
       "0       0       0        1            0            1          0          0   \n",
       "1       0       1        0            0            1          1          1   \n",
       "2       0       1        0            0            1          1          1   \n",
       "3       1       0        0            0            0          0          0   \n",
       "4       0       0        0            0            1          0          0   \n",
       "\n",
       "   slope_3.0  thal_6.0  thal_7.0  \n",
       "0          1         1         0  \n",
       "1          0         0         0  \n",
       "2          0         0         1  \n",
       "3          1         0         0  \n",
       "4          0         0         0  "
      ]
     },
     "execution_count": 30,
     "metadata": {},
     "output_type": "execute_result"
    }
   ],
   "source": [
    "#create dummy features for categorical variables\n",
    "##sex, cp (chest pain type), restecg (resting electrocardiographic results), exang (exercise induced angina), slope (the slope of the peak exercise ST segment), and thal (blood disorder type) are categorical variables\n",
    "##fbs is boolean; ca (number of major vessels) is ordinal\n",
    "df2 = pd.get_dummies(df,columns=['sex','cp','fbs','restecg','exang','slope','thal'], drop_first=True)\n",
    "df2.head()"
   ]
  },
  {
   "cell_type": "code",
   "execution_count": 31,
   "metadata": {},
   "outputs": [
    {
     "name": "stdout",
     "output_type": "stream",
     "text": [
      "0    123\n",
      "1    104\n",
      "Name: target, dtype: int64\n",
      "0    41\n",
      "1    35\n",
      "Name: target, dtype: int64\n"
     ]
    }
   ],
   "source": [
    "#train-test split\n",
    "y = df2.target\n",
    "X = df2.drop('target', axis=1)\n",
    "X_train, X_test, y_train, y_test = train_test_split (X, y, test_size=0.25, stratify=y, random_state=52)\n",
    "#check whether the data is equally splitted or not (e.g. data imbalance problem)\n",
    "print(y_train.value_counts())\n",
    "print(y_test.value_counts())"
   ]
  },
  {
   "cell_type": "code",
   "execution_count": 32,
   "metadata": {},
   "outputs": [],
   "source": [
    "#standardization \n",
    "#build scaler based on training data and apply it to test data\n",
    "scaler = StandardScaler()\n",
    "X_train_scaled=scaler.fit_transform(X_train)\n",
    "X_test_scaled=scaler.transform(X_test)"
   ]
  },
  {
   "cell_type": "markdown",
   "metadata": {},
   "source": [
    "## 5. Modeling\n",
    "***\n",
    "\n",
    "#### Classifiers \n",
    "\n",
    "* Naive Bayes\n",
    "  * Simple, fast, low computation cost, and accurate \n",
    "  * Cannot learn interactions btw features(assumes the predictors are independent) <br/><br/>\n",
    "\n",
    "* Logistic Regression\n",
    "  * lots of ways to regularize the model (e.g. lasso, ridge), and don't have to worry as much about features being correlated, like in Naive Bayes\n",
    "  * have a nice probabilistic interpretation - use it if you want a probabilistic framework (_to easily adjust classification thresholds_) or if you expect to receive more training data in the future that you want to quickly incorporate into your model \n",
    "  * a linear classifier, assume some sort of linear relationship btw the data <br/><br/>\n",
    "       \n",
    "* K-Nearest Neighbors\n",
    "  * No assumptions about data; simple and intuitive, relatively high accuracy, easy to implement for multi-class problem, can be used for both classification and regression problems\n",
    "  * Curse of dimensionality, does not perform well on imbalanced data, sensitive to outliers, distance based, slow as dataset grows <br/><br/>\n",
    "\n",
    "* Support Vector Machines (SVMs, linear, nonlinear)\n",
    "  * high accuracy, especially popular in text classification problems where very high-dimensional spaces are the norm\n",
    "  * works poorly with overlapping classes and is also sensitive to the type of kernel used <br/><br/>\n",
    "\n",
    "* Decision tree \n",
    "      \n",
    "* Ensemble methods: Random Forests\n",
    "   * easy to interpret and explain\n",
    "   * can handle feature interctions, non-parametric (don't have to worry about outliers or whether the data is linearly separable)\n",
    "   * fast and scalable\n",
    "   * don't support online learning - have to rebuild trees when new examples come on <br/><br/>\n",
    "* Ensemble methods: AdaBoost\n",
    "\n",
    "* Ensemble methods: Gradient Boosting or gradient boosting machines GBM\n",
    "    * GradientBoostingClassifier with Scikit-Learn \n",
    "    * XGBoost - extreme gradient boosting: computational efficiency and often better model performance\n",
    "    * LightGBM - light gradient boosted machine: \n",
    "           * high speed, high accuracy, can use categorical features as input directly - no need to convert to one-hot coding\n",
    "           * sensitive to overfitting and can easily overfit small data (10,000+ observations suggested)    \n",
    "    * CatBoost - category gradient boosting: in addition to computational speed improvements, the primary benefit of the CatBoost is support for categorical input variables\n",
    "\n",
    "* MLPNN\n",
    "   * Classifies non-linearly separable data points\n",
    "   * Solves complex problems including various parameters, and manages data sets through a large number of features, specifically non-linear ones"
   ]
  },
  {
   "cell_type": "code",
   "execution_count": 33,
   "metadata": {},
   "outputs": [],
   "source": [
    "from sklearn.metrics import precision_recall_fscore_support as score, precision_recall_curve, roc_curve, auc,roc_auc_score, classification_report\n",
    "from sklearn.model_selection import StratifiedKFold,GridSearchCV\n",
    "import time"
   ]
  },
  {
   "cell_type": "code",
   "execution_count": 34,
   "metadata": {},
   "outputs": [
    {
     "name": "stdout",
     "output_type": "stream",
     "text": [
      "--- 0.00216 seconds ---\n",
      "Precision:0.725 / Recall:0.829 / Accuracy:0.776 / AUC:0.78\n"
     ]
    }
   ],
   "source": [
    "#Naive Bayes classifier\n",
    "## import Gaussian Naive Bayes model\n",
    "from sklearn.naive_bayes import GaussianNB\n",
    "\n",
    "start_time = time.time()\n",
    "## Create a Gaussian Classifier\n",
    "gnb = GaussianNB()\n",
    "## train the model using the training set\n",
    "gnb.fit(X_train,y_train)\n",
    "##predict output\n",
    "y_pred = gnb.predict(X_test)\n",
    "print('--- %s seconds ---' % round((time.time()-start_time),5))\n",
    "precision,recall,fscore,support = score(y_test, y_pred, pos_label=1, average='binary')\n",
    "gnb_fpr,gnb_tpr,gnb_threshold = roc_curve(y_test,y_pred)\n",
    "gnb_auc = auc(gnb_fpr,gnb_tpr)\n",
    "print('Precision:{} / Recall:{} / Accuracy:{} / AUC:{}'.format(round(precision,3),\n",
    "               round(recall,3),\n",
    "               round((y_pred==y_test).sum()/len(y_pred),3),\n",
    "               round(gnb_auc,3)))"
   ]
  },
  {
   "cell_type": "code",
   "execution_count": 35,
   "metadata": {},
   "outputs": [
    {
     "name": "stdout",
     "output_type": "stream",
     "text": [
      "{'C': 5, 'penalty': 'l2'}\n",
      "--- 1.32081 seconds ---\n",
      "Precision:0.784 / Recall:0.829 / Accuracy:0.816 / AUC:0.817\n"
     ]
    }
   ],
   "source": [
    "#Logistic regression\n",
    "from sklearn.linear_model import LogisticRegression\n",
    "random_state = 52\n",
    "\n",
    "def pipe(X_train_data, X_test_data, y_train_data, y_test_data,\n",
    "                 model, param_grid, cv, scoring,\n",
    "                  do_probabilities):\n",
    "    gs = GridSearchCV(\n",
    "    estimator = model,\n",
    "    param_grid = param_grid,\n",
    "    cv = cv,\n",
    "    n_jobs = -1,\n",
    "    scoring = scoring)\n",
    "    fitted_model = gs.fit(X_train_data,y_train_data)\n",
    "    if do_probabilities:\n",
    "        pred = fitted_model.predict_proba(X_test_data)\n",
    "    else:\n",
    "        pred = fitted_model.predict(X_test_data)\n",
    "    precision,recall,fscore,support = score(y_test_data, pred, pos_label=1, average='binary')\n",
    "    accuracy = round((pred==y_test_data).sum()/len(pred),3)\n",
    "    fpr,tpr,threshold = roc_curve(y_test_data,pred)\n",
    "    s_auc = auc(fpr,tpr)\n",
    "    return fitted_model,pred,precision,recall,accuracy,s_auc,fpr,tpr\n",
    "\n",
    "start_time = time.time()\n",
    "\n",
    "model = LogisticRegression(random_state=random_state,max_iter=2000) # have to increase the max number of iterations as the model didn't converge with default settings\n",
    "param_grid = {'C':[0.01,0.1,1,5,6,7,8,9,10],\n",
    "                'penalty':['l1','l2']}\n",
    "cv = StratifiedKFold(n_splits=5)\n",
    "scoring = 'recall'\n",
    "\n",
    "lr,lr_pred,lr_precision,lr_recall,lr_accuracy,lr_auc,lr_fpr,lr_tpr = pipe(X_train_scaled, X_test_scaled, y_train, y_test, \n",
    "                                                                          model, param_grid, cv=cv,scoring=scoring,\n",
    "                                                                          do_probabilities=False)\n",
    "print(lr.best_params_)\n",
    "print('--- %s seconds ---' % round((time.time()-start_time),5))\n",
    "print('Precision:{} / Recall:{} / Accuracy:{} / AUC:{}'.format(round(lr_precision,3),\n",
    "               round(lr_recall,3),round(lr_accuracy,3),round(lr_auc,3)))"
   ]
  },
  {
   "cell_type": "code",
   "execution_count": 36,
   "metadata": {},
   "outputs": [
    {
     "name": "stdout",
     "output_type": "stream",
     "text": [
      "{'n_neighbors': 17}\n",
      "--- 0.08873 seconds ---\n",
      "Precision:0.757 / Recall:0.8 / Accuracy:0.789 / AUC:0.79\n"
     ]
    }
   ],
   "source": [
    "#knn\n",
    "from sklearn.neighbors import KNeighborsClassifier\n",
    "start_time = time.time()\n",
    "\n",
    "model = KNeighborsClassifier()\n",
    "param_grid = {'n_neighbors':[10,15,16,17,18,19]\n",
    "                }\n",
    "cv = StratifiedKFold(n_splits=5)\n",
    "scoring = 'recall'\n",
    "\n",
    "knn,knn_pred,knn_precision,knn_recall,knn_accuracy,knn_auc,knn_fpr,knn_tpr = pipe(X_train_scaled, X_test_scaled, y_train, y_test, \n",
    "                                                                          model, param_grid, cv=cv,scoring=scoring,\n",
    "                                                                          do_probabilities=False)\n",
    "print(knn.best_params_)\n",
    "print('--- %s seconds ---' % round((time.time()-start_time),5))\n",
    "print('Precision:{} / Recall:{} / Accuracy:{} / AUC:{}'.format(round(knn_precision,3),\n",
    "               round(knn_recall,3),round(knn_accuracy,3),round(knn_auc,3)))"
   ]
  },
  {
   "cell_type": "code",
   "execution_count": 37,
   "metadata": {},
   "outputs": [
    {
     "name": "stdout",
     "output_type": "stream",
     "text": [
      "{'C': 10, 'kernel': 'linear'}\n",
      "--- 1.93778 seconds ---\n",
      "Precision:0.812 / Recall:0.743 / Accuracy:0.803 / AUC:0.798\n"
     ]
    }
   ],
   "source": [
    "#svm\n",
    "from sklearn.svm import SVC\n",
    "\n",
    "start_time = time.time()\n",
    "\n",
    "model = SVC()\n",
    "# A smaller C creates a small-margin hyperplane; a smaller Gamma loosely fit the training set\n",
    "param_grid = [{'kernel':['linear'],'C':[1,10,100,1000]},\n",
    "              {'kernel':['rbf'],'gamma':[1e-3,1e-4],'C':[1,10,100,1000]}\n",
    "             ]\n",
    "\n",
    "cv = StratifiedKFold(n_splits=5)\n",
    "scoring = 'recall'\n",
    "\n",
    "svm,svm_pred,svm_precision,svm_recall,svm_accuracy,svm_auc,svm_fpr,svm_tpr = pipe(X_train_scaled, X_test_scaled, y_train, y_test, \n",
    "                                                                          model, param_grid, cv=cv,scoring=scoring,\n",
    "                                                                          do_probabilities=False)\n",
    "print(svm.best_params_)\n",
    "print('--- %s seconds ---' % round((time.time()-start_time),5))\n",
    "print('Precision:{} / Recall:{} / Accuracy:{} / AUC:{}'.format(round(svm_precision,3),\n",
    "               round(svm_recall,3),round(svm_accuracy,3),round(svm_auc,3)))"
   ]
  },
  {
   "cell_type": "code",
   "execution_count": 38,
   "metadata": {},
   "outputs": [
    {
     "name": "stdout",
     "output_type": "stream",
     "text": [
      "{'criterion': 'gini', 'max_depth': 4}\n",
      "--- 0.19916 seconds ---\n",
      "Precision:0.8 / Recall:0.686 / Accuracy:0.776 / AUC:0.77\n"
     ]
    }
   ],
   "source": [
    "# decision tree\n",
    "from sklearn.tree import DecisionTreeClassifier\n",
    "\n",
    "start_time = time.time()\n",
    "\n",
    "model = DecisionTreeClassifier(random_state=52)\n",
    "param_grid = {'criterion':['gini','entropy'],\n",
    "              'max_depth': np.arange(3,15)\n",
    "                }\n",
    "cv = StratifiedKFold(n_splits=5)\n",
    "scoring = 'recall'\n",
    "\n",
    "tree,tree_pred,tree_precision,tree_recall,tree_accuracy,tree_auc,tree_fpr,tree_tpr = pipe(X_train, X_test, y_train, y_test, \n",
    "                                                                          model, param_grid, cv=cv,scoring=scoring,\n",
    "                                                                          do_probabilities=False)\n",
    "print(tree.best_params_)\n",
    "print('--- %s seconds ---' % round((time.time()-start_time),5))\n",
    "print('Precision:{} / Recall:{} / Accuracy:{} / AUC:{}'.format(round(tree_precision,3),\n",
    "               round(tree_recall,3),round(tree_accuracy,3),round(tree_auc,3)))"
   ]
  },
  {
   "cell_type": "code",
   "execution_count": 39,
   "metadata": {},
   "outputs": [
    {
     "name": "stdout",
     "output_type": "stream",
     "text": [
      "{'bootstrap': True, 'max_depth': 10, 'max_features': 'sqrt', 'min_samples_split': 3, 'n_estimators': 100}\n",
      "--- 4.43587 seconds ---\n",
      "Precision:0.853 / Recall:0.829 / Accuracy:0.855 / AUC:0.853\n"
     ]
    }
   ],
   "source": [
    "#random forest\n",
    "from sklearn.ensemble import RandomForestClassifier\n",
    "\n",
    "start_time = time.time()\n",
    "\n",
    "model = RandomForestClassifier(random_state=52)\n",
    "param_grid = {'n_estimators':[50,100,150],\n",
    "                'max_depth':[5,10,15,None],\n",
    "                'max_features':['sqrt'],\n",
    "                'min_samples_split':[3,5],\n",
    "                 'bootstrap':[True]\n",
    "                }\n",
    "cv = StratifiedKFold(n_splits=5)\n",
    "scoring = 'recall'\n",
    "\n",
    "rf,rf_pred,rf_precision,rf_recall,rf_accuracy,rf_auc,rf_fpr,rf_tpr = pipe(X_train, X_test, y_train, y_test, \n",
    "                                                                          model, param_grid, cv=cv,scoring=scoring,\n",
    "                                                                          do_probabilities=False)\n",
    "print(rf.best_params_)\n",
    "print('--- %s seconds ---' % round((time.time()-start_time),5))\n",
    "print('Precision:{} / Recall:{} / Accuracy:{} / AUC:{}'.format(round(rf_precision,3),\n",
    "               round(rf_recall,3),round(rf_accuracy,3),round(rf_auc,3)))"
   ]
  },
  {
   "cell_type": "code",
   "execution_count": 40,
   "metadata": {},
   "outputs": [
    {
     "name": "stdout",
     "output_type": "stream",
     "text": [
      "18\n"
     ]
    },
    {
     "data": {
      "image/png": "[encoded data removed]",
      "text/plain": [
       "<Figure size 720x720 with 1 Axes>"
      ]
     },
     "metadata": {},
     "output_type": "display_data"
    }
   ],
   "source": [
    "## relative importance of features output from random forest\n",
    "feature_importance = rf.best_estimator_.feature_importances_\n",
    "# make importances relative to max importance\n",
    "feature_importance = 100.0 * (feature_importance / feature_importance.max())\n",
    "sorted_idx = np.argsort(feature_importance)\n",
    "\n",
    "pos = np.arange(sorted_idx.shape[0]) + .5\n",
    "print(pos.size)\n",
    "sorted_idx.size\n",
    "plt.figure(figsize=(10,10))\n",
    "plt.barh(pos, feature_importance[sorted_idx], align='center')\n",
    "plt.yticks(pos, X.columns[sorted_idx])\n",
    "plt.xlabel('Relative Importance')\n",
    "plt.title('Variable Importance')\n",
    "plt.show()"
   ]
  },
  {
   "cell_type": "code",
   "execution_count": 41,
   "metadata": {},
   "outputs": [
    {
     "name": "stdout",
     "output_type": "stream",
     "text": [
      "{'learning_rate': 0.1, 'n_estimators': 140}\n",
      "--- 9.92036 seconds ---\n",
      "Precision:0.784 / Recall:0.829 / Accuracy:0.816 / AUC:0.817\n"
     ]
    }
   ],
   "source": [
    "#AdaBoost\n",
    "from sklearn.ensemble import AdaBoostClassifier\n",
    "\n",
    "start_time = time.time()\n",
    "\n",
    "model = AdaBoostClassifier(random_state=random_state)\n",
    "param_grid = {'n_estimators':np.arange(10,200,10),\n",
    "                'learning_rate':[0.01,0.1,1]\n",
    "                }\n",
    "cv = StratifiedKFold(n_splits=5)\n",
    "scoring = 'recall'\n",
    "\n",
    "ada,ada_pred,ada_precision,ada_recall,ada_accuracy,ada_auc,ada_fpr,ada_tpr = pipe(X_train, X_test, y_train, y_test, \n",
    "                                                                          model, param_grid, cv=cv,scoring=scoring,\n",
    "                                                                          do_probabilities=False)\n",
    "print(ada.best_params_)\n",
    "print('--- %s seconds ---' % round((time.time()-start_time),5))\n",
    "print('Precision:{} / Recall:{} / Accuracy:{} / AUC:{}'.format(round(ada_precision,3),\n",
    "               round(ada_recall,3),round(ada_accuracy,3),round(ada_auc,3)))"
   ]
  },
  {
   "cell_type": "code",
   "execution_count": 42,
   "metadata": {},
   "outputs": [
    {
     "name": "stdout",
     "output_type": "stream",
     "text": [
      "{'learning_rate': 1, 'n_estimators': 20}\n",
      "--- 5.85584 seconds ---\n",
      "Precision:0.794 / Recall:0.771 / Accuracy:0.803 / AUC:0.8\n"
     ]
    }
   ],
   "source": [
    "#Gradient Boosting\n",
    "from sklearn.ensemble import GradientBoostingClassifier\n",
    "\n",
    "start_time = time.time()\n",
    "\n",
    "model = GradientBoostingClassifier(random_state=random_state)\n",
    "param_grid = {'n_estimators':np.arange(10,200,10),\n",
    "              'learning_rate':[0.1,1,1.1,1.2,1.3]\n",
    "                }\n",
    "cv = StratifiedKFold(n_splits=5)\n",
    "scoring = 'recall'\n",
    "\n",
    "gb,gb_pred,gb_precision,gb_recall,gb_accuracy,gb_auc,gb_fpr,gb_tpr = pipe(X_train, X_test, y_train, y_test, \n",
    "                                                                          model, param_grid, cv=cv,scoring=scoring,\n",
    "                                                                          do_probabilities=False)\n",
    "print(gb.best_params_)\n",
    "print('--- %s seconds ---' % round((time.time()-start_time),5))\n",
    "print('Precision:{} / Recall:{} / Accuracy:{} / AUC:{}'.format(round(gb_precision,3),\n",
    "               round(gb_recall,3),round(gb_accuracy,3),round(gb_auc,3)))"
   ]
  },
  {
   "cell_type": "code",
   "execution_count": 43,
   "metadata": {},
   "outputs": [
    {
     "name": "stdout",
     "output_type": "stream",
     "text": [
      "{'learning_rate': 0.25, 'max_depth': 5, 'min_child_weight': 5, 'n_estimators': 200}\n",
      "--- 2.12902 seconds ---\n",
      "Precision:0.8 / Recall:0.8 / Accuracy:0.816 / AUC:0.815\n"
     ]
    }
   ],
   "source": [
    "#XGBoost\n",
    "from xgboost import XGBClassifier\n",
    "\n",
    "start_time = time.time()\n",
    "\n",
    "model = XGBClassifier(random_state=random_state)\n",
    "param_grid = {\n",
    "    'n_estimators': [200],\n",
    "    'max_depth': [3,5,10],\n",
    "    'min_child_weight':[1,3,5],\n",
    "    'learning_rate':[0.1,0.2,0.25]\n",
    "}\n",
    "            \n",
    "cv = StratifiedKFold(n_splits=5)\n",
    "scoring = 'recall'\n",
    "\n",
    "xgb,xgb_pred,xgb_precision,xgb_recall,xgb_accuracy,xgb_auc,xgb_fpr,xgb_tpr = pipe(X_train, X_test, y_train, y_test, \n",
    "                                                                          model, param_grid, cv=cv,scoring=scoring,\n",
    "                                                                          do_probabilities=False)\n",
    "print(xgb.best_params_)\n",
    "print('--- %s seconds ---' % round((time.time()-start_time),5))\n",
    "print('Precision:{} / Recall:{} / Accuracy:{} / AUC:{}'.format(round(xgb_precision,3),\n",
    "               round(xgb_recall,3),round(xgb_accuracy,3),round(xgb_auc,3)))"
   ]
  },
  {
   "cell_type": "code",
   "execution_count": 44,
   "metadata": {},
   "outputs": [
    {
     "name": "stderr",
     "output_type": "stream",
     "text": [
      "/Users/hhl/opt/anaconda3/lib/python3.7/site-packages/lightgbm/__init__.py:48: UserWarning: Starting from version 2.2.1, the library file in distribution wheels for macOS is built by the Apple Clang (Xcode_8.3.3) compiler.\n",
      "This means that in case of installing LightGBM from PyPI via the ``pip install lightgbm`` command, you don't need to install the gcc compiler anymore.\n",
      "Instead of that, you need to install the OpenMP library, which is required for running LightGBM on the system with the Apple Clang compiler.\n",
      "You can install the OpenMP library by the following command: ``brew install libomp``.\n",
      "  \"You can install the OpenMP library by the following command: ``brew install libomp``.\", UserWarning)\n"
     ]
    },
    {
     "name": "stdout",
     "output_type": "stream",
     "text": [
      "{'boosting_type': 'gbdt', 'learning_rate': 0.05, 'max_depth': 5, 'n_estimators': 200}\n",
      "--- 1.18791 seconds ---\n",
      "Precision:0.771 / Recall:0.771 / Accuracy:0.789 / AUC:0.788\n"
     ]
    }
   ],
   "source": [
    "#LightGBM\n",
    "import lightgbm as lgb\n",
    "\n",
    "start_time = time.time()\n",
    "model = lgb.LGBMClassifier(objective='binary',metric='recall',random_state=random_state)\n",
    "\n",
    "param_grid = {\n",
    "    'boosting_type':['gbdt'],\n",
    "    'learning_rate':[0.01,0.05,0.1],\n",
    "    'n_estimators':[100,200],\n",
    "    'max_depth':[3,5,10]\n",
    " \n",
    "    }\n",
    "\n",
    "cv = StratifiedKFold(n_splits=5)\n",
    "scoring = 'recall'\n",
    "\n",
    "lgb,lgb_pred,lgb_precision,lgb_recall,lgb_accuracy,lgb_auc,lgb_fpr,lgb_tpr = pipe(X_train, X_test, y_train, y_test, \n",
    "                                                                          model, param_grid, cv=cv,scoring=scoring,\n",
    "                                                                          do_probabilities=False)\n",
    "print(lgb.best_params_)\n",
    "print('--- %s seconds ---' % round((time.time()-start_time),5))\n",
    "print('Precision:{} / Recall:{} / Accuracy:{} / AUC:{}'.format(round(lgb_precision,3),\n",
    "               round(lgb_recall,3),round(lgb_accuracy,3),round(lgb_auc,3)))"
   ]
  },
  {
   "cell_type": "code",
   "execution_count": 45,
   "metadata": {},
   "outputs": [
    {
     "name": "stdout",
     "output_type": "stream",
     "text": [
      "18\n"
     ]
    },
    {
     "data": {
      "image/png": "[encoded data removed]",
      "text/plain": [
       "<Figure size 720x720 with 1 Axes>"
      ]
     },
     "metadata": {},
     "output_type": "display_data"
    }
   ],
   "source": [
    "## relative importance of features output from LightGBM\n",
    "feature_importance = lgb.best_estimator_.feature_importances_\n",
    "# make importances relative to max importance\n",
    "feature_importance = 100.0 * (feature_importance / feature_importance.max())\n",
    "sorted_idx = np.argsort(feature_importance)\n",
    "\n",
    "pos = np.arange(sorted_idx.shape[0]) + .5\n",
    "print(pos.size)\n",
    "sorted_idx.size\n",
    "plt.figure(figsize=(10,10))\n",
    "plt.barh(pos, feature_importance[sorted_idx], align='center')\n",
    "plt.yticks(pos, X.columns[sorted_idx])\n",
    "plt.xlabel('Relative Importance')\n",
    "plt.title('Variable Importance')\n",
    "plt.show()"
   ]
  },
  {
   "cell_type": "code",
   "execution_count": 46,
   "metadata": {},
   "outputs": [],
   "source": [
    "# #MLPNN\n",
    "# from sklearn.neural_network import MLPClassifier\n",
    "# start_time = time.time()\n",
    "\n",
    "# model = MLPClassifier(max_iter=1000)\n",
    "\n",
    "# param_grid = {\n",
    "#     'hidden_layer_sizes': [(10,),(20,)],\n",
    "#     'activation': ['tanh', 'relu'],\n",
    "#     'solver': ['sgd', 'adam'],\n",
    "#     'alpha': [0.001,0.01, 0.05],\n",
    "#     'learning_rate': ['constant','adaptive']\n",
    "#     }\n",
    "\n",
    "# cv = StratifiedKFold(n_splits=5)\n",
    "# scoring = 'recall'\n",
    "\n",
    "# model,pred,precision,recall,accuracy = pipe(X_train, X_test, y_train, y_test, \n",
    "#                                                      model=model, param_grid=param_grid, cv=cv,scoring=scoring,\n",
    "#                                                     do_probabilities=False)\n",
    "\n",
    "# print(model.best_params_)\n",
    "# print('--- %s seconds ---' % round((time.time()-start_time),5))\n",
    "# print('Precision:{} / Recall:{} / Accuracy:{}'.format(round(precision,3),\n",
    "#                round(recall,3),round(accuracy,3)))"
   ]
  },
  {
   "cell_type": "code",
   "execution_count": 47,
   "metadata": {},
   "outputs": [],
   "source": [
    "# #MLPNN without GridSearchCV\n",
    "# start_time = time.time()\n",
    "\n",
    "\n",
    "# mlp = MLPClassifier(hidden_layer_sizes=(13,13,13),max_iter=1000)\n",
    "# mlp.fit(X_train,y_train)\n",
    "# y_pred = mlp.predict(X_test)\n",
    "\n",
    "# print('--- %s seconds ---' % round((time.time()-start_time),5))\n",
    "# precision,recall,fscore,support = score(y_test, y_pred, pos_label=1, average='binary')\n",
    "# print('Precision:{} / Recall:{} / Accuracy:{}'.format(round(precision,3),\n",
    "#                round(recall,3),\n",
    "#                round((y_pred==y_test).sum()/len(y_pred),3)))"
   ]
  },
  {
   "cell_type": "markdown",
   "metadata": {},
   "source": [
    "# Comparison\n",
    "\n",
    "| No. | Model | Precision | Recall | Accuracy | AUC | Time(s)-Total |\n",
    "| --- | --- | --- | --- | --- | --- | --- |\n",
    "| 1 | Naive Bayes | 0.725 | 0.829 | 0.776 | 0.78 | 0.002 |\n",
    "| 2 | Logistic Regression | 0.784 | 0.829 | 0.816 | 0.817 | 1.3 |\n",
    "| 3 | kNN | 0.757 | 0.8 | 0.789 | 0.79 | 0.09|\n",
    "| 4 | SVM | 0.812 | 0.743 | 0.803 | 0.798 | 1.9 |\n",
    "| 5 | Decision Tree | 0.8 | 0.686 | 0.776 | 0.77 | 0.2 |\n",
    "| 6 | Random Forest | 0.853 | 0.829 | 0.855 | 0.853 | 4.4|\n",
    "| 7 | AdaBoost | 0.784 | 0.829 | 0.816 | 0.817 | 9.9 |\n",
    "| 8 | Gradient Boosting | 0.794 | 0.771 | 0.803 | 0.8 | 5.6 |\n",
    "| 9 | XGBoost | 0.8 | 0.8 | 0.816 | 0.815 | 2.1|\n",
    "| 10 | lightGBM | 0.771 | 0.771 | 0.789 | 0.788 | 1.2|\n",
    "\n"
   ]
  },
  {
   "cell_type": "code",
   "execution_count": 48,
   "metadata": {},
   "outputs": [
    {
     "data": {
      "image/png": "[encoded data removed]",
      "text/plain": [
       "<Figure size 720x720 with 1 Axes>"
      ]
     },
     "metadata": {},
     "output_type": "display_data"
    }
   ],
   "source": [
    "##ROC curves\n",
    "\n",
    "plt.figure(figsize=(10,10))\n",
    "plt.title('Reciver Operating Characterstic Curve')\n",
    "plt.plot(gnb_fpr,gnb_tpr,label='Naive Bayes')\n",
    "plt.plot(lr_fpr,lr_tpr,label='Logistic Regression')\n",
    "plt.plot(knn_fpr,knn_tpr,label='K Nearest Neighbor')\n",
    "plt.plot(svm_fpr,svm_tpr,label='Support Vector Machine')\n",
    "plt.plot(tree_fpr,tree_tpr,label='Desion Tree')\n",
    "plt.plot(rf_fpr,rf_tpr,label='Random Forest')\n",
    "plt.plot(ada_fpr,ada_tpr,label='AdaBoost')\n",
    "plt.plot(gb_fpr,gb_tpr,label='Gradient Boosting')\n",
    "plt.plot(xgb_fpr,xgb_tpr,label='Extreme Gradient Boost')\n",
    "plt.plot(lgb_fpr,lgb_tpr,label='LightGBM')\n",
    "plt.plot([0,1],ls='--')\n",
    "plt.plot([0,0],[1,0],c='.5')\n",
    "plt.plot([1,1],c='.5')\n",
    "plt.ylabel('True positive rate (sensitivity)')\n",
    "plt.xlabel('False positive rate (1-specificity)')\n",
    "plt.legend()\n",
    "plt.show()"
   ]
  },
  {
   "cell_type": "markdown",
   "metadata": {},
   "source": [
    "## Conclusions\n",
    "\n",
    "1. Model: \n",
    "  * Random Forest outperforms other models\n",
    "\n",
    "2. Top risk factors/symptoms of heart disease include --- not consistent btw different algorithms:\n",
    "\n",
    "3. Future improvement:\n",
    "  * interactive dashboard"
   ]
  },
  {
   "cell_type": "code",
   "execution_count": null,
   "metadata": {},
   "outputs": [],
   "source": []
  }
 ],
 "metadata": {
  "kernelspec": {
   "display_name": "Python 3",
   "language": "python",
   "name": "python3"
  },
  "language_info": {
   "codemirror_mode": {
    "name": "ipython",
    "version": 3
   },
   "file_extension": ".py",
   "mimetype": "text/x-python",
   "name": "python",
   "nbconvert_exporter": "python",
   "pygments_lexer": "ipython3",
   "version": "3.7.6"
  }
 },
 "nbformat": 4,
 "nbformat_minor": 4
}
