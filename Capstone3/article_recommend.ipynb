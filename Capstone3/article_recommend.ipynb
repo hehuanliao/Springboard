{
 "cells": [
  {
   "cell_type": "markdown",
   "metadata": {},
   "source": [
    "# Building a content-based recommender system for scientific papers"
   ]
  },
  {
   "cell_type": "markdown",
   "metadata": {},
   "source": [
    "# 1. Introduction"
   ]
  },
  {
   "cell_type": "markdown",
   "metadata": {},
   "source": [
    "This project is aimed to develop a content-based recommender system for scientific papers using the open source database downloaded from Kaggle (i.e. [arXiv](https://arxiv.org/)). Text wrangling and pre-processing was performed using natural language tool kit (nltk) library in Python. Two recommendation engines were developed. One is built using TF-IDF to convert text into vectors, and another is built using word embeddings. The recommendation engines are able to provide top 5 most similar papers to the paper that a user is reading. With the help of a recommendation engine, we can efficiently extract relevant information from numerous scientific papers automatically, which would be of great public interest, especially in the scientific community. "
   ]
  },
  {
   "cell_type": "markdown",
   "metadata": {},
   "source": [
    "## 1.1. Problem identification and impact statement\n",
    "***\n",
    "[arXiv](https://arxiv.org/) is an open-access repository of electronic preprints (i.e. e-prints) of scientific papers, which covers various fields including mathematics, physics, astronomy, computer science, quantitative biology, statistics, and quantitative finance. It is a collaboratively funded, community-supported resource that is maintained and operated by [Cornell University](https://arxiv.org/about). Since its establishment by Paul Ginsparhg in 1991, arXiv has served the public and research communities by enabling scientists worldwide to share and access research before it is formally published. As of today, arXiv has hosted over 1.7 million scholarly articles. With the exponentially increasing numbers of articles, extracting relevant information efficiently becomes a challenge. Fortunately, it is possible to make the exploration of scholarly articles faster and more accurate, with the help of recommender systems. So far, most recommender systems are available for applications in movie, news, music, and product recommendations. In contrast, relatively fewer efforts have addressed recommendation of scientific papers. \n",
    "\n",
    "Therefore, the Goal of this project is **to develop a recommender system that can present the users with related articles based on the  article they are reading**\n",
    "\n",
    "> <img align='center' width='200' height='150' src=\"arXiv.jpeg\">"
   ]
  },
  {
   "cell_type": "markdown",
   "metadata": {},
   "source": [
    "## 1.2. Dataset description\n",
    "\n",
    "The dataset is downloaded from [Kaggle](https://www.kaggle.com/Cornell-University/arxiv). Below is a description of each of the 10 attributes: \n",
    "\n",
    "| No. | Variable name | Description |\n",
    "| --- | --- | --- | \n",
    "| 1 | id | ArXiv ID | \n",
    "| 2 | submitter | Who submitted the paper | \n",
    "| 3 | authors | Authors of the paper | \n",
    "| 4 | title | Title of the paper |\n",
    "| 5 | comments | Additional info, such as number of pages and figures |\n",
    "| 6 | journal-ref | Information about the journal the paper was published in |\n",
    "| 7 | doi |[Digital Object Identifier](https://www.doi.org)|\n",
    "| 8 | abstract | The abstract of the paper|\n",
    "| 9 | categories | Categories / tags in the ArXiv system |\n",
    "| 10 | versions | A version history |\n"
   ]
  },
  {
   "cell_type": "markdown",
   "metadata": {},
   "source": [
    "## 1.3. Methdology \n",
    "A general workflow is outlined below: \n",
    "***\n",
    "* Text wrangling, and preprocessing\n",
    "  * Load libraries\n",
    "  * Load data, select and define columns\n",
    "  * Data cleaning: deal with missing values, duplicated entries\n",
    "  * Text preprocessing: \n",
    "    * Remove irrelevant characters (e.g. numbers, punctuation)\n",
    "    * Convert all characters into lowercase\n",
    "    * Tokenization (the process of converting text into individual words - tokens)\n",
    "    * Removing Stopwords (words that are too common and do not qualify for being good keywords for search)\n",
    "    * Lemmatization (converting each word to its lemma word (e.g. ran, running are converted to run) to reduce words of similar roots to similar tokens)\n",
    "    * Remove the words having length < 2 \n",
    "    * Convert the list of tokens to string\n",
    "    * Export the cleaned text   \n",
    "* Exploratory Data Analysis (EDA)\n",
    "* Content-Based Recommendation Engine: \n",
    "  * TF-IDF:\n",
    "    * Convert each abstract into vectors using TF-IDF and unigram\n",
    "    * Calculate similarity between all abstracts using cosine similarity\n",
    "    * Define a function that takes title as input, and returns the top 5 similar recommended articles based on similarities between abstracts\n",
    "  * Word Embeddings:\n",
    "    * Build TF-IDF model and calculate TF-IDF score\n",
    "    * Build TF-IDF Word2Vec Embeddings\n",
    "    * Define a function that takes title as input, and returns the top 5 similar articles based on similarities between abstracts   \n",
    "* Conclusions\n",
    "* Acknowledgements"
   ]
  },
  {
   "cell_type": "markdown",
   "metadata": {},
   "source": [
    "# 2. Text wrangling\n",
    "# 2.1. Load libraries"
   ]
  },
  {
   "cell_type": "code",
   "execution_count": 1,
   "metadata": {},
   "outputs": [],
   "source": [
    "#load basic libraries\n",
    "import os\n",
    "import numpy as np \n",
    "import pandas as pd \n",
    "import json\n",
    "import matplotlib.pyplot as plt\n",
    "import seaborn as sns\n",
    "\n",
    "%matplotlib inline\n",
    "sns.set_style('whitegrid')"
   ]
  },
  {
   "cell_type": "code",
   "execution_count": 2,
   "metadata": {},
   "outputs": [
    {
     "name": "stdout",
     "output_type": "stream",
     "text": [
      "The current working directory is /Users/hhl/Desktop/Springboard062020/Springboard/Capstone3\n"
     ]
    }
   ],
   "source": [
    "cwd = os.getcwd()\n",
    "print('The current working directory is %s' %cwd)"
   ]
  },
  {
   "cell_type": "markdown",
   "metadata": {},
   "source": [
    "# 2.2. Load data, select and define relavant columns"
   ]
  },
  {
   "cell_type": "code",
   "execution_count": 3,
   "metadata": {},
   "outputs": [],
   "source": [
    "#specify the file name\n",
    "filename ='arxiv-metadata-oai-snapshot.json'"
   ]
  },
  {
   "cell_type": "code",
   "execution_count": 4,
   "metadata": {},
   "outputs": [
    {
     "name": "stdout",
     "output_type": "stream",
     "text": [
      "Total No. of articles: 1767485\n"
     ]
    }
   ],
   "source": [
    "#check the total number of articles in the original file\n",
    "with open(filename, 'r') as f:\n",
    "    num_lines = sum(1 for line in f)\n",
    "        \n",
    "print('Total No. of articles: {}'.format(num_lines))"
   ]
  },
  {
   "cell_type": "code",
   "execution_count": 5,
   "metadata": {},
   "outputs": [
    {
     "name": "stdout",
     "output_type": "stream",
     "text": [
      "{\"id\":\"0704.0001\",\"submitter\":\"Pavel Nadolsky\",\"authors\":\"C. Bal\\\\'azs, E. L. Berger, P. M. Nadolsky, C.-P. Yuan\",\"title\":\"Calculation of prompt diphoton production cross sections at Tevatron and\\n  LHC energies\",\"comments\":\"37 pages, 15 figures; published version\",\"journal-ref\":\"Phys.Rev.D76:013009,2007\",\"doi\":\"10.1103/PhysRevD.76.013009\",\"report-no\":\"ANL-HEP-PR-07-12\",\"categories\":\"hep-ph\",\"license\":null,\"abstract\":\"  A fully differential calculation in perturbative quantum chromodynamics is\\npresented for the production of massive photon pairs at hadron colliders. All\\nnext-to-leading order perturbative contributions from quark-antiquark,\\ngluon-(anti)quark, and gluon-gluon subprocesses are included, as well as\\nall-orders resummation of initial-state gluon radiation valid at\\nnext-to-next-to-leading logarithmic accuracy. The region of phase space is\\nspecified in which the calculation is most reliable. Good agreement is\\ndemonstrated with data from the Fermilab Tevatron, and predictions are made for\\nmore detailed tests with CDF and DO data. Predictions are shown for\\ndistributions of diphoton pairs produced at the energy of the Large Hadron\\nCollider (LHC). Distributions of the diphoton pairs from the decay of a Higgs\\nboson are contrasted with those produced from QCD processes at the LHC, showing\\nthat enhanced sensitivity to the signal can be obtained with judicious\\nselection of events.\\n\",\"versions\":[{\"version\":\"v1\",\"created\":\"Mon, 2 Apr 2007 19:18:42 GMT\"},{\"version\":\"v2\",\"created\":\"Tue, 24 Jul 2007 20:10:27 GMT\"}],\"update_date\":\"2008-11-26\",\"authors_parsed\":[[\"Bal\\u00e1zs\",\"C.\",\"\"],[\"Berger\",\"E. L.\",\"\"],[\"Nadolsky\",\"P. M.\",\"\"],[\"Yuan\",\"C. -P.\",\"\"]]}\n",
      "\n"
     ]
    }
   ],
   "source": [
    "#check the first entry\n",
    "with open(filename, 'r') as f:\n",
    "    first_record = f.readline()\n",
    "print (first_record)"
   ]
  },
  {
   "cell_type": "code",
   "execution_count": 6,
   "metadata": {},
   "outputs": [
    {
     "name": "stdout",
     "output_type": "stream",
     "text": [
      "No. of articles archieved since year 2015: 18118\n"
     ]
    }
   ],
   "source": [
    "#select articles archived since 2015\n",
    "papers = []\n",
    "with open(filename, 'r') as f:\n",
    "    for paper in f:\n",
    "        paper_dict = json.loads(paper)\n",
    "        ref = paper_dict['journal-ref']\n",
    "        try:\n",
    "            year = int(ref[-4:])\n",
    "            if 2015 <= year < 2020:\n",
    "                papers.append({\n",
    "                      'id':paper_dict['id'],\n",
    "                      'title':paper_dict['title'],\n",
    "                      'abstract':paper_dict['abstract'],\n",
    "                      'category':paper_dict['categories'].split(' '),\n",
    "                      'doi':paper_dict['doi']})\n",
    "        except:\n",
    "            pass\n",
    "\n",
    "len(papers)\n",
    "\n",
    "print('No. of articles archieved since year 2015: {}'.format(len(papers)))"
   ]
  },
  {
   "cell_type": "code",
   "execution_count": 7,
   "metadata": {},
   "outputs": [
    {
     "data": {
      "text/html": [
       "<div>\n",
       "<style scoped>\n",
       "    .dataframe tbody tr th:only-of-type {\n",
       "        vertical-align: middle;\n",
       "    }\n",
       "\n",
       "    .dataframe tbody tr th {\n",
       "        vertical-align: top;\n",
       "    }\n",
       "\n",
       "    .dataframe thead th {\n",
       "        text-align: right;\n",
       "    }\n",
       "</style>\n",
       "<table border=\"1\" class=\"dataframe\">\n",
       "  <thead>\n",
       "    <tr style=\"text-align: right;\">\n",
       "      <th></th>\n",
       "      <th>id</th>\n",
       "      <th>title</th>\n",
       "      <th>abstract</th>\n",
       "      <th>category</th>\n",
       "      <th>doi</th>\n",
       "    </tr>\n",
       "  </thead>\n",
       "  <tbody>\n",
       "    <tr>\n",
       "      <th>0</th>\n",
       "      <td>0707.1174</td>\n",
       "      <td>Banach-like metrics and metrics of compact sets</td>\n",
       "      <td>We present and study a family of metrics on ...</td>\n",
       "      <td>[math.MG, math.CA, math.DG, math.GN]</td>\n",
       "      <td>10.1137/140972512</td>\n",
       "    </tr>\n",
       "    <tr>\n",
       "      <th>1</th>\n",
       "      <td>0707.4025</td>\n",
       "      <td>On the Cohomological Derivation of Yang-Mills ...</td>\n",
       "      <td>We present a brief review of the cohomologic...</td>\n",
       "      <td>[physics.gen-ph]</td>\n",
       "      <td>10.4236/jhepgc.2017.32031</td>\n",
       "    </tr>\n",
       "    <tr>\n",
       "      <th>2</th>\n",
       "      <td>0707.4470</td>\n",
       "      <td>Geometric Computational Electrodynamics with V...</td>\n",
       "      <td>In this paper, we develop a structure-preser...</td>\n",
       "      <td>[math.NA, physics.comp-ph]</td>\n",
       "      <td>10.1007/978-1-4939-2441-7_19</td>\n",
       "    </tr>\n",
       "    <tr>\n",
       "      <th>3</th>\n",
       "      <td>0708.0397</td>\n",
       "      <td>A presentation for the mapping class group of ...</td>\n",
       "      <td>Finite presentations for the mapping class g...</td>\n",
       "      <td>[math.GT, math.GR]</td>\n",
       "      <td>10.1016/j.jpaa.2009.02.009</td>\n",
       "    </tr>\n",
       "    <tr>\n",
       "      <th>4</th>\n",
       "      <td>0710.1849</td>\n",
       "      <td>Regularity of solutions of the isoperimetric p...</td>\n",
       "      <td>In this work we consider a question in the c...</td>\n",
       "      <td>[math.DG, math.AP, math.MG]</td>\n",
       "      <td>10.1007/s00574-017-0056-6</td>\n",
       "    </tr>\n",
       "  </tbody>\n",
       "</table>\n",
       "</div>"
      ],
      "text/plain": [
       "          id                                              title  \\\n",
       "0  0707.1174    Banach-like metrics and metrics of compact sets   \n",
       "1  0707.4025  On the Cohomological Derivation of Yang-Mills ...   \n",
       "2  0707.4470  Geometric Computational Electrodynamics with V...   \n",
       "3  0708.0397  A presentation for the mapping class group of ...   \n",
       "4  0710.1849  Regularity of solutions of the isoperimetric p...   \n",
       "\n",
       "                                            abstract  \\\n",
       "0    We present and study a family of metrics on ...   \n",
       "1    We present a brief review of the cohomologic...   \n",
       "2    In this paper, we develop a structure-preser...   \n",
       "3    Finite presentations for the mapping class g...   \n",
       "4    In this work we consider a question in the c...   \n",
       "\n",
       "                               category                           doi  \n",
       "0  [math.MG, math.CA, math.DG, math.GN]             10.1137/140972512  \n",
       "1                      [physics.gen-ph]     10.4236/jhepgc.2017.32031  \n",
       "2            [math.NA, physics.comp-ph]  10.1007/978-1-4939-2441-7_19  \n",
       "3                    [math.GT, math.GR]    10.1016/j.jpaa.2009.02.009  \n",
       "4           [math.DG, math.AP, math.MG]     10.1007/s00574-017-0056-6  "
      ]
     },
     "execution_count": 7,
     "metadata": {},
     "output_type": "execute_result"
    }
   ],
   "source": [
    "#convert to a dataframe\n",
    "dat = pd.DataFrame(papers)\n",
    "dat.head()"
   ]
  },
  {
   "cell_type": "markdown",
   "metadata": {},
   "source": [
    "# 2.3. Data cleaning: missings, duplicates etc."
   ]
  },
  {
   "cell_type": "code",
   "execution_count": 8,
   "metadata": {},
   "outputs": [
    {
     "name": "stdout",
     "output_type": "stream",
     "text": [
      "<class 'pandas.core.frame.DataFrame'>\n",
      "RangeIndex: 18118 entries, 0 to 18117\n",
      "Data columns (total 5 columns):\n",
      " #   Column    Non-Null Count  Dtype \n",
      "---  ------    --------------  ----- \n",
      " 0   id        18118 non-null  object\n",
      " 1   title     18118 non-null  object\n",
      " 2   abstract  18118 non-null  object\n",
      " 3   category  18118 non-null  object\n",
      " 4   doi       13485 non-null  object\n",
      "dtypes: object(5)\n",
      "memory usage: 707.9+ KB\n"
     ]
    }
   ],
   "source": [
    "dat.info()"
   ]
  },
  {
   "cell_type": "code",
   "execution_count": 9,
   "metadata": {},
   "outputs": [
    {
     "data": {
      "text/plain": [
       "id             0\n",
       "title          0\n",
       "abstract       0\n",
       "category       0\n",
       "doi         4633\n",
       "dtype: int64"
      ]
     },
     "execution_count": 9,
     "metadata": {},
     "output_type": "execute_result"
    }
   ],
   "source": [
    "#deal with missings\n",
    "dat.isnull().sum()"
   ]
  },
  {
   "cell_type": "code",
   "execution_count": 10,
   "metadata": {},
   "outputs": [
    {
     "data": {
      "text/plain": [
       "9        None\n",
       "11       None\n",
       "17       None\n",
       "18       None\n",
       "19       None\n",
       "         ... \n",
       "18083    None\n",
       "18100    None\n",
       "18101    None\n",
       "18106    None\n",
       "18109    None\n",
       "Name: doi, Length: 4633, dtype: object"
      ]
     },
     "execution_count": 10,
     "metadata": {},
     "output_type": "execute_result"
    }
   ],
   "source": [
    "dat.doi[dat.doi.isnull()]"
   ]
  },
  {
   "cell_type": "code",
   "execution_count": 11,
   "metadata": {},
   "outputs": [
    {
     "data": {
      "text/html": [
       "<div>\n",
       "<style scoped>\n",
       "    .dataframe tbody tr th:only-of-type {\n",
       "        vertical-align: middle;\n",
       "    }\n",
       "\n",
       "    .dataframe tbody tr th {\n",
       "        vertical-align: top;\n",
       "    }\n",
       "\n",
       "    .dataframe thead th {\n",
       "        text-align: right;\n",
       "    }\n",
       "</style>\n",
       "<table border=\"1\" class=\"dataframe\">\n",
       "  <thead>\n",
       "    <tr style=\"text-align: right;\">\n",
       "      <th></th>\n",
       "      <th>id</th>\n",
       "      <th>title</th>\n",
       "      <th>abstract</th>\n",
       "      <th>category</th>\n",
       "      <th>doi</th>\n",
       "    </tr>\n",
       "  </thead>\n",
       "  <tbody>\n",
       "  </tbody>\n",
       "</table>\n",
       "</div>"
      ],
      "text/plain": [
       "Empty DataFrame\n",
       "Columns: [id, title, abstract, category, doi]\n",
       "Index: []"
      ]
     },
     "execution_count": 11,
     "metadata": {},
     "output_type": "execute_result"
    }
   ],
   "source": [
    "#remove duplicated entries\n",
    "dat[dat.id.duplicated()]"
   ]
  },
  {
   "cell_type": "markdown",
   "metadata": {},
   "source": [
    "# 3. Text preprocessing \n",
    "   * Remove irrelevant characters (e.g. numbers, punctuation)\n",
    "   * Convert all characters into lowercase\n",
    "   * Tokenization (the process of converting text into individual words - tokens)\n",
    "   * Removing Stopwords (words that are too common and do not qualify for being good keywords for search)\n",
    "   * Lemmatization (converting each word to its lemma word (e.g. ran, running are converted to run) to reduce words of similar roots to similar tokens)\n",
    "   * Remove the words having lenth < 2 \n",
    "   * Convert the list of tokens to string\n",
    "   * Export the cleaned text "
   ]
  },
  {
   "cell_type": "code",
   "execution_count": 12,
   "metadata": {},
   "outputs": [],
   "source": [
    "import re\n",
    "import string\n",
    "\n",
    "import nltk\n",
    "#nltk.download('punkt')\n",
    "from nltk.corpus import stopwords\n",
    "from nltk.tokenize import word_tokenize\n",
    "from nltk.stem import WordNetLemmatizer\n",
    "\n",
    "stop_words = set(stopwords.words('english'))\n",
    "stop_words.remove('no')\n",
    "stop_words.remove('not')\n",
    "lemma = WordNetLemmatizer()\n",
    "\n",
    "#define a function to do above steps, and return clean_abstract\n",
    "def clean_abstract(text):\n",
    "    tokens = [w for w in word_tokenize(text.lower()) if w.isalpha()]\n",
    "    tokens = [w for w in tokens if w not in stop_words]  #remove Stopwords\n",
    "    tokens = [lemma.lemmatize(word=w, pos='v') for w in tokens]  #lemmatization\n",
    "    tokens = [w for w in tokens if len(w) > 2]  #remove words having lenth <= 2\n",
    "    text = ' '.join(tokens)  #convert the list of tokens into string\n",
    "    return text\n",
    "\n",
    "dat['clean_abstract'] = dat['abstract'].apply(func = clean_abstract)"
   ]
  },
  {
   "cell_type": "code",
   "execution_count": 13,
   "metadata": {},
   "outputs": [
    {
     "data": {
      "text/plain": [
       "\"  We present and study a family of metrics on the space of compact subsets of\\n$R^N$ (that we call ``shapes''). These metrics are ``geometric'', that is, they\\nare independent of rotation and translation; and these metrics enjoy many\\ninteresting properties, as, for example, the existence of minimal geodesics. We\\nview our space of shapes as a subset of Banach (or Hilbert) manifolds: so we\\ncan define a ``tangent manifold'' to shapes, and (in a very weak form) talk of\\na ``Riemannian Geometry'' of shapes. Some of the metrics that we propose are\\ntopologically equivalent to the Hausdorff metric; but at the same time, they\\nare more ``regular'', since we can hope for a local uniqueness of minimal\\ngeodesics.\\n  We also study properties of the metrics obtained by isometrically identifying\\na generic metric space with a subset of a Banach space to obtain a rigidity\\nresult.\\n\""
      ]
     },
     "execution_count": 13,
     "metadata": {},
     "output_type": "execute_result"
    }
   ],
   "source": [
    "# abstract before pre-processing: abstract\n",
    "dat['abstract'][0]  "
   ]
  },
  {
   "cell_type": "code",
   "execution_count": 14,
   "metadata": {},
   "outputs": [
    {
     "data": {
      "text/plain": [
       "'present study family metrics space compact subsets call shape metrics geometric independent rotation translation metrics enjoy many interest properties example existence minimal geodesics view space shape subset banach hilbert manifold define tangent manifold shape weak form talk riemannian geometry shape metrics propose topologically equivalent hausdorff metric time regular since hope local uniqueness minimal geodesics also study properties metrics obtain isometrically identify generic metric space subset banach space obtain rigidity result'"
      ]
     },
     "execution_count": 14,
     "metadata": {},
     "output_type": "execute_result"
    }
   ],
   "source": [
    "# abstract after pre-processing: clean_abstract\n",
    "dat['clean_abstract'][0]"
   ]
  },
  {
   "cell_type": "code",
   "execution_count": 15,
   "metadata": {},
   "outputs": [],
   "source": [
    "#add general category\n",
    "dat['general_category'] = dat.category.apply(lambda x:[a.split('.')[0] for a in x])"
   ]
  },
  {
   "cell_type": "code",
   "execution_count": 16,
   "metadata": {},
   "outputs": [
    {
     "data": {
      "text/html": [
       "<div>\n",
       "<style scoped>\n",
       "    .dataframe tbody tr th:only-of-type {\n",
       "        vertical-align: middle;\n",
       "    }\n",
       "\n",
       "    .dataframe tbody tr th {\n",
       "        vertical-align: top;\n",
       "    }\n",
       "\n",
       "    .dataframe thead th {\n",
       "        text-align: right;\n",
       "    }\n",
       "</style>\n",
       "<table border=\"1\" class=\"dataframe\">\n",
       "  <thead>\n",
       "    <tr style=\"text-align: right;\">\n",
       "      <th></th>\n",
       "      <th>id</th>\n",
       "      <th>title</th>\n",
       "      <th>abstract</th>\n",
       "      <th>category</th>\n",
       "      <th>doi</th>\n",
       "      <th>clean_abstract</th>\n",
       "      <th>general_category</th>\n",
       "    </tr>\n",
       "  </thead>\n",
       "  <tbody>\n",
       "    <tr>\n",
       "      <th>0</th>\n",
       "      <td>0707.1174</td>\n",
       "      <td>Banach-like metrics and metrics of compact sets</td>\n",
       "      <td>We present and study a family of metrics on ...</td>\n",
       "      <td>[math.MG, math.CA, math.DG, math.GN]</td>\n",
       "      <td>10.1137/140972512</td>\n",
       "      <td>present study family metrics space compact sub...</td>\n",
       "      <td>[math, math, math, math]</td>\n",
       "    </tr>\n",
       "    <tr>\n",
       "      <th>1</th>\n",
       "      <td>0707.4025</td>\n",
       "      <td>On the Cohomological Derivation of Yang-Mills ...</td>\n",
       "      <td>We present a brief review of the cohomologic...</td>\n",
       "      <td>[physics.gen-ph]</td>\n",
       "      <td>10.4236/jhepgc.2017.32031</td>\n",
       "      <td>present brief review cohomological solutions i...</td>\n",
       "      <td>[physics]</td>\n",
       "    </tr>\n",
       "    <tr>\n",
       "      <th>2</th>\n",
       "      <td>0707.4470</td>\n",
       "      <td>Geometric Computational Electrodynamics with V...</td>\n",
       "      <td>In this paper, we develop a structure-preser...</td>\n",
       "      <td>[math.NA, physics.comp-ph]</td>\n",
       "      <td>10.1007/978-1-4939-2441-7_19</td>\n",
       "      <td>paper develop discretization lagrangian framew...</td>\n",
       "      <td>[math, physics]</td>\n",
       "    </tr>\n",
       "    <tr>\n",
       "      <th>3</th>\n",
       "      <td>0708.0397</td>\n",
       "      <td>A presentation for the mapping class group of ...</td>\n",
       "      <td>Finite presentations for the mapping class g...</td>\n",
       "      <td>[math.GT, math.GR]</td>\n",
       "      <td>10.1016/j.jpaa.2009.02.009</td>\n",
       "      <td>finite presentations map class group know arbi...</td>\n",
       "      <td>[math, math]</td>\n",
       "    </tr>\n",
       "    <tr>\n",
       "      <th>4</th>\n",
       "      <td>0710.1849</td>\n",
       "      <td>Regularity of solutions of the isoperimetric p...</td>\n",
       "      <td>In this work we consider a question in the c...</td>\n",
       "      <td>[math.DG, math.AP, math.MG]</td>\n",
       "      <td>10.1007/s00574-017-0056-6</td>\n",
       "      <td>work consider question calculus variations mot...</td>\n",
       "      <td>[math, math, math]</td>\n",
       "    </tr>\n",
       "  </tbody>\n",
       "</table>\n",
       "</div>"
      ],
      "text/plain": [
       "          id                                              title  \\\n",
       "0  0707.1174    Banach-like metrics and metrics of compact sets   \n",
       "1  0707.4025  On the Cohomological Derivation of Yang-Mills ...   \n",
       "2  0707.4470  Geometric Computational Electrodynamics with V...   \n",
       "3  0708.0397  A presentation for the mapping class group of ...   \n",
       "4  0710.1849  Regularity of solutions of the isoperimetric p...   \n",
       "\n",
       "                                            abstract  \\\n",
       "0    We present and study a family of metrics on ...   \n",
       "1    We present a brief review of the cohomologic...   \n",
       "2    In this paper, we develop a structure-preser...   \n",
       "3    Finite presentations for the mapping class g...   \n",
       "4    In this work we consider a question in the c...   \n",
       "\n",
       "                               category                           doi  \\\n",
       "0  [math.MG, math.CA, math.DG, math.GN]             10.1137/140972512   \n",
       "1                      [physics.gen-ph]     10.4236/jhepgc.2017.32031   \n",
       "2            [math.NA, physics.comp-ph]  10.1007/978-1-4939-2441-7_19   \n",
       "3                    [math.GT, math.GR]    10.1016/j.jpaa.2009.02.009   \n",
       "4           [math.DG, math.AP, math.MG]     10.1007/s00574-017-0056-6   \n",
       "\n",
       "                                      clean_abstract          general_category  \n",
       "0  present study family metrics space compact sub...  [math, math, math, math]  \n",
       "1  present brief review cohomological solutions i...                 [physics]  \n",
       "2  paper develop discretization lagrangian framew...           [math, physics]  \n",
       "3  finite presentations map class group know arbi...              [math, math]  \n",
       "4  work consider question calculus variations mot...        [math, math, math]  "
      ]
     },
     "execution_count": 16,
     "metadata": {},
     "output_type": "execute_result"
    }
   ],
   "source": [
    "dat.head()"
   ]
  },
  {
   "cell_type": "code",
   "execution_count": 17,
   "metadata": {},
   "outputs": [],
   "source": [
    "# export the cleaned data\n",
    "dat.to_csv('dat_clean.csv',index=False)"
   ]
  },
  {
   "cell_type": "markdown",
   "metadata": {},
   "source": [
    "# 4. Exploratory Data Analyses (EDA)"
   ]
  },
  {
   "cell_type": "code",
   "execution_count": 18,
   "metadata": {},
   "outputs": [
    {
     "data": {
      "text/html": [
       "<div>\n",
       "<style scoped>\n",
       "    .dataframe tbody tr th:only-of-type {\n",
       "        vertical-align: middle;\n",
       "    }\n",
       "\n",
       "    .dataframe tbody tr th {\n",
       "        vertical-align: top;\n",
       "    }\n",
       "\n",
       "    .dataframe thead th {\n",
       "        text-align: right;\n",
       "    }\n",
       "</style>\n",
       "<table border=\"1\" class=\"dataframe\">\n",
       "  <thead>\n",
       "    <tr style=\"text-align: right;\">\n",
       "      <th></th>\n",
       "      <th>id</th>\n",
       "      <th>title</th>\n",
       "      <th>abstract</th>\n",
       "      <th>category</th>\n",
       "      <th>doi</th>\n",
       "      <th>clean_abstract</th>\n",
       "      <th>general_category</th>\n",
       "    </tr>\n",
       "  </thead>\n",
       "  <tbody>\n",
       "    <tr>\n",
       "      <th>0</th>\n",
       "      <td>0707.1174</td>\n",
       "      <td>Banach-like metrics and metrics of compact sets</td>\n",
       "      <td>We present and study a family of metrics on ...</td>\n",
       "      <td>[math.MG, math.CA, math.DG, math.GN]</td>\n",
       "      <td>10.1137/140972512</td>\n",
       "      <td>present study family metrics space compact sub...</td>\n",
       "      <td>[math, math, math, math]</td>\n",
       "    </tr>\n",
       "    <tr>\n",
       "      <th>1</th>\n",
       "      <td>0707.4025</td>\n",
       "      <td>On the Cohomological Derivation of Yang-Mills ...</td>\n",
       "      <td>We present a brief review of the cohomologic...</td>\n",
       "      <td>[physics.gen-ph]</td>\n",
       "      <td>10.4236/jhepgc.2017.32031</td>\n",
       "      <td>present brief review cohomological solutions i...</td>\n",
       "      <td>[physics]</td>\n",
       "    </tr>\n",
       "    <tr>\n",
       "      <th>2</th>\n",
       "      <td>0707.4470</td>\n",
       "      <td>Geometric Computational Electrodynamics with V...</td>\n",
       "      <td>In this paper, we develop a structure-preser...</td>\n",
       "      <td>[math.NA, physics.comp-ph]</td>\n",
       "      <td>10.1007/978-1-4939-2441-7_19</td>\n",
       "      <td>paper develop discretization lagrangian framew...</td>\n",
       "      <td>[math, physics]</td>\n",
       "    </tr>\n",
       "    <tr>\n",
       "      <th>3</th>\n",
       "      <td>0708.0397</td>\n",
       "      <td>A presentation for the mapping class group of ...</td>\n",
       "      <td>Finite presentations for the mapping class g...</td>\n",
       "      <td>[math.GT, math.GR]</td>\n",
       "      <td>10.1016/j.jpaa.2009.02.009</td>\n",
       "      <td>finite presentations map class group know arbi...</td>\n",
       "      <td>[math, math]</td>\n",
       "    </tr>\n",
       "    <tr>\n",
       "      <th>4</th>\n",
       "      <td>0710.1849</td>\n",
       "      <td>Regularity of solutions of the isoperimetric p...</td>\n",
       "      <td>In this work we consider a question in the c...</td>\n",
       "      <td>[math.DG, math.AP, math.MG]</td>\n",
       "      <td>10.1007/s00574-017-0056-6</td>\n",
       "      <td>work consider question calculus variations mot...</td>\n",
       "      <td>[math, math, math]</td>\n",
       "    </tr>\n",
       "  </tbody>\n",
       "</table>\n",
       "</div>"
      ],
      "text/plain": [
       "          id                                              title  \\\n",
       "0  0707.1174    Banach-like metrics and metrics of compact sets   \n",
       "1  0707.4025  On the Cohomological Derivation of Yang-Mills ...   \n",
       "2  0707.4470  Geometric Computational Electrodynamics with V...   \n",
       "3  0708.0397  A presentation for the mapping class group of ...   \n",
       "4  0710.1849  Regularity of solutions of the isoperimetric p...   \n",
       "\n",
       "                                            abstract  \\\n",
       "0    We present and study a family of metrics on ...   \n",
       "1    We present a brief review of the cohomologic...   \n",
       "2    In this paper, we develop a structure-preser...   \n",
       "3    Finite presentations for the mapping class g...   \n",
       "4    In this work we consider a question in the c...   \n",
       "\n",
       "                               category                           doi  \\\n",
       "0  [math.MG, math.CA, math.DG, math.GN]             10.1137/140972512   \n",
       "1                      [physics.gen-ph]     10.4236/jhepgc.2017.32031   \n",
       "2            [math.NA, physics.comp-ph]  10.1007/978-1-4939-2441-7_19   \n",
       "3                    [math.GT, math.GR]    10.1016/j.jpaa.2009.02.009   \n",
       "4           [math.DG, math.AP, math.MG]     10.1007/s00574-017-0056-6   \n",
       "\n",
       "                                      clean_abstract          general_category  \n",
       "0  present study family metrics space compact sub...  [math, math, math, math]  \n",
       "1  present brief review cohomological solutions i...                 [physics]  \n",
       "2  paper develop discretization lagrangian framew...           [math, physics]  \n",
       "3  finite presentations map class group know arbi...              [math, math]  \n",
       "4  work consider question calculus variations mot...        [math, math, math]  "
      ]
     },
     "execution_count": 18,
     "metadata": {},
     "output_type": "execute_result"
    }
   ],
   "source": [
    "dat.head()"
   ]
  },
  {
   "cell_type": "code",
   "execution_count": 19,
   "metadata": {},
   "outputs": [
    {
     "name": "stdout",
     "output_type": "stream",
     "text": [
      "<class 'pandas.core.frame.DataFrame'>\n",
      "RangeIndex: 18118 entries, 0 to 18117\n",
      "Data columns (total 7 columns):\n",
      " #   Column            Non-Null Count  Dtype \n",
      "---  ------            --------------  ----- \n",
      " 0   id                18118 non-null  object\n",
      " 1   title             18118 non-null  object\n",
      " 2   abstract          18118 non-null  object\n",
      " 3   category          18118 non-null  object\n",
      " 4   doi               13485 non-null  object\n",
      " 5   clean_abstract    18118 non-null  object\n",
      " 6   general_category  18118 non-null  object\n",
      "dtypes: object(7)\n",
      "memory usage: 991.0+ KB\n"
     ]
    }
   ],
   "source": [
    "dat.info()"
   ]
  },
  {
   "cell_type": "code",
   "execution_count": 20,
   "metadata": {},
   "outputs": [
    {
     "data": {
      "text/plain": [
       "count    18118.000000\n",
       "mean        84.477978\n",
       "std         34.778194\n",
       "min          3.000000\n",
       "25%         59.000000\n",
       "50%         83.000000\n",
       "75%        109.000000\n",
       "max        252.000000\n",
       "Name: word_count, dtype: float64"
      ]
     },
     "execution_count": 20,
     "metadata": {},
     "output_type": "execute_result"
    }
   ],
   "source": [
    "#what is the range of the count of words in each abstract after cleaning? \n",
    "dat['word_count'] = dat['clean_abstract'].apply(lambda x:len(str(x).split()))\n",
    "dat.word_count.describe()"
   ]
  },
  {
   "cell_type": "code",
   "execution_count": 21,
   "metadata": {},
   "outputs": [
    {
     "data": {
      "image/png": "[encoded data removed]",
      "text/plain": [
       "<Figure size 648x432 with 1 Axes>"
      ]
     },
     "metadata": {},
     "output_type": "display_data"
    }
   ],
   "source": [
    "dat['word_count'].plot(kind='hist',bins=30,figsize=(9,6))\n",
    "plt.xlabel('Word count')\n",
    "plt.ylabel('Frequency')\n",
    "plt.title('Word count distribution for clean abstract')\n",
    "plt.show()"
   ]
  },
  {
   "cell_type": "markdown",
   "metadata": {},
   "source": [
    "# 5. Recommendation engines: \n",
    "# 5.1. Recommendation engine using TF-IDF\n",
    "  * Define a function that takes title as input, and returns the top 5 similar articles \n",
    "     * Convert each abstract into vectors using TF-IDF \n",
    "     * Calculate similarity between all abstracts using cosine similarity\n",
    "     * Sort the similarity scores, and select the top 5 most similar articles"
   ]
  },
  {
   "cell_type": "code",
   "execution_count": 22,
   "metadata": {},
   "outputs": [
    {
     "data": {
      "text/plain": [
       "(18118, 37948)"
      ]
     },
     "execution_count": 22,
     "metadata": {},
     "output_type": "execute_result"
    }
   ],
   "source": [
    "from sklearn.feature_extraction.text import TfidfVectorizer\n",
    "from sklearn.metrics.pairwise import cosine_similarity\n",
    "\n",
    "#convert the abstract into vectors and use unigram\n",
    "tfidf = TfidfVectorizer()\n",
    "tfidf_matrix = tfidf.fit_transform(dat['clean_abstract'])\n",
    "df1 = pd.DataFrame(tfidf_matrix.todense(),columns=tfidf.get_feature_names())\n",
    "df1.shape"
   ]
  },
  {
   "cell_type": "code",
   "execution_count": 23,
   "metadata": {},
   "outputs": [
    {
     "data": {
      "text/plain": [
       "Text(0.5, 1.0, 'Sparse Matrix Sample')"
      ]
     },
     "execution_count": 23,
     "metadata": {},
     "output_type": "execute_result"
    },
    {
     "data": {
      "image/png": "[encoded data removed]",
      "text/plain": [
       "<Figure size 432x288 with 1 Axes>"
      ]
     },
     "metadata": {},
     "output_type": "display_data"
    }
   ],
   "source": [
    "#plot examples of tfidf_matrix\n",
    "sns.heatmap(tfidf_matrix.todense()\n",
    "           [:,np.random.randint(0,10000,100)]==0, vmin=0, vmax=1, \n",
    "            cbar=False).set_title('Sparse Matrix Sample')"
   ]
  },
  {
   "cell_type": "code",
   "execution_count": 24,
   "metadata": {},
   "outputs": [],
   "source": [
    "def paper_recommend1(title):\n",
    "    #calculate cosine similarity\n",
    "    cosine_similarities = cosine_similarity(tfidf_matrix,tfidf_matrix)\n",
    "    #convert index into series\n",
    "    indices = pd.Series(dat.index, index=dat['title'])\n",
    "    #get the index corresponding to the input title\n",
    "    idx = indices[title]\n",
    "    #get the pairwise similarity scores\n",
    "    sim_scores = list(enumerate(cosine_similarities[idx]))\n",
    "    #sort the articles\n",
    "    sim_scores = sorted(sim_scores,key=lambda x: x[1],reverse=True)\n",
    "    #the 5 most similar articles\n",
    "    sim_scores = sim_scores[1:6]\n",
    "    #paper indices\n",
    "    paper_indices = [i[0] for i in sim_scores]\n",
    "    recomd = dat[['title']].iloc[paper_indices]\n",
    "    print('\\nHere are the top 5 similar articles that may interest you:')\n",
    "    print('--------------------------\\n')\n",
    "    for n,i in enumerate(sim_scores):\n",
    "        print('#{}.'.format(n+1),'Cosine similarity: {}\\n'.format(round(i[1],3)),'Title: “{}”.'.format(dat['title'][i[0]]),'(DOI:{})\\n'.format(dat['doi'][i[0]]))   "
   ]
  },
  {
   "cell_type": "code",
   "execution_count": 25,
   "metadata": {},
   "outputs": [
    {
     "name": "stdout",
     "output_type": "stream",
     "text": [
      "\n",
      "Here are the top 5 similar articles that may interest you:\n",
      "--------------------------\n",
      "\n",
      "#1. Cosine similarity: 0.332\n",
      " Title: “Can information be spread as a virus? Viral Marketing as epidemiological\n",
      "  model”. (DOI:10.1002/mma.3783)\n",
      "\n",
      "#2. Cosine similarity: 0.321\n",
      " Title: “Modeling the residential electricity consumption within a restructured\n",
      "  power market”. (DOI:None)\n",
      "\n",
      "#3. Cosine similarity: 0.3\n",
      " Title: “Investigating the effect of competitiveness power in estimating the\n",
      "  average weighted price in electricity market”. (DOI:10.1016/j.tej.2019.106628)\n",
      "\n",
      "#4. Cosine similarity: 0.286\n",
      " Title: “Markets, herding and response to external information”. (DOI:10.1371/journal.pone.0133287)\n",
      "\n",
      "#5. Cosine similarity: 0.284\n",
      " Title: “Improving content marketing processes with the approaches by artificial\n",
      "  intelligence”. (DOI:None)\n",
      "\n"
     ]
    }
   ],
   "source": [
    "paper_recommend1('Budget Constraints in Prediction Markets')"
   ]
  },
  {
   "cell_type": "markdown",
   "metadata": {},
   "source": [
    "# 5.2. Content-based recommendation system using word embeddings\n",
    "TF-IDF convert the raw text into vectors in the above recommendation engine. Howerver it does not capture the semantic meaning, and also it gives a sparse matrix. In contrast, word embeddings create a dense, low dimensional feature whereas TF-IDF create a sparse, high dimensional feature. It also captures the semantic meaning very well. This project explores how TF-IDF Word2Vec can be used to build a reocmmendation engine"
   ]
  },
  {
   "cell_type": "code",
   "execution_count": 26,
   "metadata": {},
   "outputs": [],
   "source": [
    "from gensim.models import Word2Vec\n",
    "from gensim.models.phrases import Phrases, Phraser\n",
    "from gensim.models import KeyedVectors"
   ]
  },
  {
   "cell_type": "code",
   "execution_count": 27,
   "metadata": {},
   "outputs": [],
   "source": [
    "corpus = []\n",
    "for words in dat['clean_abstract']:\n",
    "    corpus.append(words.split())"
   ]
  },
  {
   "cell_type": "code",
   "execution_count": 28,
   "metadata": {},
   "outputs": [
    {
     "data": {
      "text/plain": [
       "(0, 0)"
      ]
     },
     "execution_count": 28,
     "metadata": {},
     "output_type": "execute_result"
    }
   ],
   "source": [
    "# Downloading the Google pretrained Word2Vec Model\n",
    "#url = 'https://s3.amazonaws.com/dl4j-distribution/GoogleNews-vectors-negative300.bin.gz'\n",
    "\n",
    "#load pretrained model\n",
    "google_word2vec = KeyedVectors.load_word2vec_format('GoogleNews-vectors-negative300.bin.gz', binary=True)\n",
    "\n",
    "# Training our corpus with Google Pretrained Model\n",
    "google_model = Word2Vec(size = 300, window=5, min_count = 2, workers = -1)\n",
    "google_model.build_vocab(corpus)\n",
    "\n",
    "google_model.intersect_word2vec_format('GoogleNews-vectors-negative300.bin.gz', lockf=1.0, binary=True)\n",
    "\n",
    "google_model.train(corpus, total_examples=google_model.corpus_count, epochs = 5)"
   ]
  },
  {
   "cell_type": "code",
   "execution_count": 29,
   "metadata": {},
   "outputs": [],
   "source": [
    "#Building TFIDF model and calculate TFIDF score\n",
    "tfidf = TfidfVectorizer()\n",
    "tfidf.fit(dat['clean_abstract'])\n",
    "\n",
    "# Getting the words from the TF-IDF model\n",
    "tfidf_list = dict(zip(tfidf.get_feature_names(), list(tfidf.idf_)))\n",
    "tfidf_feature = tfidf.get_feature_names() # tfidf words/col-names"
   ]
  },
  {
   "cell_type": "code",
   "execution_count": 30,
   "metadata": {},
   "outputs": [],
   "source": [
    "# Building TF-IDF Word2Vec embeddings\n",
    "\n",
    "tfidf_vectors = []; \n",
    "line = 0;\n",
    "# for each book description\n",
    "for abstract in corpus: \n",
    "  # Word vectors are of zero length (Used 300 dimensions)\n",
    "    set_vec = np.zeros(300) \n",
    "    # num of words with a valid vector in the book description\n",
    "    weight_sum =0; \n",
    "    # for each word in the abstract\n",
    "    for word in abstract: \n",
    "        if word in google_model.wv.vocab and word in tfidf_feature:\n",
    "            vec = google_model.wv[word]\n",
    "            tf_idf = tfidf_list[word] * (abstract.count(word) / len(abstract))\n",
    "            set_vec += (vec * tf_idf)\n",
    "            weight_sum += tf_idf\n",
    "    if weight_sum != 0:\n",
    "        set_vec /= weight_sum\n",
    "    tfidf_vectors.append(set_vec)\n",
    "    line += 1"
   ]
  },
  {
   "cell_type": "code",
   "execution_count": 31,
   "metadata": {},
   "outputs": [
    {
     "data": {
      "image/png": "[encoded data removed]",
      "text/plain": [
       "<Figure size 432x288 with 1 Axes>"
      ]
     },
     "metadata": {},
     "output_type": "display_data"
    }
   ],
   "source": [
    "sns.heatmap(tfidf_vectors,vmin=0,vmax=1,cbar=False).set_title('Dense Matrix')\n",
    "plt.show()"
   ]
  },
  {
   "cell_type": "code",
   "execution_count": 32,
   "metadata": {},
   "outputs": [],
   "source": [
    "#Recommending top 5 similar books\n",
    "\n",
    "def paper_recommend2(title):\n",
    "   # finding cosine similarity for the vectors\n",
    "    cosine_similarities = cosine_similarity(tfidf_vectors,  tfidf_vectors)\n",
    "    indices = pd.Series(dat.index, index = dat['title'])        \n",
    "    idx = indices[title]\n",
    "    sim_scores = list(enumerate(cosine_similarities[idx]))\n",
    "    sim_scores = sorted(sim_scores, key = lambda x: x[1], reverse = True)\n",
    "    sim_scores = sim_scores[1:6]\n",
    "    paper_indices = [i[0] for i in sim_scores]\n",
    "    recomd2 = dat[['title']].iloc[paper_indices]\n",
    "    print('\\nHere are the top 5 similar articles that may interest you:')\n",
    "    print('--------------------------\\n')\n",
    "    for n,i in enumerate(sim_scores):\n",
    "        print('#{}.'.format(n+1),'Cosine similarity: {}\\n'.format(round(i[1],3)),'Title: “{}”.'.format(dat['title'][i[0]]),'(DOI:{})\\n'.format(dat['doi'][i[0]]))          "
   ]
  },
  {
   "cell_type": "code",
   "execution_count": 33,
   "metadata": {},
   "outputs": [
    {
     "name": "stdout",
     "output_type": "stream",
     "text": [
      "\n",
      "Here are the top 5 similar articles that may interest you:\n",
      "--------------------------\n",
      "\n",
      "#1. Cosine similarity: 0.783\n",
      " Title: “Modeling the residential electricity consumption within a restructured\n",
      "  power market”. (DOI:None)\n",
      "\n",
      "#2. Cosine similarity: 0.776\n",
      " Title: “Phase Transition in the S&P Stock Market”. (DOI:10.1007/s11403-015-0160-x)\n",
      "\n",
      "#3. Cosine similarity: 0.76\n",
      " Title: “Investigating the effect of competitiveness power in estimating the\n",
      "  average weighted price in electricity market”. (DOI:10.1016/j.tej.2019.106628)\n",
      "\n",
      "#4. Cosine similarity: 0.746\n",
      " Title: “Hierarchical structure of stock price fluctuations in financial markets”. (DOI:10.1088/1742-5468/2012/12/P12016)\n",
      "\n",
      "#5. Cosine similarity: 0.732\n",
      " Title: “Satiation in Fisher Markets and Approximation of Nash Social Welfare”. (DOI:None)\n",
      "\n"
     ]
    }
   ],
   "source": [
    "paper_recommend2('Budget Constraints in Prediction Markets')"
   ]
  },
  {
   "cell_type": "code",
   "execution_count": 34,
   "metadata": {},
   "outputs": [
    {
     "name": "stdout",
     "output_type": "stream",
     "text": [
      "\n",
      "Here are the top 5 similar articles that may interest you:\n",
      "--------------------------\n",
      "\n",
      "#1. Cosine similarity: 0.332\n",
      " Title: “Can information be spread as a virus? Viral Marketing as epidemiological\n",
      "  model”. (DOI:10.1002/mma.3783)\n",
      "\n",
      "#2. Cosine similarity: 0.321\n",
      " Title: “Modeling the residential electricity consumption within a restructured\n",
      "  power market”. (DOI:None)\n",
      "\n",
      "#3. Cosine similarity: 0.3\n",
      " Title: “Investigating the effect of competitiveness power in estimating the\n",
      "  average weighted price in electricity market”. (DOI:10.1016/j.tej.2019.106628)\n",
      "\n",
      "#4. Cosine similarity: 0.286\n",
      " Title: “Markets, herding and response to external information”. (DOI:10.1371/journal.pone.0133287)\n",
      "\n",
      "#5. Cosine similarity: 0.284\n",
      " Title: “Improving content marketing processes with the approaches by artificial\n",
      "  intelligence”. (DOI:None)\n",
      "\n"
     ]
    }
   ],
   "source": [
    "#compare the outputs from paper_recommend(), and paper_recommend2()\n",
    "paper_recommend1('Budget Constraints in Prediction Markets')"
   ]
  },
  {
   "cell_type": "markdown",
   "metadata": {},
   "source": [
    "# 6. Conclusions"
   ]
  },
  {
   "cell_type": "markdown",
   "metadata": {},
   "source": [
    "With the exponentially increasing number of scholarly articles, extracting relevant information efficiently becomes a challenge. Recommendation systems provide a means to make the exploration of scholarly articles faster and more accurately, which would of great importance. \n",
    "\n",
    "This project explored the use of basic TF-IDF to build a recommendation engine that takes the title of an article that a user is reading, and returns top 5 related articles that may also interest the user. However, TF-IDF does not capture the semantic meaning, and creates a sparse, high-dimensional feature. Word embeddings create a dense, low-dimensional feature, and captures the semantic meaning quite well. Therefore, we explored the use of TF-IDF Word2Vec to build a similar recommendation engine. \n",
    "\n",
    "Both of the two content-based recommendation engines were able to recommend the top 5 related articles to the article that a user was reading. Substantially higher cosine similarity scores were achieved based on word embeddings. This is probably because word embeddings capture the semantic meaning and create a dense, low-dimensional feature, as compared to basic TF-IDF model. Future improvements would include additional features such as authors, categories of articles, and user-based data."
   ]
  },
  {
   "cell_type": "markdown",
   "metadata": {},
   "source": [
    "# Acknowledgements\n",
    "This work is only possible with the kaggle open-source database - arXiv. I would like to thank Dipanjan Sarkar, and the Springboard team who provided inputs and guidance throughout this project."
   ]
  }
 ],
 "metadata": {
  "kernelspec": {
   "display_name": "Python 3",
   "language": "python",
   "name": "python3"
  },
  "language_info": {
   "codemirror_mode": {
    "name": "ipython",
    "version": 3
   },
   "file_extension": ".py",
   "mimetype": "text/x-python",
   "name": "python",
   "nbconvert_exporter": "python",
   "pygments_lexer": "ipython3",
   "version": "3.7.7"
  }
 },
 "nbformat": 4,
 "nbformat_minor": 4
}
