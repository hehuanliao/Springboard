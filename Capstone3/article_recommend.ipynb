{
 "cells": [
  {
   "cell_type": "markdown",
   "metadata": {},
   "source": [
    "# A content-based recommender system for scientific papers"
   ]
  },
  {
   "cell_type": "markdown",
   "metadata": {},
   "source": [
    "# 1. Introduction"
   ]
  },
  {
   "cell_type": "markdown",
   "metadata": {},
   "source": [
    "This project is part of the data science career track program at Springboard. It focuses on the development of a content-based recommender system for scientific papers using the open source database downloaded from Kaggle (i.e. arXiv). Text wrangling and preprocessing was performed using natural language took lit (nltk) libarary in Python. A recommend engine was developed based on the cosine similarities between abstracts of papers. The recommend engine is able to provide top 5 most similar papers to the paper that a user is reading. With the help of the recommender engine, we can efficiently extract relavant information from numorous scientific papers automatically, which would be of great public interest, especially in the scientific community. "
   ]
  },
  {
   "cell_type": "markdown",
   "metadata": {},
   "source": [
    "## 1.1. Problem identification and impact statement\n",
    "***\n",
    "[arXiv](https://arxiv.org/) is an open-access repository of electronic preprints (i.e. e-prints) of scientific papers, which covers various fields including mathematics, physics, astronomy, computer science, quantitative biology, statistics, and quantitative finance. It is a collaboratively funded, community-supported resource that is maintained and operatted by [Cornell University](https://arxiv.org/about). Since its establishment by Paul Ginsparhg in 1991, arXiv has served the public and research communities by enabling scientists worldwide to share and access research before it is formally published. As of today, arXiv has hosted over 1.7 million scholarly articles. With the exponentially increasing numbers of articles, extracting relavant information efficiently becomes a challenge. Fortunately, it is possible to make the exploration of scholarly articles faster and more accurate, with the help of recommender systems. So far, most recommender systems are available for applications in movie, news, music, and product recommendations. In contrast, relatively fewer efforts have addressed recommendation of scientific papers. \n",
    "\n",
    "Therefore, the Goal of this project is **to develop a recommender system that can present the users with related articles based on the abstract of the article they are reading**\n",
    "\n",
    "> <img align='center' width='200' height='150' src=\"arXiv.jpeg\">"
   ]
  },
  {
   "cell_type": "markdown",
   "metadata": {},
   "source": [
    "## 1.2. Dataset description\n",
    "\n",
    "The dataset is downloaded from [Kaggle](https://www.kaggle.com/Cornell-University/arxiv). Below is a description of each of the 10 attributes: \n",
    "\n",
    "| No. | Variable name | Description |\n",
    "| --- | --- | --- | \n",
    "| 1 | id | ArXiv ID | \n",
    "| 2 | submitter | Who submitted the paper | \n",
    "| 3 | authors | Authors of the paper | \n",
    "| 4 | title | Title of the paper |\n",
    "| 5 | comments | Additional info, such as number of pages and figures |\n",
    "| 6 | journal-ref | Information about the journal the paper was published in |\n",
    "| 7 | doi |[Digital Object Identifier](https://www.doi.org)|\n",
    "| 8 | abstract | The abstract of the paper|\n",
    "| 9 | categories | Categories / tags in the ArXiv system |\n",
    "| 10 | versions | A version history |\n"
   ]
  },
  {
   "cell_type": "markdown",
   "metadata": {},
   "source": [
    "## 1.3. Methdology \n",
    "A general workflow is outlined below: \n",
    "***\n",
    "* Text wrangling, and preprocessing\n",
    "  * Load libraries\n",
    "  * Load data, select and define columns\n",
    "  * Data cleaning: deal with missing values, duplicated entries\n",
    "  * Text preprocessing: \n",
    "    * Remove irrelevant characters (e.g. numbers, punctuation)\n",
    "    * Convert all characters into lowercase\n",
    "    * Tokenization (the process of converting text into individual words - tokens)\n",
    "    * Removing Stopwords (words that are too common and do not qualify for being good keywords for search)\n",
    "    * Lemmatization (converting each word to its lemma word (e.g. ran, running are converted to run) to reduce words of similar roots to similar tokens)\n",
    "    * Remove the words having lenth < 2 \n",
    "    * Convert the list of tokens to string\n",
    "    * Export the cleaned text   \n",
    "* Exploratory Data Analysis (EDA)\n",
    "* Recommendation engine: \n",
    "  * Convert each abstract into vectors using TF-IDF and unigram\n",
    "  * Calculate similarity between all abstracts using cosine similarity\n",
    "  * Define a function that takes abstract as input, and returns the top 5 similar recommended articles based on the abstract\n",
    "* Evaluation??"
   ]
  },
  {
   "cell_type": "markdown",
   "metadata": {},
   "source": [
    "# 2. Text wrangling\n",
    "# 2.1. Load libraries"
   ]
  },
  {
   "cell_type": "code",
   "execution_count": 2,
   "metadata": {},
   "outputs": [],
   "source": [
    "#load basic libraries\n",
    "import os\n",
    "import numpy as np \n",
    "import pandas as pd \n",
    "import json\n",
    "import matplotlib.pyplot as plt\n",
    "import seaborn as sns\n",
    "\n",
    "%matplotlib inline\n",
    "sns.set_style('whitegrid')"
   ]
  },
  {
   "cell_type": "code",
   "execution_count": 3,
   "metadata": {},
   "outputs": [
    {
     "name": "stdout",
     "output_type": "stream",
     "text": [
      "The current working directory is /Users/hhl/Desktop/Springboard062020/Springboard/Capstone3\n"
     ]
    }
   ],
   "source": [
    "cwd = os.getcwd()\n",
    "print('The current working directory is %s' %cwd)"
   ]
  },
  {
   "cell_type": "markdown",
   "metadata": {},
   "source": [
    "# 2.2. Load data, select and define relavant columns"
   ]
  },
  {
   "cell_type": "code",
   "execution_count": 4,
   "metadata": {},
   "outputs": [],
   "source": [
    "#specify the file name\n",
    "filename ='arxiv-metadata-oai-snapshot.json'"
   ]
  },
  {
   "cell_type": "code",
   "execution_count": 5,
   "metadata": {},
   "outputs": [
    {
     "name": "stdout",
     "output_type": "stream",
     "text": [
      "Total No. of articles: 1767485\n"
     ]
    }
   ],
   "source": [
    "#check the total number of articles in the original file\n",
    "with open(filename, 'r') as f:\n",
    "    num_lines = sum(1 for line in f)\n",
    "        \n",
    "print('Total No. of articles: {}'.format(num_lines))"
   ]
  },
  {
   "cell_type": "code",
   "execution_count": 7,
   "metadata": {},
   "outputs": [
    {
     "name": "stdout",
     "output_type": "stream",
     "text": [
      "No. of articles archieved since year 2015: 18118\n"
     ]
    }
   ],
   "source": [
    "#select articles archived since 2015\n",
    "papers = []\n",
    "with open(filename, 'r') as f:\n",
    "    for paper in f:\n",
    "        paper_dict = json.loads(paper)\n",
    "        ref = paper_dict['journal-ref']\n",
    "        try:\n",
    "            year = int(ref[-4:])\n",
    "            if 2015 <= year < 2020:\n",
    "                papers.append({'title':paper_dict['title'],\n",
    "                      'abstract':paper_dict['abstract'],\n",
    "                              'doi':paper_dict['doi']})\n",
    "        except:\n",
    "            pass\n",
    "\n",
    "len(papers)\n",
    "print('No. of articles archieved since year 2015: {}'.format(len(papers)))"
   ]
  },
  {
   "cell_type": "code",
   "execution_count": 8,
   "metadata": {},
   "outputs": [
    {
     "data": {
      "text/html": [
       "<div>\n",
       "<style scoped>\n",
       "    .dataframe tbody tr th:only-of-type {\n",
       "        vertical-align: middle;\n",
       "    }\n",
       "\n",
       "    .dataframe tbody tr th {\n",
       "        vertical-align: top;\n",
       "    }\n",
       "\n",
       "    .dataframe thead th {\n",
       "        text-align: right;\n",
       "    }\n",
       "</style>\n",
       "<table border=\"1\" class=\"dataframe\">\n",
       "  <thead>\n",
       "    <tr style=\"text-align: right;\">\n",
       "      <th></th>\n",
       "      <th>title</th>\n",
       "      <th>abstract</th>\n",
       "      <th>doi</th>\n",
       "    </tr>\n",
       "  </thead>\n",
       "  <tbody>\n",
       "    <tr>\n",
       "      <th>0</th>\n",
       "      <td>Banach-like metrics and metrics of compact sets</td>\n",
       "      <td>We present and study a family of metrics on ...</td>\n",
       "      <td>10.1137/140972512</td>\n",
       "    </tr>\n",
       "    <tr>\n",
       "      <th>1</th>\n",
       "      <td>On the Cohomological Derivation of Yang-Mills ...</td>\n",
       "      <td>We present a brief review of the cohomologic...</td>\n",
       "      <td>10.4236/jhepgc.2017.32031</td>\n",
       "    </tr>\n",
       "    <tr>\n",
       "      <th>2</th>\n",
       "      <td>Geometric Computational Electrodynamics with V...</td>\n",
       "      <td>In this paper, we develop a structure-preser...</td>\n",
       "      <td>10.1007/978-1-4939-2441-7_19</td>\n",
       "    </tr>\n",
       "    <tr>\n",
       "      <th>3</th>\n",
       "      <td>A presentation for the mapping class group of ...</td>\n",
       "      <td>Finite presentations for the mapping class g...</td>\n",
       "      <td>10.1016/j.jpaa.2009.02.009</td>\n",
       "    </tr>\n",
       "    <tr>\n",
       "      <th>4</th>\n",
       "      <td>Regularity of solutions of the isoperimetric p...</td>\n",
       "      <td>In this work we consider a question in the c...</td>\n",
       "      <td>10.1007/s00574-017-0056-6</td>\n",
       "    </tr>\n",
       "  </tbody>\n",
       "</table>\n",
       "</div>"
      ],
      "text/plain": [
       "                                               title  \\\n",
       "0    Banach-like metrics and metrics of compact sets   \n",
       "1  On the Cohomological Derivation of Yang-Mills ...   \n",
       "2  Geometric Computational Electrodynamics with V...   \n",
       "3  A presentation for the mapping class group of ...   \n",
       "4  Regularity of solutions of the isoperimetric p...   \n",
       "\n",
       "                                            abstract  \\\n",
       "0    We present and study a family of metrics on ...   \n",
       "1    We present a brief review of the cohomologic...   \n",
       "2    In this paper, we develop a structure-preser...   \n",
       "3    Finite presentations for the mapping class g...   \n",
       "4    In this work we consider a question in the c...   \n",
       "\n",
       "                            doi  \n",
       "0             10.1137/140972512  \n",
       "1     10.4236/jhepgc.2017.32031  \n",
       "2  10.1007/978-1-4939-2441-7_19  \n",
       "3    10.1016/j.jpaa.2009.02.009  \n",
       "4     10.1007/s00574-017-0056-6  "
      ]
     },
     "execution_count": 8,
     "metadata": {},
     "output_type": "execute_result"
    }
   ],
   "source": [
    "#convert to a dataframe\n",
    "dat = pd.DataFrame(papers)\n",
    "dat.head()"
   ]
  },
  {
   "cell_type": "markdown",
   "metadata": {},
   "source": [
    "# 2.3. Data cleaning: missings, duplicates etc."
   ]
  },
  {
   "cell_type": "code",
   "execution_count": 9,
   "metadata": {},
   "outputs": [
    {
     "name": "stdout",
     "output_type": "stream",
     "text": [
      "<class 'pandas.core.frame.DataFrame'>\n",
      "RangeIndex: 18118 entries, 0 to 18117\n",
      "Data columns (total 3 columns):\n",
      " #   Column    Non-Null Count  Dtype \n",
      "---  ------    --------------  ----- \n",
      " 0   title     18118 non-null  object\n",
      " 1   abstract  18118 non-null  object\n",
      " 2   doi       13485 non-null  object\n",
      "dtypes: object(3)\n",
      "memory usage: 424.8+ KB\n"
     ]
    }
   ],
   "source": [
    "dat.info()"
   ]
  },
  {
   "cell_type": "code",
   "execution_count": 10,
   "metadata": {},
   "outputs": [
    {
     "data": {
      "text/plain": [
       "title          0\n",
       "abstract       0\n",
       "doi         4633\n",
       "dtype: int64"
      ]
     },
     "execution_count": 10,
     "metadata": {},
     "output_type": "execute_result"
    }
   ],
   "source": [
    "#deal with missings\n",
    "dat.isnull().sum()"
   ]
  },
  {
   "cell_type": "code",
   "execution_count": 11,
   "metadata": {},
   "outputs": [
    {
     "data": {
      "text/plain": [
       "9        None\n",
       "11       None\n",
       "17       None\n",
       "18       None\n",
       "19       None\n",
       "         ... \n",
       "18083    None\n",
       "18100    None\n",
       "18101    None\n",
       "18106    None\n",
       "18109    None\n",
       "Name: doi, Length: 4633, dtype: object"
      ]
     },
     "execution_count": 11,
     "metadata": {},
     "output_type": "execute_result"
    }
   ],
   "source": [
    "dat.doi[dat.doi.isnull()]"
   ]
  },
  {
   "cell_type": "code",
   "execution_count": 12,
   "metadata": {},
   "outputs": [
    {
     "data": {
      "text/html": [
       "<div>\n",
       "<style scoped>\n",
       "    .dataframe tbody tr th:only-of-type {\n",
       "        vertical-align: middle;\n",
       "    }\n",
       "\n",
       "    .dataframe tbody tr th {\n",
       "        vertical-align: top;\n",
       "    }\n",
       "\n",
       "    .dataframe thead th {\n",
       "        text-align: right;\n",
       "    }\n",
       "</style>\n",
       "<table border=\"1\" class=\"dataframe\">\n",
       "  <thead>\n",
       "    <tr style=\"text-align: right;\">\n",
       "      <th></th>\n",
       "      <th>title</th>\n",
       "      <th>abstract</th>\n",
       "      <th>doi</th>\n",
       "    </tr>\n",
       "  </thead>\n",
       "  <tbody>\n",
       "  </tbody>\n",
       "</table>\n",
       "</div>"
      ],
      "text/plain": [
       "Empty DataFrame\n",
       "Columns: [title, abstract, doi]\n",
       "Index: []"
      ]
     },
     "execution_count": 12,
     "metadata": {},
     "output_type": "execute_result"
    }
   ],
   "source": [
    "#remove duplicated entries\n",
    "dat[dat.duplicated()]"
   ]
  },
  {
   "cell_type": "markdown",
   "metadata": {},
   "source": [
    "# 3. Text preprocessing \n",
    "   * Remove irrelevant characters (e.g. numbers, punctuation)\n",
    "   * Convert all characters into lowercase\n",
    "   * Tokenization (the process of converting text into individual words - tokens)\n",
    "   * Removing Stopwords (words that are too common and do not qualify for being good keywords for search)\n",
    "   * Lemmatization (converting each word to its lemma word (e.g. ran, running are converted to run) to reduce words of similar roots to similar tokens)\n",
    "   * Remove the words having lenth < 2 \n",
    "   * Convert the list of tokens to string\n",
    "   * Export the cleaned text "
   ]
  },
  {
   "cell_type": "code",
   "execution_count": 13,
   "metadata": {},
   "outputs": [],
   "source": [
    "import re\n",
    "import string\n",
    "\n",
    "import nltk\n",
    "#nltk.download('punkt')\n",
    "from nltk.corpus import stopwords\n",
    "from nltk.tokenize import word_tokenize\n",
    "from nltk.stem import WordNetLemmatizer\n",
    "\n",
    "stop_words = set(stopwords.words('english'))\n",
    "stop_words.remove('no')\n",
    "stop_words.remove('not')\n",
    "lemma = WordNetLemmatizer()\n",
    "\n",
    "#define a function to do above steps, and return clean_abstract\n",
    "def clean_abstract(text):\n",
    "    text = re.sub('[^a-zA-Z]',' ',text)  #remove irrelevant characters (numbers, punctuation)\n",
    "    text = str(text).lower()  #convert all characters into lowercase\n",
    "    text = word_tokenize(text)  #use nltk library for tokenization\n",
    "    text = [w for w in text if w not in stop_words]  #remove Stopwords\n",
    "    text = [lemma.lemmatize(word=w, pos='v') for w in text]  #lemmatization\n",
    "    text = [w for w in text if len(w) > 2]  #remove words having lenth < 2\n",
    "    text = ' '.join(text)  #convert the list of tokens into string\n",
    "    return text\n",
    "\n",
    "dat['clean_abstract'] = dat['abstract'].apply(func = clean_abstract)"
   ]
  },
  {
   "cell_type": "code",
   "execution_count": 14,
   "metadata": {},
   "outputs": [
    {
     "data": {
      "text/plain": [
       "'present study family metrics space compact subsets call shape metrics geometric independent rotation translation metrics enjoy many interest properties example existence minimal geodesics view space shape subset banach hilbert manifold define tangent manifold shape weak form talk riemannian geometry shape metrics propose topologically equivalent hausdorff metric time regular since hope local uniqueness minimal geodesics also study properties metrics obtain isometrically identify generic metric space subset banach space obtain rigidity result'"
      ]
     },
     "execution_count": 14,
     "metadata": {},
     "output_type": "execute_result"
    }
   ],
   "source": [
    "dat['clean_abstract'][0]"
   ]
  },
  {
   "cell_type": "code",
   "execution_count": 15,
   "metadata": {},
   "outputs": [],
   "source": [
    "# export the cleaned data\n",
    "dat.to_csv('dat_clean.csv',index=False)"
   ]
  },
  {
   "cell_type": "markdown",
   "metadata": {},
   "source": [
    "# 4. Exploratory Data Analyses (EDA)"
   ]
  },
  {
   "cell_type": "code",
   "execution_count": 16,
   "metadata": {},
   "outputs": [
    {
     "data": {
      "text/html": [
       "<div>\n",
       "<style scoped>\n",
       "    .dataframe tbody tr th:only-of-type {\n",
       "        vertical-align: middle;\n",
       "    }\n",
       "\n",
       "    .dataframe tbody tr th {\n",
       "        vertical-align: top;\n",
       "    }\n",
       "\n",
       "    .dataframe thead th {\n",
       "        text-align: right;\n",
       "    }\n",
       "</style>\n",
       "<table border=\"1\" class=\"dataframe\">\n",
       "  <thead>\n",
       "    <tr style=\"text-align: right;\">\n",
       "      <th></th>\n",
       "      <th>title</th>\n",
       "      <th>abstract</th>\n",
       "      <th>doi</th>\n",
       "      <th>clean_abstract</th>\n",
       "    </tr>\n",
       "  </thead>\n",
       "  <tbody>\n",
       "    <tr>\n",
       "      <th>0</th>\n",
       "      <td>Banach-like metrics and metrics of compact sets</td>\n",
       "      <td>We present and study a family of metrics on ...</td>\n",
       "      <td>10.1137/140972512</td>\n",
       "      <td>present study family metrics space compact sub...</td>\n",
       "    </tr>\n",
       "    <tr>\n",
       "      <th>1</th>\n",
       "      <td>On the Cohomological Derivation of Yang-Mills ...</td>\n",
       "      <td>We present a brief review of the cohomologic...</td>\n",
       "      <td>10.4236/jhepgc.2017.32031</td>\n",
       "      <td>present brief review cohomological solutions s...</td>\n",
       "    </tr>\n",
       "    <tr>\n",
       "      <th>2</th>\n",
       "      <td>Geometric Computational Electrodynamics with V...</td>\n",
       "      <td>In this paper, we develop a structure-preser...</td>\n",
       "      <td>10.1007/978-1-4939-2441-7_19</td>\n",
       "      <td>paper develop structure preserve discretizatio...</td>\n",
       "    </tr>\n",
       "    <tr>\n",
       "      <th>3</th>\n",
       "      <td>A presentation for the mapping class group of ...</td>\n",
       "      <td>Finite presentations for the mapping class g...</td>\n",
       "      <td>10.1016/j.jpaa.2009.02.009</td>\n",
       "      <td>finite presentations map class group know arbi...</td>\n",
       "    </tr>\n",
       "    <tr>\n",
       "      <th>4</th>\n",
       "      <td>Regularity of solutions of the isoperimetric p...</td>\n",
       "      <td>In this work we consider a question in the c...</td>\n",
       "      <td>10.1007/s00574-017-0056-6</td>\n",
       "      <td>work consider question calculus variations mot...</td>\n",
       "    </tr>\n",
       "  </tbody>\n",
       "</table>\n",
       "</div>"
      ],
      "text/plain": [
       "                                               title  \\\n",
       "0    Banach-like metrics and metrics of compact sets   \n",
       "1  On the Cohomological Derivation of Yang-Mills ...   \n",
       "2  Geometric Computational Electrodynamics with V...   \n",
       "3  A presentation for the mapping class group of ...   \n",
       "4  Regularity of solutions of the isoperimetric p...   \n",
       "\n",
       "                                            abstract  \\\n",
       "0    We present and study a family of metrics on ...   \n",
       "1    We present a brief review of the cohomologic...   \n",
       "2    In this paper, we develop a structure-preser...   \n",
       "3    Finite presentations for the mapping class g...   \n",
       "4    In this work we consider a question in the c...   \n",
       "\n",
       "                            doi  \\\n",
       "0             10.1137/140972512   \n",
       "1     10.4236/jhepgc.2017.32031   \n",
       "2  10.1007/978-1-4939-2441-7_19   \n",
       "3    10.1016/j.jpaa.2009.02.009   \n",
       "4     10.1007/s00574-017-0056-6   \n",
       "\n",
       "                                      clean_abstract  \n",
       "0  present study family metrics space compact sub...  \n",
       "1  present brief review cohomological solutions s...  \n",
       "2  paper develop structure preserve discretizatio...  \n",
       "3  finite presentations map class group know arbi...  \n",
       "4  work consider question calculus variations mot...  "
      ]
     },
     "execution_count": 16,
     "metadata": {},
     "output_type": "execute_result"
    }
   ],
   "source": [
    "dat.head()"
   ]
  },
  {
   "cell_type": "code",
   "execution_count": 17,
   "metadata": {},
   "outputs": [
    {
     "data": {
      "text/plain": [
       "count    18118.000000\n",
       "mean        92.736505\n",
       "std         37.582810\n",
       "min          3.000000\n",
       "25%         65.000000\n",
       "50%         91.000000\n",
       "75%        119.000000\n",
       "max        262.000000\n",
       "Name: word_count, dtype: float64"
      ]
     },
     "execution_count": 17,
     "metadata": {},
     "output_type": "execute_result"
    }
   ],
   "source": [
    "#what is the range of the count of words in each abstract after cleaning? \n",
    "word_count=[]\n",
    "for abstract in dat['clean_abstract']:\n",
    "    word_count.append(len(abstract.split()))\n",
    "dat['word_count'] = word_count\n",
    "dat.word_count.describe()"
   ]
  },
  {
   "cell_type": "code",
   "execution_count": 22,
   "metadata": {},
   "outputs": [
    {
     "data": {
      "image/png": "[encoded data removed]",
      "text/plain": [
       "<Figure size 648x432 with 1 Axes>"
      ]
     },
     "metadata": {},
     "output_type": "display_data"
    }
   ],
   "source": [
    "dat['word_count'].plot(kind='hist',bins=30,figsize=(9,6))\n",
    "plt.xlabel('No. of words')\n",
    "plt.ylabel('Frequency')\n",
    "plt.show()"
   ]
  },
  {
   "cell_type": "markdown",
   "metadata": {},
   "source": [
    "#what are the top 50 most frequent words among all abstracts?\n",
    "from collections import Counter\n",
    "words =[]\n",
    "for abstract in dat['clean_abstract']:\n",
    "    words=words+abstract.split(' ')\n",
    "    \n",
    "word_count_all = Counter(words)\n",
    "top50 = pd.DataFrame(word_count_all.most_common(50))"
   ]
  },
  {
   "cell_type": "markdown",
   "metadata": {},
   "source": [
    "# 5. Recommendation engine\n",
    "  * Convert each abstract into vectors using TF-IDF \n",
    "  * Calculate similarity between all abstracts using cosine similarity\n",
    "  * Define a function that takes abstract as input, and returns the top 5 similar recommended articles based on the abstract"
   ]
  },
  {
   "cell_type": "code",
   "execution_count": 23,
   "metadata": {},
   "outputs": [],
   "source": [
    "#convert abstract into vectors using TF-IDF\n",
    "from sklearn.feature_extraction.text import TfidfVectorizer\n",
    "tfidf_count_vec = TfidfVectorizer(analyzer='word', norm='l2')\n",
    "tfidf_count_occurs = tfidf_count_vec.fit_transform(dat['clean_abstract'])\n",
    "tfidf_count_occur_df = pd.DataFrame(\n",
    "    (count, word) for word, count in zip(\n",
    "    tfidf_count_occurs.toarray().tolist()[0],   \n",
    "    tfidf_count_vec.get_feature_names()))\n",
    "tfidf_count_occur_df.columns = ['Word', 'Count']\n",
    "tfidf_count_occur_df.sort_values('Count', ascending=False, inplace=True)\n",
    "tfidf_count_occur_df.head()\n",
    "\n",
    "#calculate cosine_similarity\n",
    "from sklearn.metrics.pairwise import cosine_similarity\n",
    "sg = cosine_similarity(tfidf_count_occurs, tfidf_count_occurs)\n",
    "\n",
    "#define a fuction recommend() to return the top 5 similar articles\n",
    "def article_recommend(title):\n",
    "    indices = pd.Series(dat.index,index=dat['title'])\n",
    "    idx = indices[title]\n",
    "    sig = list(enumerate(sg[idx]))\n",
    "    sig = sorted(sig, key=lambda x: x[1], reverse=True)\n",
    "    sig = sig[1:6]\n",
    "    paper_indices = [i[0] for i in sig]\n",
    "    rec = dat[['title']].iloc[paper_indices]\n",
    "    print('\\nHere are the top 5 similar articles that may interest you:')\n",
    "    print('--------------------------\\n')\n",
    "    for n,i in enumerate(sig):\n",
    "        print('#{}.'.format(n+1), 'Title: “{}”.'.format(dat['title'][i[0]]),'(DOI:{})\\n'.format(dat['doi'][i[0]]))\n",
    "        "
   ]
  },
  {
   "cell_type": "code",
   "execution_count": 24,
   "metadata": {},
   "outputs": [
    {
     "name": "stdout",
     "output_type": "stream",
     "text": [
      "\n",
      "Here are the top 5 similar articles that may interest you:\n",
      "--------------------------\n",
      "\n",
      "#1. Title: “Efficient PDE constrained shape optimization based on Steklov-Poincar\\'e\n",
      "  type metrics”. (DOI:10.1137/15M1029369)\n",
      "\n",
      "#2. Title: “A Locally Weighted Fixation Density-Based Metric for Assessing the\n",
      "  Quality of Visual Saliency Predictions”. (DOI:10.1109/TIP.2016.2577498)\n",
      "\n",
      "#3. Title: “Sparse Geometric Representation Through Local Shape Probing”. (DOI:10.1109/TVCG.2017.2719024)\n",
      "\n",
      "#4. Title: “Hexagonal geodesic 3-webs”. (DOI:None)\n",
      "\n",
      "#5. Title: “Common Metrics to Benchmark Human-Machine Teams (HMT): A Review”. (DOI:10.1109/ACCESS.2018.2853560)\n",
      "\n"
     ]
    }
   ],
   "source": [
    "article_recommend('Banach-like metrics and metrics of compact sets')"
   ]
  },
  {
   "cell_type": "code",
   "execution_count": null,
   "metadata": {},
   "outputs": [],
   "source": []
  }
 ],
 "metadata": {
  "kernelspec": {
   "display_name": "Python 3",
   "language": "python",
   "name": "python3"
  },
  "language_info": {
   "codemirror_mode": {
    "name": "ipython",
    "version": 3
   },
   "file_extension": ".py",
   "mimetype": "text/x-python",
   "name": "python",
   "nbconvert_exporter": "python",
   "pygments_lexer": "ipython3",
   "version": "3.7.7"
  }
 },
 "nbformat": 4,
 "nbformat_minor": 4
}
